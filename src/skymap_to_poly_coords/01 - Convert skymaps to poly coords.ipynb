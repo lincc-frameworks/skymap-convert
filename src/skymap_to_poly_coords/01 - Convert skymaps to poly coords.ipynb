{
 "cells": [
  {
   "cell_type": "markdown",
   "id": "e1f14860",
   "metadata": {},
   "source": [
    "# Convert skymaps to poly coords"
   ]
  },
  {
   "cell_type": "markdown",
   "id": "d6b49af3",
   "metadata": {},
   "source": [
    "## Read raw skymap files"
   ]
  },
  {
   "cell_type": "code",
   "execution_count": null,
   "id": "27c76581",
   "metadata": {},
   "outputs": [],
   "source": [
    "import pickle\n",
    "from pathlib import Path\n",
    "import math"
   ]
  },
  {
   "cell_type": "code",
   "execution_count": null,
   "id": "42f87d19",
   "metadata": {},
   "outputs": [],
   "source": [
    "home_dir = \"/sdf/home/o/olynn/\"\n",
    "raw_skymaps_dir = Path(home_dir, \"skymap-to-poly-coords\", \"tests\", \"data\", \"raw-skymaps\")"
   ]
  },
  {
   "cell_type": "code",
   "execution_count": null,
   "id": "a0160d0b",
   "metadata": {},
   "outputs": [],
   "source": [
    "skymap_path = raw_skymaps_dir / \"skyMap_lsst_cells_v1_skymaps.pickle\"\n",
    "with open(skymap_path, \"rb\") as f:\n",
    "    lsst_skymap = pickle.load(f)\n",
    "lsst_skymap"
   ]
  },
  {
   "cell_type": "markdown",
   "id": "fa035967",
   "metadata": {},
   "source": [
    "## Rings sky map pixelization\n",
    "*From the RingsSkyMap docstring in lsst.skymap:*\n",
    "\n",
    "We divide the sphere into N rings of Declination, plus the two polar\n",
    "caps, which sets the size of the individual tracts.  The rings are\n",
    "divided in RA into an integral number of tracts of this size; this\n",
    "division is made at the Declination closest to zero so as to ensure\n",
    "full overlap.\n",
    "\n",
    "Rings are numbered in the rings from south to north. The south pole cap is\n",
    "``tract=0``, then the tract at ``raStart`` in the southernmost ring is\n",
    "``tract=1``. Numbering continues (in the positive RA direction) around that\n",
    "ring and then continues in the same fashion with the next ring north, and\n",
    "so on until all reaching the north pole cap, which is\n",
    "``tract=len(skymap) - 1``.\n",
    "\n",
    "However, ``version=0`` had a bug in the numbering of the tracts: the first\n",
    "and last tracts in the first (southernmost) ring were identical, and the\n",
    "first tract in the last (northernmost) ring was missing. When using\n",
    "``version=0``, these tracts remain missing in order to preserve the\n",
    "numbering scheme."
   ]
  },
  {
   "cell_type": "markdown",
   "id": "3dd19aae",
   "metadata": {},
   "source": [
    "## Get poly coords"
   ]
  },
  {
   "cell_type": "code",
   "execution_count": null,
   "id": "0cd96d07",
   "metadata": {},
   "outputs": [],
   "source": [
    "skymap = lsst_skymap"
   ]
  },
  {
   "cell_type": "code",
   "execution_count": null,
   "id": "c082bf9f",
   "metadata": {},
   "outputs": [],
   "source": [
    "#print(\"Size of a ring in Declination (radians):\", skymap._ringSize)\n",
    "print(\"Number of tracts:\", skymap._numTracts)\n",
    "print(\"Number of rings:\", skymap.config.numRings)\n",
    "print(\"Starting center RA for each ring (degrees):\", skymap.config.raStart)"
   ]
  },
  {
   "cell_type": "code",
   "execution_count": null,
   "id": "724459a5",
   "metadata": {},
   "outputs": [],
   "source": [
    "\", \".join(str(rN) for rN in skymap._ringNums)  # Number of tracts for each ring"
   ]
  },
  {
   "cell_type": "code",
   "execution_count": null,
   "id": "d68406ee",
   "metadata": {},
   "outputs": [],
   "source": [
    "ring_bounds = []\n",
    "print(f\"{len(skymap._ringNums)} rings\")\n",
    "for i in range(skymap.config.numRings + 1):\n",
    "        startDec = skymap._ringSize*(i + 0.5) - 0.5*math.pi\n",
    "        stopDec = startDec + skymap._ringSize\n",
    "        if i < skymap.config.numRings:\n",
    "            print(f\"Ring {i}: {startDec:.3f} to {stopDec:.3f} radians\")"
   ]
  },
  {
   "cell_type": "markdown",
   "id": "70791d9e",
   "metadata": {},
   "source": [
    "## Plotting"
   ]
  },
  {
   "cell_type": "code",
   "execution_count": null,
   "id": "53966d82",
   "metadata": {},
   "outputs": [],
   "source": [
    "# ring_size_radians = math.pi / (skymap.config.numRings + 1)  # Size of a ring in Declination (radians)\n",
    "# ring_size_degrees = ring_size_radians * (180 / math.pi)\n",
    "# print(\"Size of a ring in Declination (degrees):\", ring_size_degrees)\n",
    "\n",
    "#height = skymap._ringSize * (180 / math.pi) * u.deg  # Convert radians to degrees"
   ]
  },
  {
   "cell_type": "code",
   "execution_count": null,
   "id": "35763b24",
   "metadata": {},
   "outputs": [],
   "source": [
    "import astropy.units as u \n",
    "import matplotlib.pyplot as plt\n",
    "from astropy.visualization.wcsaxes.frame import EllipticalFrame\n",
    "from astropy.visualization.wcsaxes import Quadrangle\n",
    "from astropy.coordinates import Angle, SkyCoord\n",
    "from mocpy import WCS, MOC"
   ]
  },
  {
   "cell_type": "code",
   "execution_count": null,
   "id": "01d85b63",
   "metadata": {},
   "outputs": [],
   "source": [
    "kwargs = {\n",
    "    \"figsize\": (9, 5),\n",
    "}\n",
    "projection = \"MOL\"\n",
    "fig = plt.figure(**kwargs)\n",
    "frame_class = EllipticalFrame\n",
    "fov = (320 * u.deg, 160 * u.deg)\n",
    "center = SkyCoord(0, 0, unit=\"deg\", frame=\"icrs\")\n",
    "wcs = WCS(\n",
    "    fig,\n",
    "    fov=fov,\n",
    "    center=center,\n",
    "    coordsys=\"icrs\",\n",
    "    rotation=Angle(0, u.degree),\n",
    "    projection=projection,\n",
    ").w\n",
    "\n",
    "ax = fig.add_subplot(1, 1, 1, projection=wcs, frame_class=frame_class)\n",
    "\n",
    "# anchor = (0.0 * u.deg, 0.0 * u.deg)\n",
    "# height = 60.0 * u.deg\n",
    "# width = 120.0 * u.deg\n",
    "\n",
    "# quad = Quadrangle(\n",
    "#     anchor=anchor,\n",
    "#     height=height,\n",
    "#     width=width,\n",
    "#     edgecolor=\"red\",\n",
    "#     facecolor=\"orange\",\n",
    "#     alpha=0.5\n",
    "# )\n",
    "\n",
    "# plt.grid()\n",
    "# plt.ylabel(\"Dec\")\n",
    "# plt.xlabel(\"RA\")\n",
    "# plt.title(\"\")\n",
    "# plt.show()\n"
   ]
  },
  {
   "cell_type": "code",
   "execution_count": null,
   "id": "84a59b04",
   "metadata": {},
   "outputs": [],
   "source": []
  }
 ],
 "metadata": {
  "kernelspec": {
   "display_name": "Python 3 (ipykernel)",
   "language": "python",
   "name": "python3"
  },
  "language_info": {
   "codemirror_mode": {
    "name": "ipython",
    "version": 3
   },
   "file_extension": ".py",
   "mimetype": "text/x-python",
   "name": "python",
   "nbconvert_exporter": "python",
   "pygments_lexer": "ipython3",
   "version": "3.12.9"
  }
 },
 "nbformat": 4,
 "nbformat_minor": 5
}
