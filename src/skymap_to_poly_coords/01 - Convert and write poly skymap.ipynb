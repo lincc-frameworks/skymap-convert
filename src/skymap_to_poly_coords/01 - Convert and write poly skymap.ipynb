{
 "cells": [
  {
   "cell_type": "markdown",
   "id": "06012870",
   "metadata": {},
   "source": [
    "# Storing skymaps"
   ]
  },
  {
   "cell_type": "markdown",
   "id": "c38f9b28",
   "metadata": {},
   "source": [
    "## Read raw skymap files"
   ]
  },
  {
   "cell_type": "code",
   "execution_count": 2,
   "id": "b046e4b1",
   "metadata": {},
   "outputs": [],
   "source": [
    "import pickle\n",
    "from pathlib import Path\n",
    "import math\n",
    "import numpy as np\n",
    "from lsst.sphgeom import Box, ConvexPolygon, LonLat, UnitVector3d\n",
    "import yaml\n",
    "from skymap_to_poly_coords import load_pickle_skymap\n"
   ]
  },
  {
   "cell_type": "code",
   "execution_count": 3,
   "id": "3c3fbfcf",
   "metadata": {},
   "outputs": [],
   "source": [
    "package_root = Path.home() / \"skymap-to-poly-coords\"\n",
    "\n",
    "raw_skymaps_dir = package_root / \"tests\" / \"data\" / \"raw_skymaps\"\n",
    "skymap_path = raw_skymaps_dir / \"skyMap_lsst_cells_v1_skymaps.pickle\"\n",
    "\n",
    "skymap_out_dir = package_root / \"skymaps_out\"\n",
    "inner_poly_path = skymap_out_dir / \"inner_polygons.yaml\"\n",
    "outer_poly_path = skymap_out_dir / \"outer_polygons.yaml\""
   ]
  },
  {
   "cell_type": "code",
   "execution_count": 4,
   "id": "05d997ac",
   "metadata": {},
   "outputs": [
    {
     "data": {
      "text/plain": [
       "<lsst.skymap.ringsSkyMap.RingsSkyMap at 0x7ff3d0e84da0>"
      ]
     },
     "execution_count": 4,
     "metadata": {},
     "output_type": "execute_result"
    }
   ],
   "source": [
    "lsst_skymap = load_pickle_skymap(skymap_path)\n",
    "lsst_skymap"
   ]
  },
  {
   "cell_type": "markdown",
   "id": "3ce11262",
   "metadata": {},
   "source": [
    "## A note on rings sky map pixelization \n",
    "*(in html comment in this cell)*\n",
    "<!---## Rings sky map pixelization\n",
    "*From the RingsSkyMap docstring in lsst.skymap:*\n",
    "\n",
    "We divide the sphere into N rings of Declination, plus the two polar\n",
    "caps, which sets the size of the individual tracts.  The rings are\n",
    "divided in RA into an integral number of tracts of this size; this\n",
    "division is made at the Declination closest to zero so as to ensure\n",
    "full overlap.\n",
    "\n",
    "Rings are numbered in the rings from south to north. The south pole cap is\n",
    "``tract=0``, then the tract at ``raStart`` in the southernmost ring is\n",
    "``tract=1``. Numbering continues (in the positive RA direction) around that\n",
    "ring and then continues in the same fashion with the next ring north, and\n",
    "so on until all reaching the north pole cap, which is\n",
    "``tract=len(skymap) - 1``.\n",
    "\n",
    "However, ``version=0`` had a bug in the numbering of the tracts: the first\n",
    "and last tracts in the first (southernmost) ring were identical, and the\n",
    "first tract in the last (northernmost) ring was missing. When using\n",
    "``version=0``, these tracts remain missing in order to preserve the\n",
    "numbering scheme.--->"
   ]
  },
  {
   "cell_type": "markdown",
   "id": "1484abc1",
   "metadata": {},
   "source": [
    "## Storage options\n"
   ]
  },
  {
   "cell_type": "markdown",
   "id": "22b853ab",
   "metadata": {},
   "source": [
    "We would like to support both inner and outer polygons for the tracts.  \n",
    "\n",
    "Tracts are arranged in \"rings\", which span horizontal regions of the sky.\n",
    "\n",
    "→ Inner polys:\n",
    "- represent the exact boundaries of a given tract\n",
    "- do not overlap\n",
    "\n",
    "→ Outer polys:\n",
    "- may (will?) overlap with adjacent tracts' outer polys\n",
    "- are akin to margins in HATS catalogs"
   ]
  },
  {
   "cell_type": "markdown",
   "id": "bd4bddbd",
   "metadata": {},
   "source": [
    "## Option 1: Two YAML files (inner polys and outer polys) that store each tracts' corners"
   ]
  },
  {
   "cell_type": "markdown",
   "id": "4115a76a",
   "metadata": {},
   "source": [
    "#### Inner polys/outer polys:\n",
    "- Store per-tract: `ra_min`, `ra_max`, `dec_min`, `dec_max`\n",
    "- Comes directly from `getRaDecRange(tract_index)`\n",
    "- Requires 4 floats per tract, so for ~19k tracts:\n",
    "  4 × 8 B × 19,000 ≈ ~600 KB (before YAML overhead; ~1–1.5 MB total)\n",
    "- However, could compress to a `.npz` of around ~0.5–0.8 MB\n",
    "\n",
    "#### Pros\n",
    "- Easy to understand and verify\n",
    "- Doesn’t require any LSST WCS machinery\n",
    "- Reading is fast + LSST-free\n",
    "\n",
    "#### Cons\n",
    "- Disk usage\n",
    "- Less precise because of floating points?\n",
    "- Storing patches is gonna go crazy on this. Better to iterate to a more performant version for that."
   ]
  },
  {
   "cell_type": "markdown",
   "id": "4f9c2aa5",
   "metadata": {},
   "source": [
    "### Write inner_poly and outer_poly files"
   ]
  },
  {
   "cell_type": "code",
   "execution_count": 4,
   "id": "e233941c",
   "metadata": {},
   "outputs": [],
   "source": [
    "from skymap_to_poly_coords import write_polygons_ra_dec\n",
    "\n",
    "\n",
    "write_polygons_ra_dec(lsst_skymap, inner_poly_path, inner=True)\n",
    "write_polygons_ra_dec(lsst_skymap, outer_poly_path, inner=False)"
   ]
  },
  {
   "cell_type": "markdown",
   "id": "eca14065",
   "metadata": {},
   "source": [
    "## Option 2: Reconstruct everything using projection + geometry"
   ]
  },
  {
   "cell_type": "markdown",
   "id": "3f58b787",
   "metadata": {},
   "source": [
    "### Things to store:\n",
    "#### Global:\n",
    "  - `projection: \"TAN\"`\n",
    "  - `pixel_scale_deg`: (or arcsec/pixel)\n",
    "  - `tract_width`, `tract_height`: in pixels\n",
    "  - `overlap_deg`: or overlap in pixels (need this for inner bounds)\n",
    "\n",
    "#### Per-tract:\n",
    "  - `tract_id`\n",
    "  - `center_ra`, `center_dec`\n",
    "  - `rotation` (optional, usually 0)\n",
    "  - `flipX` (optional, for WCS handedness)\n",
    "\n",
    "### Then, you reconstruct inner and outer polys by:\n",
    "- Creating a fake `SkyWcs` from these params\n",
    "- Converting pixel corners of `[0,0]` → `[width,height]` to sky coordinates\n",
    "- Optionally applying overlap trimming in pixel space\n",
    "\n",
    "### Pros\n",
    "- Super compact: ~2 floats + a few constants per tract\n",
    "- Elegant reuse of LSST projection machinery\n",
    "- One unified format\n",
    "\n",
    "### Cons\n",
    "- Requires LSST-style WCS math to reconstruct accurately\n",
    "- Makes assumptions about projection type and tract uniformity\n",
    "- Harder to read/debug"
   ]
  },
  {
   "cell_type": "markdown",
   "id": "b0859316",
   "metadata": {},
   "source": [
    "## Option 3: hybrid; store per-ring Dec data, and per-tract RA data\n",
    "### Similar principle with patches--each row of patches will act as its own \"patch ring\" with shared Dec"
   ]
  },
  {
   "cell_type": "markdown",
   "id": "b9da4b95",
   "metadata": {},
   "source": [
    "Can we make this assumption, or does it break down with projection distortions near the poles, rounding errors, or other confounding factors?\n",
    "\n",
    "### Let's confirm two things:\n",
    "1. Are the dec_min and dec_max values exactly the same for all tracts in a given ring?\n",
    "2. Can each tract polygon be reconstructed from just the ring’s declination bounds and the tract’s RA vertex list?"
   ]
  },
  {
   "cell_type": "markdown",
   "id": "e7f5bbc4",
   "metadata": {},
   "source": [
    "### Assumption 1: dec_min and dec_max are exactly the same for all tracts in a ring (✓)\n",
    "(within floating point imprecision)"
   ]
  },
  {
   "cell_type": "code",
   "execution_count": 10,
   "id": "92b1c72a",
   "metadata": {},
   "outputs": [
    {
     "name": "stdout",
     "output_type": "stream",
     "text": [
      "→ Found 122 rings with 18938 tracts.\n"
     ]
    }
   ],
   "source": [
    "import yaml\n",
    "from pathlib import Path\n",
    "\n",
    "yaml_path = inner_poly_path  # todo check outers also\n",
    "\n",
    "# Load YAML\n",
    "with open(yaml_path, \"r\") as f:\n",
    "    data = yaml.safe_load(f)\n",
    "\n",
    "# Parse and sort tracts\n",
    "tract_items = sorted(data[\"tracts\"].items(), key=lambda x: int(x[0]))\n",
    "\n",
    "rings = []\n",
    "current_ring = []\n",
    "last_dec_bounds = None\n",
    "\n",
    "for tract_id_str, entry in tract_items:\n",
    "    tract_id = int(tract_id_str)\n",
    "    polygon = entry.get(\"polygon\")\n",
    "\n",
    "    if polygon is None:\n",
    "        print(f\"Skipping degenerate tract {tract_id} with no polygon data.\")\n",
    "        continue\n",
    "\n",
    "    decs = [point[1] for point in polygon]\n",
    "\n",
    "    # Collect rounded decs to eliminate fp imprecision\n",
    "    unique_decs = {round(d, 12) for d in decs}\n",
    "    if len(unique_decs) > 2:\n",
    "        raise ValueError(f\"⚠️ Tract {tract_id} has {len(unique_decs)} unique Decs: {sorted(unique_decs)}\")\n",
    "\n",
    "    # Generate bounds for declination\n",
    "    dec_min = round(min(decs), 12)\n",
    "    dec_max = round(max(decs), 12)\n",
    "    dec_bounds = (dec_min, dec_max)\n",
    "\n",
    "    if last_dec_bounds is None:\n",
    "        # First ring\n",
    "        last_dec_bounds = dec_bounds\n",
    "\n",
    "    if dec_bounds != last_dec_bounds:\n",
    "        # New ring starts\n",
    "        rings.append((last_dec_bounds, current_ring))\n",
    "        current_ring = [tract_id]\n",
    "        last_dec_bounds = dec_bounds\n",
    "    else:\n",
    "        current_ring.append(tract_id)\n",
    "\n",
    "# Append the last ring\n",
    "if current_ring:\n",
    "    rings.append((last_dec_bounds, current_ring))\n",
    "\n",
    "# Report\n",
    "verbose = False\n",
    "if verbose:\n",
    "    for i, (bounds, tracts) in enumerate(rings):\n",
    "        print(f\"→ Ring {i}: dec_min/max = {bounds}, tracts = {tracts[0]} to {tracts[-1]}, total = {len(tracts)}\")\n",
    "else:\n",
    "    print(f\"→ Found {len(rings)} rings with {sum(len(r[1]) for r in rings)} tracts.\")"
   ]
  },
  {
   "cell_type": "markdown",
   "id": "41c77f2e",
   "metadata": {},
   "source": [
    "### Assumption 2: Each tract polygon can be reconstructed from just the ring’s declination bounds and the tract’s RA vertex list"
   ]
  },
  {
   "cell_type": "markdown",
   "id": "36b9d6e7",
   "metadata": {},
   "source": []
  }
 ],
 "metadata": {
  "kernelspec": {
   "display_name": "Python 3 (ipykernel)",
   "language": "python",
   "name": "python3"
  },
  "language_info": {
   "codemirror_mode": {
    "name": "ipython",
    "version": 3
   },
   "file_extension": ".py",
   "mimetype": "text/x-python",
   "name": "python",
   "nbconvert_exporter": "python",
   "pygments_lexer": "ipython3",
   "version": "3.12.9"
  }
 },
 "nbformat": 4,
 "nbformat_minor": 5
}
