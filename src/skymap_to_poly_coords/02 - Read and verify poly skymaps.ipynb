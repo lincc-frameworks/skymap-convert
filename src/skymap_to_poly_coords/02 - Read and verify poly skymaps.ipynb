{
 "cells": [
  {
   "cell_type": "markdown",
   "id": "06012870",
   "metadata": {},
   "source": [
    "# Storing skymaps"
   ]
  },
  {
   "cell_type": "markdown",
   "id": "c38f9b28",
   "metadata": {},
   "source": [
    "## Read raw skymap files"
   ]
  },
  {
   "cell_type": "code",
   "execution_count": null,
   "id": "b046e4b1",
   "metadata": {},
   "outputs": [],
   "source": [
    "import pickle\n",
    "from pathlib import Path\n",
    "import math\n",
    "import numpy as np\n",
    "\n",
    "\n",
    "from lsst.sphgeom import Box, ConvexPolygon, UnitVector3d\n",
    "from math import pi\n",
    "from lsst.sphgeom import LonLat, UnitVector3d, ConvexPolygon\n",
    "import yaml\n",
    "from lsst.sphgeom import UnitVector3d, ConvexPolygon\n",
    "from skymap_to_poly_coords import load_pickle_skymap"
   ]
  },
  {
   "cell_type": "code",
   "execution_count": null,
   "id": "3c3fbfcf",
   "metadata": {},
   "outputs": [
    {
     "data": {
      "text/plain": [
       "<lsst.skymap.ringsSkyMap.RingsSkyMap at 0x7fb3b40ecd70>"
      ]
     },
     "execution_count": 9,
     "metadata": {},
     "output_type": "execute_result"
    }
   ],
   "source": [
    "home_dir = Path.home() \n",
    "raw_skymaps_dir = home_dir / \"skymap-to-poly-coords\" / \"tests\" / \"data\" / \"raw_skymaps\"\n",
    "skymap_path = raw_skymaps_dir / \"skyMap_lsst_cells_v1_skymaps.pickle\"\n",
    "\n",
    "lsst_skymap = load_pickle_skymap(skymap_path)\n",
    "lsst_skymap"
   ]
  },
  {
   "cell_type": "markdown",
   "id": "4e89bd8f",
   "metadata": {},
   "source": [
    "## Read inner_poly and outer_poly"
   ]
  },
  {
   "cell_type": "code",
   "execution_count": 12,
   "id": "3f7e50e9",
   "metadata": {},
   "outputs": [
    {
     "name": "stdout",
     "output_type": "stream",
     "text": [
      "⚠️ Storing `None` for degenerate tract 0\n",
      "⚠️ Storing `None` for degenerate tract 18937\n",
      "✅ Loaded 18938 tract polygons from /sdf/home/o/olynn/skymap-to-poly-coords/skymaps_out/inner_polys.yaml\n",
      "✅ Loaded 18938 tract polygons from /sdf/home/o/olynn/skymap-to-poly-coords/skymaps_out/outer_polys.yaml\n"
     ]
    }
   ],
   "source": [
    "from skymap_to_poly_coords import load_polygons_ra_dec\n",
    "\n",
    "skymap_out_dir = \"/sdf/home/o/olynn/skymap-to-poly-coords/skymaps_out/\"\n",
    "inner_poly_path = Path(skymap_out_dir) / \"inner_polys.yaml\"\n",
    "outer_poly_path = Path(skymap_out_dir) / \"outer_polys.yaml\"\n",
    "\n",
    "inner_poly_map = load_polygons_ra_dec(inner_poly_path)\n",
    "outer_poly_map = load_polygons_ra_dec(outer_poly_path)"
   ]
  },
  {
   "cell_type": "code",
   "execution_count": 13,
   "id": "7534eedf",
   "metadata": {},
   "outputs": [],
   "source": [
    "# Just patch the polar caps in for now (todo)\n",
    "\n",
    "from skymap_to_poly_coords.test_utils import get_poly_from_tract_id\n",
    "\n",
    "inner_poly_map[0] = get_poly_from_tract_id(lsst_skymap, 0, inner=True)\n",
    "inner_poly_map[len(inner_poly_map)-1] = get_poly_from_tract_id(lsst_skymap, len(inner_poly_map)-1, inner=True)"
   ]
  },
  {
   "cell_type": "markdown",
   "id": "4d1fe8bb",
   "metadata": {},
   "source": [
    "## Check our saved-and-loaded tracts against the tracts we read via the lsst.skymap package"
   ]
  },
  {
   "cell_type": "code",
   "execution_count": 14,
   "id": "79f1b755",
   "metadata": {},
   "outputs": [],
   "source": [
    "from skymap_to_poly_coords.test_utils import polys_are_equiv\n",
    "\n",
    "tracts_to_check = range(0, lsst_skymap._numTracts)\n",
    "\n",
    "for tract_id in tracts_to_check:\n",
    "    ground_truth_poly = get_poly_from_tract_id(lsst_skymap, tract_id, inner=True)\n",
    "    loaded_poly = inner_poly_map[tract_id]\n",
    "    if not polys_are_equiv(ground_truth_poly, loaded_poly):\n",
    "        print(f\"Tract {tract_id} polygons are NOT equivalent!\")\n",
    "    else:\n",
    "        continue"
   ]
  }
 ],
 "metadata": {
  "kernelspec": {
   "display_name": "Python 3 (ipykernel)",
   "language": "python",
   "name": "python3"
  },
  "language_info": {
   "codemirror_mode": {
    "name": "ipython",
    "version": 3
   },
   "file_extension": ".py",
   "mimetype": "text/x-python",
   "name": "python",
   "nbconvert_exporter": "python",
   "pygments_lexer": "ipython3",
   "version": "3.12.9"
  }
 },
 "nbformat": 4,
 "nbformat_minor": 5
}
