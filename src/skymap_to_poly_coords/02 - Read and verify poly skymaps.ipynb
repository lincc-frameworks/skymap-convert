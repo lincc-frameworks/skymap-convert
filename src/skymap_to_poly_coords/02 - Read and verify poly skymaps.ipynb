{
 "cells": [
  {
   "cell_type": "markdown",
   "id": "06012870",
   "metadata": {},
   "source": [
    "# Storing skymaps"
   ]
  },
  {
   "cell_type": "markdown",
   "id": "c38f9b28",
   "metadata": {},
   "source": [
    "## Read raw skymap files"
   ]
  },
  {
   "cell_type": "code",
   "execution_count": 1,
   "id": "b046e4b1",
   "metadata": {},
   "outputs": [],
   "source": [
    "import pickle\n",
    "from pathlib import Path\n",
    "import math\n",
    "import numpy as np\n",
    "\n",
    "\n",
    "from lsst.sphgeom import Box, ConvexPolygon, UnitVector3d\n",
    "from math import pi\n",
    "from lsst.sphgeom import LonLat, UnitVector3d, ConvexPolygon\n",
    "import yaml\n",
    "from lsst.sphgeom import UnitVector3d, ConvexPolygon"
   ]
  },
  {
   "cell_type": "code",
   "execution_count": 2,
   "id": "3c3fbfcf",
   "metadata": {},
   "outputs": [
    {
     "data": {
      "text/plain": [
       "<lsst.skymap.ringsSkyMap.RingsSkyMap at 0x7f020415aea0>"
      ]
     },
     "execution_count": 2,
     "metadata": {},
     "output_type": "execute_result"
    }
   ],
   "source": [
    "home_dir = \"/sdf/home/o/olynn/\"\n",
    "raw_skymaps_dir = Path(home_dir, \"skymap-to-poly-coords\", \"tests\", \"data\", \"raw-skymaps\")\n",
    "\n",
    "skymap_path = raw_skymaps_dir / \"skyMap_lsst_cells_v1_skymaps.pickle\"\n",
    "with open(skymap_path, \"rb\") as f:\n",
    "    lsst_skymap = pickle.load(f)\n",
    "lsst_skymap"
   ]
  },
  {
   "cell_type": "markdown",
   "id": "945e286d",
   "metadata": {},
   "source": [
    "## Utility functions"
   ]
  },
  {
   "cell_type": "code",
   "execution_count": 7,
   "id": "c1ba9a05",
   "metadata": {},
   "outputs": [],
   "source": [
    "def box_to_convex_polygon(box: Box) -> ConvexPolygon:\n",
    "    if box.isEmpty():\n",
    "        raise ValueError(\"Cannot convert an empty Box to a ConvexPolygon.\")\n",
    "\n",
    "    # Get the corners of the box\n",
    "    lon_a, lon_b = box.getLon().getA().asRadians(), box.getLon().getB().asRadians()\n",
    "    lon_min = min(lon_a, lon_b)\n",
    "    lon_max = max(lon_a, lon_b)\n",
    "    lat_a, lat_b = box.getLat().getA().asRadians(), box.getLat().getB().asRadians()\n",
    "    lat_min = min(lat_a, lat_b)\n",
    "    lat_max = max(lat_a, lat_b)\n",
    "    # todo : this may be an improper assumption, considering RA wrap around!!\n",
    "\n",
    "    bottom_left = LonLat.fromRadians(lon_min, lat_min)\n",
    "    bottom_right = LonLat.fromRadians(lon_max, lat_min)\n",
    "    top_right = LonLat.fromRadians(lon_max, lat_max)\n",
    "    top_left = LonLat.fromRadians(lon_min, lat_max)\n",
    "\n",
    "    # Convert corners to UnitVector3d\n",
    "    vertices = [\n",
    "        UnitVector3d(bottom_left),\n",
    "        UnitVector3d(bottom_right),\n",
    "        UnitVector3d(top_right),\n",
    "        UnitVector3d(top_left),\n",
    "    ]\n",
    "\n",
    "    # Create and return the ConvexPolygon\n",
    "    return ConvexPolygon(vertices)\n",
    "\n",
    "\n",
    "def get_poly_from_tract_id(tract_id, inner=False) -> ConvexPolygon:\n",
    "    tract = lsst_skymap.generateTract(tract_id)\n",
    "    if inner:\n",
    "        res = tract.inner_sky_region\n",
    "    else:\n",
    "        res = tract.outer_sky_polygon\n",
    "    if isinstance(res, Box):\n",
    "        res = box_to_convex_polygon(res)\n",
    "    return res\n",
    "\n",
    "\n",
    "def point_in_poly(polygon, ra_degrees, dec_degrees):\n",
    "    vec = UnitVector3d(LonLat.fromDegrees(ra_degrees, dec_degrees))\n",
    "    return polygon.contains(vec)\n",
    "\n",
    "point_in_poly(get_poly_from_tract_id(1), 0.0, -88.0)\n",
    "\n",
    "\n",
    "def polys_are_equiv(poly_a, poly_b, rtol=1e-12, atol=1e-14):\n",
    "    \"\"\"Check if two ConvexPolygons are equivalent within floating point tolerance.\n",
    "\n",
    "    Parameters\n",
    "    ----------\n",
    "    poly_a, poly_b : sphgeom.ConvexPolygon\n",
    "        The polygons to compare.\n",
    "    rtol : float\n",
    "        Relative tolerance for np.allclose.\n",
    "    atol : float\n",
    "        Absolute tolerance for np.allclose.\n",
    "\n",
    "    Returns\n",
    "    -------\n",
    "    bool\n",
    "        True if all vertices match within tolerance.\n",
    "    \"\"\"\n",
    "    verts_a = poly_a.getVertices()\n",
    "    verts_b = poly_b.getVertices()\n",
    "\n",
    "    if len(verts_a) != len(verts_b):\n",
    "        return False\n",
    "\n",
    "    return np.allclose(verts_a, verts_b, rtol=rtol, atol=atol)"
   ]
  },
  {
   "cell_type": "markdown",
   "id": "4e89bd8f",
   "metadata": {},
   "source": [
    "## Read inner_poly and outer_poly"
   ]
  },
  {
   "cell_type": "code",
   "execution_count": 3,
   "id": "7c0022ee",
   "metadata": {},
   "outputs": [],
   "source": [
    "def load_polygons(yaml_path):\n",
    "    \"\"\"Load exact inner or outer polygons from a YAML file using 3D unit vectors.\n",
    "\n",
    "    Parameters\n",
    "    ----------\n",
    "    yaml_path : str\n",
    "        Path to the YAML file written by `write_polygons`.\n",
    "\n",
    "    Returns\n",
    "    -------\n",
    "    dict\n",
    "        Mapping from tract ID (int) to sphgeom.ConvexPolygon.\n",
    "    \"\"\"\n",
    "    with open(yaml_path, \"r\") as f:\n",
    "        data = yaml.safe_load(f)\n",
    "\n",
    "    poly_dict = {}\n",
    "\n",
    "    for tract_id_str, vec_list in data[\"tracts\"].items():\n",
    "        tract_id = int(tract_id_str)\n",
    "\n",
    "        unit_vecs = [UnitVector3d(*vec) for vec in vec_list]\n",
    "\n",
    "        # Skip degenerate polygons (fewer than 3 unique vertices)\n",
    "        unique_vecs = {tuple(round(x, 12) for x in v) for v in unit_vecs}\n",
    "        if len(unique_vecs) < 3:\n",
    "            print(f\"⚠️ Skipping degenerate tract {tract_id}\")\n",
    "            continue\n",
    "\n",
    "        poly = ConvexPolygon(unit_vecs)\n",
    "        poly_dict[tract_id] = poly\n",
    "\n",
    "    print(f\"✅ Loaded {len(poly_dict)} polygons from {yaml_path}\")\n",
    "    return poly_dict"
   ]
  },
  {
   "cell_type": "code",
   "execution_count": 13,
   "id": "3f7e50e9",
   "metadata": {},
   "outputs": [
    {
     "name": "stdout",
     "output_type": "stream",
     "text": [
      "⚠️ Skipping degenerate tract 0\n",
      "⚠️ Skipping degenerate tract 18937\n",
      "✅ Loaded 18936 polygons from /sdf/home/o/olynn/skymap-to-poly-coords/skymaps_out/inner_polys.yaml\n",
      "✅ Loaded 18938 polygons from /sdf/home/o/olynn/skymap-to-poly-coords/skymaps_out/outer_polys.yaml\n"
     ]
    }
   ],
   "source": [
    "skymap_out_dir = \"/sdf/home/o/olynn/skymap-to-poly-coords/skymaps_out/\"\n",
    "inner_poly_path = Path(skymap_out_dir) / \"inner_polys.yaml\"\n",
    "outer_poly_path = Path(skymap_out_dir) / \"outer_polys.yaml\"\n",
    "\n",
    "inner_poly_map = load_polygons(inner_poly_path)\n",
    "outer_poly_map = load_polygons(outer_poly_path)"
   ]
  },
  {
   "cell_type": "code",
   "execution_count": 14,
   "id": "42377b3a",
   "metadata": {},
   "outputs": [
    {
     "name": "stdout",
     "output_type": "stream",
     "text": [
      "18936\n",
      "18938\n"
     ]
    }
   ],
   "source": [
    "print(len(inner_poly_map))\n",
    "print(len(outer_poly_map))\n"
   ]
  },
  {
   "cell_type": "code",
   "execution_count": 8,
   "id": "7534eedf",
   "metadata": {},
   "outputs": [],
   "source": [
    "# Just patch the polar caps in for now (todo)\n",
    "\n",
    "inner_poly_map[0] = get_poly_from_tract_id(0, inner=True)\n",
    "inner_poly_map[len(inner_poly_map)-1] = get_poly_from_tract_id(len(inner_poly_map)-1, inner=True)"
   ]
  },
  {
   "cell_type": "code",
   "execution_count": 12,
   "id": "0d4fe106",
   "metadata": {},
   "outputs": [
    {
     "data": {
      "text/plain": [
       "18936"
      ]
     },
     "execution_count": 12,
     "metadata": {},
     "output_type": "execute_result"
    }
   ],
   "source": [
    "len(inner_poly_map)-1"
   ]
  },
  {
   "cell_type": "markdown",
   "id": "4d1fe8bb",
   "metadata": {},
   "source": [
    "## Check our saved-and-loaded tracts against the tracts we read via the lsst.skymap package"
   ]
  },
  {
   "cell_type": "code",
   "execution_count": 9,
   "id": "79f1b755",
   "metadata": {},
   "outputs": [
    {
     "ename": "KeyError",
     "evalue": "18937",
     "output_type": "error",
     "traceback": [
      "\u001b[0;31m---------------------------------------------------------------------------\u001b[0m",
      "\u001b[0;31mKeyError\u001b[0m                                  Traceback (most recent call last)",
      "Cell \u001b[0;32mIn[9], line 6\u001b[0m\n\u001b[1;32m      4\u001b[0m \u001b[38;5;28;01mfor\u001b[39;00m tract_id \u001b[38;5;129;01min\u001b[39;00m tracts_to_check:\n\u001b[1;32m      5\u001b[0m     ground_truth_poly \u001b[38;5;241m=\u001b[39m get_poly_from_tract_id(tract_id, inner\u001b[38;5;241m=\u001b[39m\u001b[38;5;28;01mTrue\u001b[39;00m)\n\u001b[0;32m----> 6\u001b[0m     loaded_poly \u001b[38;5;241m=\u001b[39m \u001b[43minner_poly_map\u001b[49m\u001b[43m[\u001b[49m\u001b[43mtract_id\u001b[49m\u001b[43m]\u001b[49m\n\u001b[1;32m      7\u001b[0m     \u001b[38;5;28;01mif\u001b[39;00m \u001b[38;5;129;01mnot\u001b[39;00m polys_are_equiv(ground_truth_poly, loaded_poly):\n\u001b[1;32m      8\u001b[0m         \u001b[38;5;28mprint\u001b[39m(\u001b[38;5;124mf\u001b[39m\u001b[38;5;124m\"\u001b[39m\u001b[38;5;124mTract \u001b[39m\u001b[38;5;132;01m{\u001b[39;00mtract_id\u001b[38;5;132;01m}\u001b[39;00m\u001b[38;5;124m polygons are NOT equivalent!\u001b[39m\u001b[38;5;124m\"\u001b[39m)\n",
      "\u001b[0;31mKeyError\u001b[0m: 18937"
     ]
    }
   ],
   "source": [
    "#tracts_to_check = np.linspace(0, lsst_skymap._numTracts-1, 1000, dtype=int)\n",
    "tracts_to_check = range(0, lsst_skymap._numTracts)\n",
    "\n",
    "for tract_id in tracts_to_check:\n",
    "    ground_truth_poly = get_poly_from_tract_id(tract_id, inner=True)\n",
    "    loaded_poly = inner_poly_map[tract_id]\n",
    "    if not polys_are_equiv(ground_truth_poly, loaded_poly):\n",
    "        print(f\"Tract {tract_id} polygons are NOT equivalent!\")\n",
    "    else:\n",
    "        continue"
   ]
  }
 ],
 "metadata": {
  "kernelspec": {
   "display_name": "Python 3 (ipykernel)",
   "language": "python",
   "name": "python3"
  },
  "language_info": {
   "codemirror_mode": {
    "name": "ipython",
    "version": 3
   },
   "file_extension": ".py",
   "mimetype": "text/x-python",
   "name": "python",
   "nbconvert_exporter": "python",
   "pygments_lexer": "ipython3",
   "version": "3.12.9"
  }
 },
 "nbformat": 4,
 "nbformat_minor": 5
}
