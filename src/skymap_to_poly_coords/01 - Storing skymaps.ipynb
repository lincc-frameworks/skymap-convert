{
 "cells": [
  {
   "cell_type": "markdown",
   "id": "06012870",
   "metadata": {},
   "source": [
    "# Storing skymaps"
   ]
  },
  {
   "cell_type": "markdown",
   "id": "c38f9b28",
   "metadata": {},
   "source": [
    "## Read raw skymap files"
   ]
  },
  {
   "cell_type": "code",
   "execution_count": 2,
   "id": "b046e4b1",
   "metadata": {},
   "outputs": [],
   "source": [
    "import pickle\n",
    "from pathlib import Path\n",
    "import math"
   ]
  },
  {
   "cell_type": "code",
   "execution_count": 3,
   "id": "3c3fbfcf",
   "metadata": {},
   "outputs": [
    {
     "data": {
      "text/plain": [
       "<lsst.skymap.ringsSkyMap.RingsSkyMap at 0x7f408536fc20>"
      ]
     },
     "execution_count": 3,
     "metadata": {},
     "output_type": "execute_result"
    }
   ],
   "source": [
    "home_dir = \"/sdf/home/o/olynn/\"\n",
    "raw_skymaps_dir = Path(home_dir, \"skymap-to-poly-coords\", \"tests\", \"data\", \"raw-skymaps\")\n",
    "\n",
    "skymap_path = raw_skymaps_dir / \"skyMap_lsst_cells_v1_skymaps.pickle\"\n",
    "with open(skymap_path, \"rb\") as f:\n",
    "    lsst_skymap = pickle.load(f)\n",
    "lsst_skymap"
   ]
  },
  {
   "cell_type": "markdown",
   "id": "3ce11262",
   "metadata": {},
   "source": [
    "*A note on rings sky map pixelization (in html comment in this cell)*\n",
    "<!---## Rings sky map pixelization\n",
    "*From the RingsSkyMap docstring in lsst.skymap:*\n",
    "\n",
    "We divide the sphere into N rings of Declination, plus the two polar\n",
    "caps, which sets the size of the individual tracts.  The rings are\n",
    "divided in RA into an integral number of tracts of this size; this\n",
    "division is made at the Declination closest to zero so as to ensure\n",
    "full overlap.\n",
    "\n",
    "Rings are numbered in the rings from south to north. The south pole cap is\n",
    "``tract=0``, then the tract at ``raStart`` in the southernmost ring is\n",
    "``tract=1``. Numbering continues (in the positive RA direction) around that\n",
    "ring and then continues in the same fashion with the next ring north, and\n",
    "so on until all reaching the north pole cap, which is\n",
    "``tract=len(skymap) - 1``.\n",
    "\n",
    "However, ``version=0`` had a bug in the numbering of the tracts: the first\n",
    "and last tracts in the first (southernmost) ring were identical, and the\n",
    "first tract in the last (northernmost) ring was missing. When using\n",
    "``version=0``, these tracts remain missing in order to preserve the\n",
    "numbering scheme.--->"
   ]
  },
  {
   "cell_type": "markdown",
   "id": "1484abc1",
   "metadata": {},
   "source": [
    "## Storage options\n"
   ]
  },
  {
   "cell_type": "markdown",
   "id": "22b853ab",
   "metadata": {},
   "source": [
    "We would like to support both inner and outer polygons for the tracts.  \n",
    "\n",
    "Tracts are arranged in \"rings\", which span horizontal regions of the sky.\n",
    "\n",
    "🔹 Inner polys:\n",
    "- represent the exact boundaries of a given tract\n",
    "- do not overlap\n",
    "\n",
    "🔹 Outer polys:\n",
    "- may (will?) overlap with adjacent tracts' outer polys\n",
    "- are akin to margins in HATS catalogs\n",
    "- will share the same upper and lower declination boundaries as the other tracts in the ring"
   ]
  },
  {
   "cell_type": "markdown",
   "id": "bd4bddbd",
   "metadata": {},
   "source": [
    "## Option 1: Two files, explicit inner polys + reconstructable outer polys"
   ]
  },
  {
   "cell_type": "markdown",
   "id": "4115a76a",
   "metadata": {},
   "source": [
    "#### Inner polys:\n",
    "- Store per-tract: `ra_min`, `ra_max`, `dec_min`, `dec_max`\n",
    "- Comes directly from `getRaDecRange(tract_index)`\n",
    "- Requires 4 floats per tract, so for ~19k tracts:\n",
    "  4 × 8 B × 19,000 ≈ ~600 KB (before YAML overhead; ~1–1.5 MB total)\n",
    "- However, could compress to a `.npz` of around ~0.5–0.8 MB\n",
    "\n",
    "#### Outer polys:\n",
    "- Store per-ring:\n",
    "  - `dec_min`, `dec_max`\n",
    "  - `num_tracts`\n",
    "  - `ra_offset`\n",
    "- Reconstructs outer boundaries per tract:\n",
    "    ```python\n",
    "    ra_width = 360 / num_tracts\n",
    "    ra_min = (ra_offset + i * ra_width) % 360\n",
    "    ra_max = (ra_offset + (i + 1) * ra_width) % 360\n",
    "    ```\n",
    "- This is valid because outer boundaries are uniform within a ring\n",
    "\n",
    "#### ✅ Pros\n",
    "- Easy to understand and verify\n",
    "- Doesn’t require any LSST WCS machinery\n",
    "- Reading is fast + LSST-free\n",
    "\n",
    "#### ❌ Cons\n",
    "- Inner polygons have to be stored tract-by-tract\n",
    "- Slightly more disk usage than an ultra-compressed model"
   ]
  },
  {
   "cell_type": "markdown",
   "id": "4f9c2aa5",
   "metadata": {},
   "source": [
    "### Write inner_poly and outer_poly files"
   ]
  },
  {
   "cell_type": "code",
   "execution_count": 4,
   "id": "fdc287cf",
   "metadata": {},
   "outputs": [],
   "source": [
    "import yaml\n",
    "\n",
    "def write_inner_and_outer_polys(skymap, inner_path, outer_path):\n",
    "    \"\"\"Generate inner and outer polygon YAMLs for a RingsSkyMap.\n",
    "\n",
    "    Parameters\n",
    "    ----------\n",
    "    skymap : RingsSkyMap\n",
    "        The LSST RingsSkyMap object.\n",
    "    inner_path : str\n",
    "        Output path for per-tract inner polygon file.\n",
    "    outer_path : str\n",
    "        Output path for per-ring outer polygon file.\n",
    "    \"\"\"\n",
    "    outer_rings = {}\n",
    "    inner_tracts = {}\n",
    "    polar_caps = {}\n",
    "\n",
    "    for tract_index in range(len(skymap)):\n",
    "        ring_num, _ = skymap.getRingIndices(tract_index)\n",
    "\n",
    "        ra_min, ra_max, dec_min, dec_max = skymap.getRaDecRange(tract_index)\n",
    "        inner_tracts[tract_index] = {\n",
    "            \"ra_min_deg\": ra_min.asDegrees(),\n",
    "            \"ra_max_deg\": ra_max.asDegrees(),\n",
    "            \"dec_min_deg\": dec_min.asDegrees(),\n",
    "            \"dec_max_deg\": dec_max.asDegrees(),\n",
    "        }\n",
    "\n",
    "        # Handle polar caps separately\n",
    "        if ring_num == -1 or ring_num == skymap.config.numRings:\n",
    "            polar_caps[\"south\" if ring_num == -1 else \"north\"] = {\n",
    "                \"tract_id\": tract_index,\n",
    "                \"dec_min_deg\": dec_min.asDegrees(),\n",
    "                \"dec_max_deg\": dec_max.asDegrees(),\n",
    "            }\n",
    "            continue\n",
    "\n",
    "        outer_rings.setdefault(ring_num, {\n",
    "            \"tract_ids\": [],\n",
    "            \"ra_centers\": [],\n",
    "        })\n",
    "        outer_rings[ring_num][\"tract_ids\"].append(tract_index)\n",
    "        # todo: should the following be a set? or, are we still just using the first element, so should just store that?\n",
    "        outer_rings[ring_num][\"ra_centers\"].append(skymap[tract_index].getCtrCoord().getLongitude().asDegrees())\n",
    "\n",
    "    # Build outer polygon ring YAML\n",
    "    outer_yaml = {\"rings\": []}\n",
    "    for ring_num, data in sorted(outer_rings.items()):\n",
    "        tract_ids = data[\"tract_ids\"]\n",
    "        ra_centers = data[\"ra_centers\"]\n",
    "        num_tracts = len(tract_ids)\n",
    "        first_tract_id = min(tract_ids)\n",
    "\n",
    "        # Use Dec boundaries from any tract in the ring (they're shared)\n",
    "        _, _, dec_min, dec_max = skymap.getRaDecRange(tract_ids[0])\n",
    "\n",
    "        # Estimate RA offset\n",
    "        ra_width = 360.0 / num_tracts\n",
    "        # todo: can we make this assumption? also, can we safely assume that the tracts are evenly spaced?\n",
    "        ra_offset = (ra_centers[0] - 0.5 * ra_width) % 360\n",
    "\n",
    "        outer_yaml[\"rings\"].append({\n",
    "            \"ring_index\": ring_num,\n",
    "            \"first_tract_id\": first_tract_id,\n",
    "            \"num_tracts\": num_tracts,\n",
    "            \"dec_min_deg\": dec_min.asDegrees(),\n",
    "            \"dec_max_deg\": dec_max.asDegrees(),\n",
    "            \"ra_offset_deg\": ra_offset,\n",
    "        })\n",
    "\n",
    "    if polar_caps:\n",
    "        outer_yaml[\"polar_caps\"] = polar_caps\n",
    "\n",
    "    # Write YAMLs\n",
    "    with open(inner_path, \"w\") as f:\n",
    "        yaml.dump({\"tracts\": inner_tracts}, f, sort_keys=False)\n",
    "    print(f\"✅ Wrote exact inner polygons to: {inner_path}\")\n",
    "\n",
    "    with open(outer_path, \"w\") as f:\n",
    "        yaml.dump(outer_yaml, f, sort_keys=False)\n",
    "    print(f\"✅ Wrote outer polygon metadata to: {outer_path}\")\n"
   ]
  },
  {
   "cell_type": "code",
   "execution_count": 5,
   "id": "e233941c",
   "metadata": {},
   "outputs": [
    {
     "name": "stdout",
     "output_type": "stream",
     "text": [
      "✅ Wrote exact inner polygons to: /sdf/home/o/olynn/skymap-to-poly-coords/skymaps_out/inner_polys.yaml\n",
      "✅ Wrote outer polygon metadata to: /sdf/home/o/olynn/skymap-to-poly-coords/skymaps_out/outer_polys.yaml\n"
     ]
    }
   ],
   "source": [
    "skymap_out_dir = \"/sdf/home/o/olynn/skymap-to-poly-coords/skymaps_out/\"\n",
    "inner_poly_path = Path(skymap_out_dir) / \"inner_polys.yaml\"\n",
    "outer_poly_path = Path(skymap_out_dir) / \"outer_polys.yaml\"\n",
    "\n",
    "write_inner_and_outer_polys(lsst_skymap, inner_poly_path, outer_poly_path)"
   ]
  },
  {
   "cell_type": "markdown",
   "id": "4e89bd8f",
   "metadata": {},
   "source": [
    "### Read inner_poly"
   ]
  },
  {
   "cell_type": "code",
   "execution_count": 12,
   "id": "be8b600e",
   "metadata": {},
   "outputs": [],
   "source": [
    "import yaml\n",
    "from lsst.sphgeom import LonLat, UnitVector3d, ConvexPolygon\n",
    "\n",
    "def load_inner_polygons(yaml_path):\n",
    "    \"\"\"Load exact inner polygons from a YAML file.\n",
    "\n",
    "    Parameters\n",
    "    ----------\n",
    "    yaml_path : str\n",
    "        Path to inner_polys.yaml.\n",
    "\n",
    "    Returns\n",
    "    -------\n",
    "    dict\n",
    "        Mapping from tract ID (int) to sphgeom.ConvexPolygon.\n",
    "    \"\"\"\n",
    "    with open(yaml_path, \"r\") as f:\n",
    "        data = yaml.safe_load(f)\n",
    "\n",
    "    poly_dict = {}\n",
    "\n",
    "    for tract_id_str, bounds in data[\"tracts\"].items():\n",
    "        tract_id = int(tract_id_str)\n",
    "\n",
    "        # print(f\"Processing tract {tract_id} with bounds: {bounds}\")\n",
    "\n",
    "        ra_min = bounds[\"ra_min_deg\"]\n",
    "        ra_max = bounds[\"ra_max_deg\"]\n",
    "        dec_min = bounds[\"dec_min_deg\"]\n",
    "        dec_max = bounds[\"dec_max_deg\"]\n",
    "\n",
    "        # Define corners in counter-clockwise order\n",
    "        corners = [\n",
    "            (ra_min, dec_min),\n",
    "            (ra_max, dec_min),\n",
    "            (ra_max, dec_max),\n",
    "            (ra_min, dec_max),\n",
    "        ]\n",
    "\n",
    "        unit_vecs = [\n",
    "            UnitVector3d(LonLat.fromDegrees(ra % 360.0, dec))\n",
    "            for ra, dec in corners\n",
    "        ]\n",
    "\n",
    "        # Check for degeneracy\n",
    "        unique_vecs = {tuple(round(x, 12) for x in vec) for vec in unit_vecs}\n",
    "        if len(unique_vecs) < 3:\n",
    "            print(f\"⚠️ Skipping degenerate tract {tract_id} (probably a polar cap)\")\n",
    "            continue\n",
    "\n",
    "        # for vec in unit_vecs:\n",
    "        #     print(f\"Unit vector: {vec}\")\n",
    "        poly = ConvexPolygon(unit_vecs)\n",
    "        poly_dict[tract_id] = poly\n",
    "\n",
    "    return poly_dict\n"
   ]
  },
  {
   "cell_type": "code",
   "execution_count": null,
   "id": "3f7e50e9",
   "metadata": {},
   "outputs": [
    {
     "name": "stdout",
     "output_type": "stream",
     "text": [
      "⚠️ Skipping degenerate tract 0 (probably a polar cap)\n",
      "⚠️ Skipping degenerate tract 18937 (probably a polar cap)\n"
     ]
    }
   ],
   "source": [
    "inner_poly_map = load_inner_polygons(inner_poly_path)\n",
    "\n",
    "# Check if a point is inside tract 1234\n",
    "from lsst.sphgeom import LonLat, UnitVector3d\n",
    "\n",
    "pt = UnitVector3d(LonLat.fromDegrees(134.5, -2.7))\n",
    "if inner_poly_map[1234].contains(pt):\n",
    "    print(\"That point is inside tract 1234!\")"
   ]
  },
  {
   "cell_type": "markdown",
   "id": "eca14065",
   "metadata": {},
   "source": [
    "## Option 2: Reconstruct everything using projection + geometry"
   ]
  },
  {
   "cell_type": "markdown",
   "id": "3f58b787",
   "metadata": {},
   "source": [
    "What you'd need to store:  \n",
    "\n",
    "- Global:\n",
    "  - `projection: \"TAN\"`\n",
    "  - `pixel_scale_deg`: (or arcsec/pixel)\n",
    "  - `tract_width`, `tract_height`: in pixels\n",
    "  - `overlap_deg`: or overlap in pixels (need this for inner bounds)\n",
    "\n",
    "- Per-tract:\n",
    "  - `tract_id`\n",
    "  - `center_ra`, `center_dec`\n",
    "  - `rotation` (optional, usually 0)\n",
    "  - `flipX` (optional, for WCS handedness)\n",
    "\n",
    "Then, you reconstruct inner and outer polys by:\n",
    "- Creating a fake `SkyWcs` from these params\n",
    "- Converting pixel corners of `[0,0]` → `[width,height]` to sky coordinates\n",
    "- Optionally applying overlap trimming in pixel space\n",
    "\n",
    "✅ Pros\n",
    "- Super compact: ~2 floats + a few constants per tract\n",
    "- Elegant reuse of LSST projection machinery\n",
    "- One unified format\n",
    "\n",
    "❌ Cons\n",
    "- Requires LSST-style WCS math to reconstruct accurately\n",
    "- Introduces fragility: assumptions about projection type and tract uniformity\n",
    "- Slightly harder to read/debug"
   ]
  },
  {
   "cell_type": "markdown",
   "id": "b0859316",
   "metadata": {},
   "source": []
  }
 ],
 "metadata": {
  "kernelspec": {
   "display_name": "Python 3 (ipykernel)",
   "language": "python",
   "name": "python3"
  },
  "language_info": {
   "codemirror_mode": {
    "name": "ipython",
    "version": 3
   },
   "file_extension": ".py",
   "mimetype": "text/x-python",
   "name": "python",
   "nbconvert_exporter": "python",
   "pygments_lexer": "ipython3",
   "version": "3.12.9"
  }
 },
 "nbformat": 4,
 "nbformat_minor": 5
}
