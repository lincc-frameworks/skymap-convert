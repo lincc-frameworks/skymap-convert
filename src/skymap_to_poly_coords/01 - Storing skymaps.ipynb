{
 "cells": [
  {
   "cell_type": "markdown",
   "id": "06012870",
   "metadata": {},
   "source": [
    "# Storing skymaps"
   ]
  },
  {
   "cell_type": "markdown",
   "id": "c38f9b28",
   "metadata": {},
   "source": [
    "## Read raw skymap files"
   ]
  },
  {
   "cell_type": "code",
   "execution_count": null,
   "id": "b046e4b1",
   "metadata": {},
   "outputs": [],
   "source": [
    "import pickle\n",
    "from pathlib import Path\n",
    "import math"
   ]
  },
  {
   "cell_type": "code",
   "execution_count": 2,
   "id": "3c3fbfcf",
   "metadata": {},
   "outputs": [
    {
     "data": {
      "text/plain": [
       "<lsst.skymap.ringsSkyMap.RingsSkyMap at 0x7f2f7f05a690>"
      ]
     },
     "execution_count": 2,
     "metadata": {},
     "output_type": "execute_result"
    }
   ],
   "source": [
    "home_dir = \"/sdf/home/o/olynn/\"\n",
    "raw_skymaps_dir = Path(home_dir, \"skymap-to-poly-coords\", \"tests\", \"data\", \"raw-skymaps\")\n",
    "\n",
    "skymap_path = raw_skymaps_dir / \"skyMap_lsst_cells_v1_skymaps.pickle\"\n",
    "with open(skymap_path, \"rb\") as f:\n",
    "    lsst_skymap = pickle.load(f)\n",
    "lsst_skymap"
   ]
  },
  {
   "cell_type": "markdown",
   "id": "c035d29d",
   "metadata": {},
   "source": [
    "## Util: check if a point is in a tract (using lsst.skymap)"
   ]
  },
  {
   "cell_type": "code",
   "execution_count": 88,
   "id": "2f076531",
   "metadata": {},
   "outputs": [],
   "source": [
    "from lsst.sphgeom import Box, ConvexPolygon, UnitVector3d\n",
    "\n",
    "def box_to_convex_polygon(box: Box) -> ConvexPolygon:\n",
    "    if box.isEmpty():\n",
    "        raise ValueError(\"Cannot convert an empty Box to a ConvexPolygon.\")\n",
    "\n",
    "    # Get the corners of the box\n",
    "    lon_a, lon_b = box.getLon().getA().asRadians(), box.getLon().getB().asRadians()\n",
    "    lon_min = min(lon_a, lon_b)\n",
    "    lon_max = max(lon_a, lon_b)\n",
    "    lat_a, lat_b = box.getLat().getA().asRadians(), box.getLat().getB().asRadians()\n",
    "    lat_min = min(lat_a, lat_b)\n",
    "    lat_max = max(lat_a, lat_b)\n",
    "\n",
    "    #print(f\"Box corners: lon_min={lon_min}, lon_max={lon_max}, lat_min={lat_min}, lat_max={lat_max}\")\n",
    "\n",
    "    bottom_left = LonLat.fromRadians(lon_min, lat_min)\n",
    "    bottom_right = LonLat.fromRadians(lon_max, lat_min)\n",
    "    top_right = LonLat.fromRadians(lon_max, lat_max)\n",
    "    top_left = LonLat.fromRadians(lon_min, lat_max)\n",
    "\n",
    "    # Convert corners to UnitVector3d\n",
    "    vertices = [\n",
    "        UnitVector3d(bottom_left),\n",
    "        UnitVector3d(bottom_right),\n",
    "        UnitVector3d(top_right),\n",
    "        UnitVector3d(top_left),\n",
    "    ]\n",
    "\n",
    "    # Create and return the ConvexPolygon\n",
    "    return ConvexPolygon(vertices)\n"
   ]
  },
  {
   "cell_type": "code",
   "execution_count": 86,
   "id": "6eb59d04",
   "metadata": {},
   "outputs": [
    {
     "data": {
      "text/plain": [
       "True"
      ]
     },
     "execution_count": 86,
     "metadata": {},
     "output_type": "execute_result"
    }
   ],
   "source": [
    "from math import pi\n",
    "from lsst.sphgeom import LonLat, UnitVector3d, ConvexPolygon\n",
    "import lsst.geom as geom\n",
    "\n",
    "\n",
    "def get_poly_from_tract_id(tract_id, inner=False) -> ConvexPolygon:\n",
    "    tract = lsst_skymap.generateTract(tract_id)\n",
    "    if inner:\n",
    "        res = tract.inner_sky_region\n",
    "    else:\n",
    "        res = tract.outer_sky_polygon\n",
    "    if isinstance(res, Box):\n",
    "        res = box_to_convex_polygon(res)\n",
    "    return res\n",
    "\n",
    "def point_in_poly(polygon, ra_degrees, dec_degrees):\n",
    "    vec = UnitVector3d(LonLat.fromDegrees(ra_degrees, dec_degrees))\n",
    "    return polygon.contains(vec)\n",
    "\n",
    "\n",
    "    \n",
    "#check_point(1, 0.0, -88.0, inner=False)\n",
    "poly = get_poly_from_tract_id(1)\n",
    "point_in_poly(poly, 0.0, -88.0)"
   ]
  },
  {
   "cell_type": "code",
   "execution_count": 84,
   "id": "691ac997",
   "metadata": {},
   "outputs": [],
   "source": [
    "def polys_are_equiv(poly_a, poly_b):\n",
    "    \"\"\"Check if two ConvexPolygons are equivalent.\"\"\"\n",
    "    verts_a = poly_a.getVertices()\n",
    "    verts_b = poly_b.getVertices()\n",
    "\n",
    "    # If they have different numbers of vertices, they can't be equivalent.\n",
    "    if len(verts_a) != len(verts_b):\n",
    "        return False\n",
    "\n",
    "    # Check if vertices match in any rotation.\n",
    "    for i in range(len(verts_a)):\n",
    "        if all(\n",
    "            verts_a[(i + j) % len(verts_a)] == verts_b[j]\n",
    "            for j in range(len(verts_b))\n",
    "        ):\n",
    "            return True\n",
    "\n",
    "    # If no rotation matched, they are not equivalent.\n",
    "    return False"
   ]
  },
  {
   "cell_type": "markdown",
   "id": "f6f85586",
   "metadata": {},
   "source": [
    "#### Optional plotting"
   ]
  },
  {
   "cell_type": "code",
   "execution_count": 16,
   "id": "75cfa4c2",
   "metadata": {},
   "outputs": [],
   "source": [
    "import matplotlib.pyplot as plt\n",
    "from lsst.sphgeom import LonLat, UnitVector3d\n",
    "\n",
    "def plot_tract_with_point(tract_id, ra_deg, dec_deg, title=\"\"):\n",
    "    \"\"\"Plot a ConvexPolygon tract and a test RA/Dec point on the sky.\n",
    "\n",
    "    Parameters\n",
    "    ----------\n",
    "    polygon : sphgeom.ConvexPolygon\n",
    "        The outer or inner polygon to plot.\n",
    "    ra_deg : float\n",
    "        Right Ascension of the test point (degrees).\n",
    "    dec_deg : float\n",
    "        Declination of the test point (degrees).\n",
    "    title : str\n",
    "        Optional title for the plot.\n",
    "    \"\"\"\n",
    "    # Extract polygon vertices in degrees\n",
    "    tract = lsst_skymap.generateTract(tract_id)\n",
    "    vertex_coords = tract._vertexCoordList\n",
    "    ra_dec_vertices = [\n",
    "        (vertex_coord.getLongitude().asDegrees(), vertex_coord.getLatitude().asDegrees())\n",
    "        for vertex_coord in vertex_coords\n",
    "    ]\n",
    "\n",
    "    # Close the polygon loop\n",
    "    ra_dec_vertices.append(ra_dec_vertices[0])\n",
    "    ra_poly, dec_poly = zip(*ra_dec_vertices)\n",
    "\n",
    "    # Wrap RA into [-180, 180] for sky-style plotting\n",
    "    ra_poly_wrapped = [(ra + 180) % 360 - 180 for ra in ra_poly]\n",
    "    ra_pt_wrapped = (ra_deg + 180) % 360 - 180\n",
    "\n",
    "    # Check containment\n",
    "    pt_vec = UnitVector3d(LonLat.fromDegrees(ra_deg, dec_deg))\n",
    "    is_inside = tract.outer_sky_polygon.contains(pt_vec)\n",
    "\n",
    "    # Plot\n",
    "    plt.figure(figsize=(6, 5))\n",
    "    plt.plot(ra_poly_wrapped, dec_poly, marker='o', linestyle='-', label=\"Tract Boundary\")\n",
    "    plt.scatter(ra_pt_wrapped, dec_deg, color=\"red\" if not is_inside else \"green\", label=\"Test Point\", zorder=5)\n",
    "\n",
    "    plt.xlabel(\"RA [deg] (wrapped to [-180, 180])\")\n",
    "    plt.ylabel(\"Dec [deg]\")\n",
    "    plt.title(title or f\"Point is {'inside' if is_inside else 'outside'} the tract\")\n",
    "    plt.gca().invert_xaxis()  # Sky convention\n",
    "    plt.grid(True)\n",
    "    plt.legend()\n",
    "    plt.tight_layout()\n",
    "    plt.show()\n"
   ]
  },
  {
   "cell_type": "code",
   "execution_count": 20,
   "id": "d4277e0b",
   "metadata": {},
   "outputs": [
    {
     "data": {
      "image/png": "[encoded data removed]",
      "text/plain": [
       "<Figure size 600x500 with 1 Axes>"
      ]
     },
     "metadata": {},
     "output_type": "display_data"
    }
   ],
   "source": [
    "plot_tract_with_point(\n",
    "    111,\n",
    "    ra_deg=0.0,\n",
    "    dec_deg=-88.0,\n",
    "    title=\"Tract 1 Outer Sky Polygon with Test Point\"\n",
    ")"
   ]
  },
  {
   "cell_type": "markdown",
   "id": "3ce11262",
   "metadata": {},
   "source": [
    "*A note on rings sky map pixelization (in html comment in this cell)*\n",
    "<!---## Rings sky map pixelization\n",
    "*From the RingsSkyMap docstring in lsst.skymap:*\n",
    "\n",
    "We divide the sphere into N rings of Declination, plus the two polar\n",
    "caps, which sets the size of the individual tracts.  The rings are\n",
    "divided in RA into an integral number of tracts of this size; this\n",
    "division is made at the Declination closest to zero so as to ensure\n",
    "full overlap.\n",
    "\n",
    "Rings are numbered in the rings from south to north. The south pole cap is\n",
    "``tract=0``, then the tract at ``raStart`` in the southernmost ring is\n",
    "``tract=1``. Numbering continues (in the positive RA direction) around that\n",
    "ring and then continues in the same fashion with the next ring north, and\n",
    "so on until all reaching the north pole cap, which is\n",
    "``tract=len(skymap) - 1``.\n",
    "\n",
    "However, ``version=0`` had a bug in the numbering of the tracts: the first\n",
    "and last tracts in the first (southernmost) ring were identical, and the\n",
    "first tract in the last (northernmost) ring was missing. When using\n",
    "``version=0``, these tracts remain missing in order to preserve the\n",
    "numbering scheme.--->"
   ]
  },
  {
   "cell_type": "markdown",
   "id": "1484abc1",
   "metadata": {},
   "source": [
    "## Storage options\n"
   ]
  },
  {
   "cell_type": "markdown",
   "id": "22b853ab",
   "metadata": {},
   "source": [
    "We would like to support both inner and outer polygons for the tracts.  \n",
    "\n",
    "Tracts are arranged in \"rings\", which span horizontal regions of the sky.\n",
    "\n",
    "🔹 Inner polys:\n",
    "- represent the exact boundaries of a given tract\n",
    "- do not overlap\n",
    "\n",
    "🔹 Outer polys:\n",
    "- may (will?) overlap with adjacent tracts' outer polys\n",
    "- are akin to margins in HATS catalogs\n",
    "- will share the same upper and lower declination boundaries as the other tracts in the ring"
   ]
  },
  {
   "cell_type": "markdown",
   "id": "bd4bddbd",
   "metadata": {},
   "source": [
    "## Option 1: Two files, explicit inner polys + reconstructable outer polys"
   ]
  },
  {
   "cell_type": "markdown",
   "id": "4115a76a",
   "metadata": {},
   "source": [
    "#### Inner polys:\n",
    "- Store per-tract: `ra_min`, `ra_max`, `dec_min`, `dec_max`\n",
    "- Comes directly from `getRaDecRange(tract_index)`\n",
    "- Requires 4 floats per tract, so for ~19k tracts:\n",
    "  4 × 8 B × 19,000 ≈ ~600 KB (before YAML overhead; ~1–1.5 MB total)\n",
    "- However, could compress to a `.npz` of around ~0.5–0.8 MB\n",
    "\n",
    "#### Outer polys:\n",
    "\n",
    "#### ✅ Pros\n",
    "- Easy to understand and verify\n",
    "- Doesn’t require any LSST WCS machinery\n",
    "- Reading is fast + LSST-free\n",
    "\n",
    "#### ❌ Cons\n",
    "- Slightly more disk usage than an ultra-compressed model"
   ]
  },
  {
   "cell_type": "markdown",
   "id": "4f9c2aa5",
   "metadata": {},
   "source": [
    "### Write inner_poly and outer_poly files"
   ]
  },
  {
   "cell_type": "code",
   "execution_count": 138,
   "id": "fdc287cf",
   "metadata": {},
   "outputs": [],
   "source": [
    "import yaml\n",
    "from lsst.sphgeom import UnitVector3d\n",
    "\n",
    "def write_polygons(skymap, output_path, inner=True):\n",
    "    \"\"\"Write exact inner polygons for each tract using 3D unit vectors.\n",
    "\n",
    "    Parameters\n",
    "    ----------\n",
    "    skymap : RingsSkyMap\n",
    "        The LSST SkyMap object.\n",
    "    output_path : str\n",
    "        Path to output YAML file.\n",
    "    inner : bool\n",
    "        If True, write inner polygons; if False, write outer polygons.\n",
    "        Default is True.\n",
    "    \"\"\"\n",
    "    out = {\"tracts\": {}}\n",
    "\n",
    "    for tract in skymap:\n",
    "        tract_id = tract.getId()\n",
    "        if inner:\n",
    "            poly = tract.inner_sky_region\n",
    "            if isinstance(poly, Box):\n",
    "                poly = box_to_convex_polygon(poly)\n",
    "        else:\n",
    "            poly = tract.outer_sky_polygon\n",
    "\n",
    "        out[\"tracts\"][tract_id] = [\n",
    "            [v[0], v[1], v[2]] for v in poly.getVertices()\n",
    "        ]\n",
    "\n",
    "    with open(output_path, \"w\") as f:\n",
    "        yaml.dump(out, f, sort_keys=False)\n",
    "\n",
    "    polygon_type = \"Inner\" if inner else \"Outer\"\n",
    "    print(f\"✅ {polygon_type} polygons written to {output_path}\")\n"
   ]
  },
  {
   "cell_type": "code",
   "execution_count": 139,
   "id": "e233941c",
   "metadata": {},
   "outputs": [
    {
     "name": "stdout",
     "output_type": "stream",
     "text": [
      "✅ Inner polygons written to /sdf/home/o/olynn/skymap-to-poly-coords/skymaps_out/inner_polys.yaml\n"
     ]
    }
   ],
   "source": [
    "skymap_out_dir = \"/sdf/home/o/olynn/skymap-to-poly-coords/skymaps_out/\"\n",
    "inner_poly_path = Path(skymap_out_dir) / \"inner_polys.yaml\"\n",
    "outer_poly_path = Path(skymap_out_dir) / \"outer_polys.yaml\"\n",
    "\n",
    "write_polygons(lsst_skymap, inner_poly_path, inner=True)\n",
    "#write_outer_polygons(lsst_skymap, outer_poly_path)"
   ]
  },
  {
   "cell_type": "markdown",
   "id": "4e89bd8f",
   "metadata": {},
   "source": [
    "### Read inner_poly"
   ]
  },
  {
   "cell_type": "code",
   "execution_count": 144,
   "id": "7c0022ee",
   "metadata": {},
   "outputs": [],
   "source": [
    "import yaml\n",
    "from lsst.sphgeom import UnitVector3d, ConvexPolygon\n",
    "\n",
    "def load_polygons(yaml_path):\n",
    "    \"\"\"Load exact inner or outer polygons from a YAML file using 3D unit vectors.\n",
    "\n",
    "    Parameters\n",
    "    ----------\n",
    "    yaml_path : str\n",
    "        Path to the YAML file written by `write_polygons`.\n",
    "\n",
    "    Returns\n",
    "    -------\n",
    "    dict\n",
    "        Mapping from tract ID (int) to sphgeom.ConvexPolygon.\n",
    "    \"\"\"\n",
    "    with open(yaml_path, \"r\") as f:\n",
    "        data = yaml.safe_load(f)\n",
    "\n",
    "    poly_dict = {}\n",
    "\n",
    "    for tract_id_str, vec_list in data[\"tracts\"].items():\n",
    "        tract_id = int(tract_id_str)\n",
    "\n",
    "        unit_vecs = [UnitVector3d(*vec) for vec in vec_list]\n",
    "\n",
    "        # Skip degenerate polygons (fewer than 3 unique vertices)\n",
    "        unique_vecs = {tuple(round(x, 12) for x in v) for v in unit_vecs}\n",
    "        if len(unique_vecs) < 3:\n",
    "            print(f\"⚠️ Skipping degenerate tract {tract_id}\")\n",
    "            continue\n",
    "\n",
    "        poly = ConvexPolygon(unit_vecs)\n",
    "        poly_dict[tract_id] = poly\n",
    "\n",
    "    return poly_dict\n"
   ]
  },
  {
   "cell_type": "code",
   "execution_count": 145,
   "id": "3f7e50e9",
   "metadata": {},
   "outputs": [
    {
     "name": "stdout",
     "output_type": "stream",
     "text": [
      "⚠️ Skipping degenerate tract 0\n",
      "⚠️ Skipping degenerate tract 18937\n"
     ]
    }
   ],
   "source": [
    "inner_poly_map = load_polygons(inner_poly_path)"
   ]
  },
  {
   "cell_type": "code",
   "execution_count": 147,
   "id": "cd64af9c",
   "metadata": {},
   "outputs": [],
   "source": [
    "# Just patch the polar caps in for now (todo)\n",
    "inner_poly_map[0] = get_poly_from_tract_id(0, inner=True)\n",
    "inner_poly_map[18937] = get_poly_from_tract_id(18937, inner=True)"
   ]
  },
  {
   "cell_type": "code",
   "execution_count": 169,
   "id": "d5a115a0",
   "metadata": {},
   "outputs": [],
   "source": [
    "import numpy as np\n",
    "\n",
    "def polys_are_equiv(poly_a, poly_b, rtol=1e-12, atol=1e-14):\n",
    "    \"\"\"Check if two ConvexPolygons are equivalent within floating point tolerance.\n",
    "\n",
    "    Parameters\n",
    "    ----------\n",
    "    poly_a, poly_b : sphgeom.ConvexPolygon\n",
    "        The polygons to compare.\n",
    "    rtol : float\n",
    "        Relative tolerance for np.allclose.\n",
    "    atol : float\n",
    "        Absolute tolerance for np.allclose.\n",
    "\n",
    "    Returns\n",
    "    -------\n",
    "    bool\n",
    "        True if all vertices match within tolerance.\n",
    "    \"\"\"\n",
    "    verts_a = poly_a.getVertices()\n",
    "    verts_b = poly_b.getVertices()\n",
    "\n",
    "    if len(verts_a) != len(verts_b):\n",
    "        return False\n",
    "\n",
    "    return np.allclose(verts_a, verts_b, rtol=rtol, atol=atol)"
   ]
  },
  {
   "cell_type": "code",
   "execution_count": 170,
   "id": "f88ad9e7",
   "metadata": {},
   "outputs": [
    {
     "name": "stdout",
     "output_type": "stream",
     "text": [
      "Ground truth polygon vertices:\n",
      "  [0.01234606712317723, -0.004011480379333821, -0.9999157377758169]\n",
      "  [0.01234606712317723, 0.004011480379333817, -0.9999157377758169]\n",
      "  [0.03702987926356043, 0.012031737121857252, -0.9992417251814281]\n",
      "  [0.03702987926356043, -0.012031737121857263, -0.9992417251814281]\n",
      "Loaded polygon vertices:\n",
      "  [0.01234606712317723, -0.004011480379333821, -0.9999157377758169]\n",
      "  [0.01234606712317723, 0.004011480379333817, -0.9999157377758169]\n",
      "  [0.03702987926356044, 0.012031737121857252, -0.9992417251814281]\n",
      "  [0.03702987926356044, -0.012031737121857263, -0.9992417251814281]\n",
      "Are the polygons equivalent? True\n"
     ]
    }
   ],
   "source": [
    "ground_truth_poly = get_poly_from_tract_id(1, inner=True)\n",
    "loaded_poly = inner_poly_map[1]\n",
    "\n",
    "print(\"Ground truth polygon vertices:\")\n",
    "for v in ground_truth_poly.getVertices():\n",
    "    print(f\"  {v}\")\n",
    "print(\"Loaded polygon vertices:\")\n",
    "for v in loaded_poly.getVertices():\n",
    "    print(f\"  {v}\")\n",
    "print(\"Are the polygons equivalent?\", polys_are_equiv(ground_truth_poly, loaded_poly))"
   ]
  },
  {
   "cell_type": "code",
   "execution_count": 173,
   "id": "7191d6f4",
   "metadata": {},
   "outputs": [
    {
     "data": {
      "text/plain": [
       "18938"
      ]
     },
     "execution_count": 173,
     "metadata": {},
     "output_type": "execute_result"
    }
   ],
   "source": [
    "lsst_skymap._numTracts"
   ]
  },
  {
   "cell_type": "code",
   "execution_count": 184,
   "id": "79f1b755",
   "metadata": {},
   "outputs": [],
   "source": [
    "import numpy as np\n",
    "\n",
    "tracts_to_check = np.linspace(0, lsst_skymap._numTracts-1, 1000, dtype=int)\n",
    "for tract_id in tracts_to_check:\n",
    "    ground_truth_poly = get_poly_from_tract_id(tract_id, inner=True)\n",
    "    loaded_poly = inner_poly_map[tract_id]\n",
    "    if not polys_are_equiv(ground_truth_poly, loaded_poly):\n",
    "        print(f\"Tract {tract_id} polygons are NOT equivalent!\")\n",
    "    else:\n",
    "        continue\n",
    "\n"
   ]
  },
  {
   "cell_type": "markdown",
   "id": "eca14065",
   "metadata": {},
   "source": [
    "## Option 2: Reconstruct everything using projection + geometry"
   ]
  },
  {
   "cell_type": "markdown",
   "id": "3f58b787",
   "metadata": {},
   "source": [
    "What you'd need to store:  \n",
    "\n",
    "- Global:\n",
    "  - `projection: \"TAN\"`\n",
    "  - `pixel_scale_deg`: (or arcsec/pixel)\n",
    "  - `tract_width`, `tract_height`: in pixels\n",
    "  - `overlap_deg`: or overlap in pixels (need this for inner bounds)\n",
    "\n",
    "- Per-tract:\n",
    "  - `tract_id`\n",
    "  - `center_ra`, `center_dec`\n",
    "  - `rotation` (optional, usually 0)\n",
    "  - `flipX` (optional, for WCS handedness)\n",
    "\n",
    "Then, you reconstruct inner and outer polys by:\n",
    "- Creating a fake `SkyWcs` from these params\n",
    "- Converting pixel corners of `[0,0]` → `[width,height]` to sky coordinates\n",
    "- Optionally applying overlap trimming in pixel space\n",
    "\n",
    "✅ Pros\n",
    "- Super compact: ~2 floats + a few constants per tract\n",
    "- Elegant reuse of LSST projection machinery\n",
    "- One unified format\n",
    "\n",
    "❌ Cons\n",
    "- Requires LSST-style WCS math to reconstruct accurately\n",
    "- Introduces fragility: assumptions about projection type and tract uniformity\n",
    "- Slightly harder to read/debug"
   ]
  },
  {
   "cell_type": "markdown",
   "id": "b0859316",
   "metadata": {},
   "source": []
  }
 ],
 "metadata": {
  "kernelspec": {
   "display_name": "Python 3 (ipykernel)",
   "language": "python",
   "name": "python3"
  },
  "language_info": {
   "codemirror_mode": {
    "name": "ipython",
    "version": 3
   },
   "file_extension": ".py",
   "mimetype": "text/x-python",
   "name": "python",
   "nbconvert_exporter": "python",
   "pygments_lexer": "ipython3",
   "version": "3.12.9"
  }
 },
 "nbformat": 4,
 "nbformat_minor": 5
}
