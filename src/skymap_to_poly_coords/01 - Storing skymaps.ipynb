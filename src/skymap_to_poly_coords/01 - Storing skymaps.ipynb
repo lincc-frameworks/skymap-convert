{
 "cells": [
  {
   "cell_type": "markdown",
   "id": "06012870",
   "metadata": {},
   "source": [
    "# Storing skymaps"
   ]
  },
  {
   "cell_type": "markdown",
   "id": "c38f9b28",
   "metadata": {},
   "source": [
    "## Read raw skymap files"
   ]
  },
  {
   "cell_type": "code",
   "execution_count": 1,
   "id": "b046e4b1",
   "metadata": {},
   "outputs": [],
   "source": [
    "import pickle\n",
    "from pathlib import Path\n",
    "import math\n",
    "import numpy as np\n",
    "\n",
    "\n",
    "from lsst.sphgeom import Box, ConvexPolygon, UnitVector3d\n",
    "from math import pi\n",
    "from lsst.sphgeom import LonLat, UnitVector3d, ConvexPolygon\n",
    "import yaml\n",
    "from lsst.sphgeom import UnitVector3d, ConvexPolygon"
   ]
  },
  {
   "cell_type": "code",
   "execution_count": 2,
   "id": "3c3fbfcf",
   "metadata": {},
   "outputs": [
    {
     "data": {
      "text/plain": [
       "<lsst.skymap.ringsSkyMap.RingsSkyMap at 0x7f4421580830>"
      ]
     },
     "execution_count": 2,
     "metadata": {},
     "output_type": "execute_result"
    }
   ],
   "source": [
    "home_dir = \"/sdf/home/o/olynn/\"\n",
    "raw_skymaps_dir = Path(home_dir, \"skymap-to-poly-coords\", \"tests\", \"data\", \"raw-skymaps\")\n",
    "\n",
    "skymap_path = raw_skymaps_dir / \"skyMap_lsst_cells_v1_skymaps.pickle\"\n",
    "with open(skymap_path, \"rb\") as f:\n",
    "    lsst_skymap = pickle.load(f)\n",
    "lsst_skymap"
   ]
  },
  {
   "cell_type": "markdown",
   "id": "c035d29d",
   "metadata": {},
   "source": [
    "## Utility functions for later"
   ]
  },
  {
   "cell_type": "markdown",
   "id": "95b64469",
   "metadata": {},
   "source": [
    "### Check if a point is in a tract (using lsst.skymap)"
   ]
  },
  {
   "cell_type": "code",
   "execution_count": 3,
   "id": "2f076531",
   "metadata": {},
   "outputs": [],
   "source": [
    "def box_to_convex_polygon(box: Box) -> ConvexPolygon:\n",
    "    if box.isEmpty():\n",
    "        raise ValueError(\"Cannot convert an empty Box to a ConvexPolygon.\")\n",
    "\n",
    "    # Get the corners of the box\n",
    "    lon_a, lon_b = box.getLon().getA().asRadians(), box.getLon().getB().asRadians()\n",
    "    lon_min = min(lon_a, lon_b)\n",
    "    lon_max = max(lon_a, lon_b)\n",
    "    lat_a, lat_b = box.getLat().getA().asRadians(), box.getLat().getB().asRadians()\n",
    "    lat_min = min(lat_a, lat_b)\n",
    "    lat_max = max(lat_a, lat_b)\n",
    "    # todo : this may be an improper assumption, considering RA wrap around!!\n",
    "\n",
    "    bottom_left = LonLat.fromRadians(lon_min, lat_min)\n",
    "    bottom_right = LonLat.fromRadians(lon_max, lat_min)\n",
    "    top_right = LonLat.fromRadians(lon_max, lat_max)\n",
    "    top_left = LonLat.fromRadians(lon_min, lat_max)\n",
    "\n",
    "    # Convert corners to UnitVector3d\n",
    "    vertices = [\n",
    "        UnitVector3d(bottom_left),\n",
    "        UnitVector3d(bottom_right),\n",
    "        UnitVector3d(top_right),\n",
    "        UnitVector3d(top_left),\n",
    "    ]\n",
    "\n",
    "    # Create and return the ConvexPolygon\n",
    "    return ConvexPolygon(vertices)"
   ]
  },
  {
   "cell_type": "markdown",
   "id": "7ce7f70c",
   "metadata": {},
   "source": [
    "### Get a poly from a tract ID"
   ]
  },
  {
   "cell_type": "code",
   "execution_count": 4,
   "id": "6eb59d04",
   "metadata": {},
   "outputs": [],
   "source": [
    "def get_poly_from_tract_id(tract_id, inner=False) -> ConvexPolygon:\n",
    "    tract = lsst_skymap.generateTract(tract_id)\n",
    "    if inner:\n",
    "        res = tract.inner_sky_region\n",
    "    else:\n",
    "        res = tract.outer_sky_polygon\n",
    "    if isinstance(res, Box):\n",
    "        res = box_to_convex_polygon(res)\n",
    "    return res"
   ]
  },
  {
   "cell_type": "markdown",
   "id": "c85b5340",
   "metadata": {},
   "source": [
    "### Check if a point (in ra/dec, degrees) is in a given poly"
   ]
  },
  {
   "cell_type": "code",
   "execution_count": 5,
   "id": "ce01c001",
   "metadata": {},
   "outputs": [
    {
     "data": {
      "text/plain": [
       "True"
      ]
     },
     "execution_count": 5,
     "metadata": {},
     "output_type": "execute_result"
    }
   ],
   "source": [
    "\n",
    "def point_in_poly(polygon, ra_degrees, dec_degrees):\n",
    "    vec = UnitVector3d(LonLat.fromDegrees(ra_degrees, dec_degrees))\n",
    "    return polygon.contains(vec)\n",
    "\n",
    "\n",
    "    \n",
    "#check_point(1, 0.0, -88.0, inner=False)\n",
    "poly = get_poly_from_tract_id(1)\n",
    "point_in_poly(poly, 0.0, -88.0)"
   ]
  },
  {
   "cell_type": "markdown",
   "id": "2b30451b",
   "metadata": {},
   "source": [
    "### Check if two polys are equivalent (within tolerance)"
   ]
  },
  {
   "cell_type": "code",
   "execution_count": 6,
   "id": "691ac997",
   "metadata": {},
   "outputs": [],
   "source": [
    "\n",
    "def polys_are_equiv(poly_a, poly_b, rtol=1e-12, atol=1e-14):\n",
    "    \"\"\"Check if two ConvexPolygons are equivalent within floating point tolerance.\n",
    "\n",
    "    Parameters\n",
    "    ----------\n",
    "    poly_a, poly_b : sphgeom.ConvexPolygon\n",
    "        The polygons to compare.\n",
    "    rtol : float\n",
    "        Relative tolerance for np.allclose.\n",
    "    atol : float\n",
    "        Absolute tolerance for np.allclose.\n",
    "\n",
    "    Returns\n",
    "    -------\n",
    "    bool\n",
    "        True if all vertices match within tolerance.\n",
    "    \"\"\"\n",
    "    verts_a = poly_a.getVertices()\n",
    "    verts_b = poly_b.getVertices()\n",
    "\n",
    "    if len(verts_a) != len(verts_b):\n",
    "        return False\n",
    "\n",
    "    return np.allclose(verts_a, verts_b, rtol=rtol, atol=atol)"
   ]
  },
  {
   "cell_type": "markdown",
   "id": "3ce11262",
   "metadata": {},
   "source": [
    "*A note on rings sky map pixelization (in html comment in this cell)*\n",
    "<!---## Rings sky map pixelization\n",
    "*From the RingsSkyMap docstring in lsst.skymap:*\n",
    "\n",
    "We divide the sphere into N rings of Declination, plus the two polar\n",
    "caps, which sets the size of the individual tracts.  The rings are\n",
    "divided in RA into an integral number of tracts of this size; this\n",
    "division is made at the Declination closest to zero so as to ensure\n",
    "full overlap.\n",
    "\n",
    "Rings are numbered in the rings from south to north. The south pole cap is\n",
    "``tract=0``, then the tract at ``raStart`` in the southernmost ring is\n",
    "``tract=1``. Numbering continues (in the positive RA direction) around that\n",
    "ring and then continues in the same fashion with the next ring north, and\n",
    "so on until all reaching the north pole cap, which is\n",
    "``tract=len(skymap) - 1``.\n",
    "\n",
    "However, ``version=0`` had a bug in the numbering of the tracts: the first\n",
    "and last tracts in the first (southernmost) ring were identical, and the\n",
    "first tract in the last (northernmost) ring was missing. When using\n",
    "``version=0``, these tracts remain missing in order to preserve the\n",
    "numbering scheme.--->"
   ]
  },
  {
   "cell_type": "markdown",
   "id": "1484abc1",
   "metadata": {},
   "source": [
    "## Storage options\n"
   ]
  },
  {
   "cell_type": "markdown",
   "id": "22b853ab",
   "metadata": {},
   "source": [
    "We would like to support both inner and outer polygons for the tracts.  \n",
    "\n",
    "Tracts are arranged in \"rings\", which span horizontal regions of the sky.\n",
    "\n",
    "🔹 Inner polys:\n",
    "- represent the exact boundaries of a given tract\n",
    "- do not overlap\n",
    "\n",
    "🔹 Outer polys:\n",
    "- may (will?) overlap with adjacent tracts' outer polys\n",
    "- are akin to margins in HATS catalogs"
   ]
  },
  {
   "cell_type": "markdown",
   "id": "bd4bddbd",
   "metadata": {},
   "source": [
    "## Option 1: Two YAML files (inner polys and outer polys) that store each tracts' corners"
   ]
  },
  {
   "cell_type": "markdown",
   "id": "4115a76a",
   "metadata": {},
   "source": [
    "#### Inner polys:\n",
    "- Store per-tract: `ra_min`, `ra_max`, `dec_min`, `dec_max`\n",
    "- Comes directly from `getRaDecRange(tract_index)`\n",
    "- Requires 4 floats per tract, so for ~19k tracts:\n",
    "  4 × 8 B × 19,000 ≈ ~600 KB (before YAML overhead; ~1–1.5 MB total)\n",
    "- However, could compress to a `.npz` of around ~0.5–0.8 MB\n",
    "\n",
    "#### Outer polys:\n",
    "- todo\n",
    "\n",
    "#### ✅ Pros\n",
    "- Easy to understand and verify\n",
    "- Doesn’t require any LSST WCS machinery\n",
    "- Reading is fast + LSST-free\n",
    "\n",
    "#### ❌ Cons\n",
    "- Slightly more disk usage than an ultra-compressed model\n",
    "- Less precise because of floating points?"
   ]
  },
  {
   "cell_type": "markdown",
   "id": "4f9c2aa5",
   "metadata": {},
   "source": [
    "### Write inner_poly and outer_poly files"
   ]
  },
  {
   "cell_type": "code",
   "execution_count": 7,
   "id": "fdc287cf",
   "metadata": {},
   "outputs": [],
   "source": [
    "import yaml\n",
    "from lsst.sphgeom import UnitVector3d\n",
    "\n",
    "def write_polygons(skymap, output_path, inner=True):\n",
    "    \"\"\"Write exact inner polygons for each tract using 3D unit vectors.\n",
    "\n",
    "    Parameters\n",
    "    ----------\n",
    "    skymap : RingsSkyMap\n",
    "        The LSST SkyMap object.\n",
    "    output_path : str\n",
    "        Path to output YAML file.\n",
    "    inner : bool\n",
    "        If True, write inner polygons; if False, write outer polygons.\n",
    "        Default is True.\n",
    "    \"\"\"\n",
    "    out = {\"tracts\": {}}\n",
    "\n",
    "    for tract in skymap:\n",
    "        tract_id = tract.getId()\n",
    "        if inner:\n",
    "            poly = tract.inner_sky_region\n",
    "            if isinstance(poly, Box):\n",
    "                poly = box_to_convex_polygon(poly)\n",
    "        else:\n",
    "            poly = tract.outer_sky_polygon\n",
    "\n",
    "        out[\"tracts\"][tract_id] = [\n",
    "            [v[0], v[1], v[2]] for v in poly.getVertices()\n",
    "        ]\n",
    "\n",
    "    with open(output_path, \"w\") as f:\n",
    "        yaml.dump(out, f, sort_keys=False)\n",
    "\n",
    "    polygon_type = \"Inner\" if inner else \"Outer\"\n",
    "    print(f\"✅ {polygon_type} polygons written to {output_path}\")\n"
   ]
  },
  {
   "cell_type": "code",
   "execution_count": 8,
   "id": "e233941c",
   "metadata": {},
   "outputs": [
    {
     "name": "stdout",
     "output_type": "stream",
     "text": [
      "✅ Inner polygons written to /sdf/home/o/olynn/skymap-to-poly-coords/skymaps_out/inner_polys.yaml\n",
      "✅ Outer polygons written to /sdf/home/o/olynn/skymap-to-poly-coords/skymaps_out/outer_polys.yaml\n"
     ]
    }
   ],
   "source": [
    "skymap_out_dir = \"/sdf/home/o/olynn/skymap-to-poly-coords/skymaps_out/\"\n",
    "inner_poly_path = Path(skymap_out_dir) / \"inner_polys.yaml\"\n",
    "outer_poly_path = Path(skymap_out_dir) / \"outer_polys.yaml\"\n",
    "\n",
    "write_polygons(lsst_skymap, inner_poly_path, inner=True)\n",
    "write_polygons(lsst_skymap, outer_poly_path, inner=False)"
   ]
  },
  {
   "cell_type": "markdown",
   "id": "4e89bd8f",
   "metadata": {},
   "source": [
    "### Read inner_poly and outer_poly"
   ]
  },
  {
   "cell_type": "code",
   "execution_count": 11,
   "id": "7c0022ee",
   "metadata": {},
   "outputs": [],
   "source": [
    "def load_polygons(yaml_path):\n",
    "    \"\"\"Load exact inner or outer polygons from a YAML file using 3D unit vectors.\n",
    "\n",
    "    Parameters\n",
    "    ----------\n",
    "    yaml_path : str\n",
    "        Path to the YAML file written by `write_polygons`.\n",
    "\n",
    "    Returns\n",
    "    -------\n",
    "    dict\n",
    "        Mapping from tract ID (int) to sphgeom.ConvexPolygon.\n",
    "    \"\"\"\n",
    "    with open(yaml_path, \"r\") as f:\n",
    "        data = yaml.safe_load(f)\n",
    "\n",
    "    poly_dict = {}\n",
    "\n",
    "    for tract_id_str, vec_list in data[\"tracts\"].items():\n",
    "        tract_id = int(tract_id_str)\n",
    "\n",
    "        unit_vecs = [UnitVector3d(*vec) for vec in vec_list]\n",
    "\n",
    "        # Skip degenerate polygons (fewer than 3 unique vertices)\n",
    "        unique_vecs = {tuple(round(x, 12) for x in v) for v in unit_vecs}\n",
    "        if len(unique_vecs) < 3:\n",
    "            print(f\"⚠️ Skipping degenerate tract {tract_id}\")\n",
    "            continue\n",
    "\n",
    "        poly = ConvexPolygon(unit_vecs)\n",
    "        poly_dict[tract_id] = poly\n",
    "\n",
    "    print(f\"✅ Loaded {len(poly_dict)} polygons from {yaml_path}\")\n",
    "    return poly_dict"
   ]
  },
  {
   "cell_type": "code",
   "execution_count": 12,
   "id": "3f7e50e9",
   "metadata": {},
   "outputs": [
    {
     "name": "stdout",
     "output_type": "stream",
     "text": [
      "⚠️ Skipping degenerate tract 0\n",
      "⚠️ Skipping degenerate tract 18937\n",
      "✅ Loaded 18936 polygons from /sdf/home/o/olynn/skymap-to-poly-coords/skymaps_out/inner_polys.yaml\n",
      "✅ Loaded 18938 polygons from /sdf/home/o/olynn/skymap-to-poly-coords/skymaps_out/outer_polys.yaml\n"
     ]
    }
   ],
   "source": [
    "inner_poly_map = load_polygons(inner_poly_path)\n",
    "outer_poly_map = load_polygons(outer_poly_path)"
   ]
  },
  {
   "cell_type": "code",
   "execution_count": 16,
   "id": "7534eedf",
   "metadata": {},
   "outputs": [],
   "source": [
    "# Just patch the polar caps in for now (todo)\n",
    "\n",
    "inner_poly_map[0] = get_poly_from_tract_id(0, inner=True)\n",
    "inner_poly_map[len(inner_poly_map)-1] = get_poly_from_tract_id(len(inner_poly_map)-1, inner=True)"
   ]
  },
  {
   "cell_type": "markdown",
   "id": "4d1fe8bb",
   "metadata": {},
   "source": [
    "### Check our saved-and-loaded tracts against the tracts we read via the lsst.skymap package"
   ]
  },
  {
   "cell_type": "code",
   "execution_count": 17,
   "id": "79f1b755",
   "metadata": {},
   "outputs": [],
   "source": [
    "tracts_to_check = np.linspace(0, lsst_skymap._numTracts-1, 1000, dtype=int)\n",
    "for tract_id in tracts_to_check:\n",
    "    ground_truth_poly = get_poly_from_tract_id(tract_id, inner=True)\n",
    "    loaded_poly = inner_poly_map[tract_id]\n",
    "    if not polys_are_equiv(ground_truth_poly, loaded_poly):\n",
    "        print(f\"Tract {tract_id} polygons are NOT equivalent!\")\n",
    "    else:\n",
    "        continue"
   ]
  },
  {
   "cell_type": "markdown",
   "id": "eca14065",
   "metadata": {},
   "source": [
    "## Option 2: Reconstruct everything using projection + geometry"
   ]
  },
  {
   "cell_type": "markdown",
   "id": "3f58b787",
   "metadata": {},
   "source": [
    "What you'd need to store:  \n",
    "\n",
    "- Global:\n",
    "  - `projection: \"TAN\"`\n",
    "  - `pixel_scale_deg`: (or arcsec/pixel)\n",
    "  - `tract_width`, `tract_height`: in pixels\n",
    "  - `overlap_deg`: or overlap in pixels (need this for inner bounds)\n",
    "\n",
    "- Per-tract:\n",
    "  - `tract_id`\n",
    "  - `center_ra`, `center_dec`\n",
    "  - `rotation` (optional, usually 0)\n",
    "  - `flipX` (optional, for WCS handedness)\n",
    "\n",
    "Then, you reconstruct inner and outer polys by:\n",
    "- Creating a fake `SkyWcs` from these params\n",
    "- Converting pixel corners of `[0,0]` → `[width,height]` to sky coordinates\n",
    "- Optionally applying overlap trimming in pixel space\n",
    "\n",
    "✅ Pros\n",
    "- Super compact: ~2 floats + a few constants per tract\n",
    "- Elegant reuse of LSST projection machinery\n",
    "- One unified format\n",
    "\n",
    "❌ Cons\n",
    "- Requires LSST-style WCS math to reconstruct accurately\n",
    "- Introduces fragility: assumptions about projection type and tract uniformity\n",
    "- Slightly harder to read/debug"
   ]
  },
  {
   "cell_type": "markdown",
   "id": "b0859316",
   "metadata": {},
   "source": []
  }
 ],
 "metadata": {
  "kernelspec": {
   "display_name": "Python 3 (ipykernel)",
   "language": "python",
   "name": "python3"
  },
  "language_info": {
   "codemirror_mode": {
    "name": "ipython",
    "version": 3
   },
   "file_extension": ".py",
   "mimetype": "text/x-python",
   "name": "python",
   "nbconvert_exporter": "python",
   "pygments_lexer": "ipython3",
   "version": "3.12.9"
  }
 },
 "nbformat": 4,
 "nbformat_minor": 5
}
