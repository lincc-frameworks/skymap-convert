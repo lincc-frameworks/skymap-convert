{
 "cells": [
  {
   "cell_type": "markdown",
   "id": "4ee0834e",
   "metadata": {},
   "source": [
    "# Download skymap files"
   ]
  },
  {
   "cell_type": "code",
   "execution_count": null,
   "id": "bb95c3f7",
   "metadata": {},
   "outputs": [],
   "source": [
    "import lsst.daf.butler as dafButler"
   ]
  },
  {
   "cell_type": "code",
   "execution_count": null,
   "id": "059dfb74",
   "metadata": {},
   "outputs": [],
   "source": [
    "config = \"/repo/embargo\"\n",
    "butler = dafButler.Butler(config, collectionsk  =\"LSSTCam/runs/DRP/20250415_20250422/d_2025_04_23/DM-50409\")"
   ]
  },
  {
   "cell_type": "code",
   "execution_count": null,
   "id": "3473bcae",
   "metadata": {},
   "outputs": [],
   "source": [
    "refs = butler.registry.queryDatasets(\"skyMap\")\n",
    "list(refs)"
   ]
  },
  {
   "cell_type": "code",
   "execution_count": null,
   "id": "0f2ff22d",
   "metadata": {},
   "outputs": [],
   "source": [
    "skymap = None\n",
    "\n",
    "for ref in refs:\n",
    "    if ref.dataId[\"skymap\"] == \"lsst_cells_v1\":\n",
    "        skymap = ref\n",
    "        break\n",
    "\n",
    "skymap"
   ]
  },
  {
   "cell_type": "code",
   "execution_count": null,
   "id": "0aef056a",
   "metadata": {},
   "outputs": [],
   "source": [
    "butler.get(skymap)"
   ]
  },
  {
   "cell_type": "code",
   "execution_count": null,
   "id": "82fdf104",
   "metadata": {},
   "outputs": [],
   "source": [
    "skymap_uri = butler.getURI(skymap)\n",
    "skymap_uri"
   ]
  },
  {
   "cell_type": "code",
   "execution_count": null,
   "id": "72666fdc",
   "metadata": {},
   "outputs": [],
   "source": [
    "import os\n",
    "from lsst.resources import ResourcePath"
   ]
  },
  {
   "cell_type": "code",
   "execution_count": null,
   "id": "962f8160",
   "metadata": {},
   "outputs": [],
   "source": [
    "from pathlib import Path\n",
    "\n",
    "home_dir = Path.home()\n",
    "target_dir = home_dir / \"skymap-to-poly-coords\" / \"tests\" / \"data\" / \"raw_skymaps\"\n",
    "base = ResourcePath(target_dir, forceDirectory=True)\n",
    "new_uri = base.join(skymap_uri.basename())\n",
    "if os.path.exists(new_uri.path):\n",
    "    print(f\"File {new_uri} already exists. Skipping download.\")\n",
    "else:\n",
    "    new_uri.transfer_from(skymap_uri, transfer=\"copy\")\n",
    "    print(f\"File {new_uri} downloaded successfully.\")"
   ]
  }
 ],
 "metadata": {
  "kernelspec": {
   "display_name": "Python 3 (ipykernel)",
   "language": "python",
   "name": "python3"
  },
  "language_info": {
   "codemirror_mode": {
    "name": "ipython",
    "version": 3
   },
   "file_extension": ".py",
   "mimetype": "text/x-python",
   "name": "python",
   "nbconvert_exporter": "python",
   "pygments_lexer": "ipython3",
   "version": "3.12.9"
  }
 },
 "nbformat": 4,
 "nbformat_minor": 5
}
