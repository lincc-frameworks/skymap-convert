{
 "cells": [
  {
   "cell_type": "markdown",
   "id": "20bb470c",
   "metadata": {},
   "source": [
    "# Appendix 2 | Tract boundaries: how do they work?"
   ]
  },
  {
   "cell_type": "code",
   "execution_count": 3,
   "id": "6d33ebfc",
   "metadata": {},
   "outputs": [
    {
     "data": {
      "text/plain": [
       "<lsst.skymap.ringsSkyMap.RingsSkyMap at 0x7fbb9a76bf50>"
      ]
     },
     "execution_count": 3,
     "metadata": {},
     "output_type": "execute_result"
    }
   ],
   "source": [
    "from pathlib import Path\n",
    "from skymap_convert import load_pickle_skymap\n",
    "\n",
    "package_root = Path.home() / \"skymap-to-poly-coords\"\n",
    "raw_skymaps_dir = package_root / \"tests\" / \"data\" / \"raw_skymaps\"\n",
    "skymap_path = raw_skymaps_dir / \"skyMap_lsst_cells_v1_skymaps.pickle\"\n",
    "\n",
    "lsst_skymap = load_pickle_skymap(skymap_path)\n",
    "lsst_skymap"
   ]
  },
  {
   "cell_type": "markdown",
   "id": "72948228",
   "metadata": {},
   "source": [
    "## Getting multiple tracts by picking a point just above the upper boundary of a tract in ring 0 (first ring after the south pole)"
   ]
  },
  {
   "cell_type": "code",
   "execution_count": 10,
   "id": "d503d85b",
   "metadata": {},
   "outputs": [],
   "source": [
    "from lsst.geom import Angle, degrees, SpherePoint"
   ]
  },
  {
   "cell_type": "code",
   "execution_count": 18,
   "id": "86e2293b",
   "metadata": {},
   "outputs": [
    {
     "name": "stdout",
     "output_type": "stream",
     "text": [
      "TractInfo(id=2)\n",
      "\tTract 2 RA: 18.00, 54.00\n",
      "\tTract 2 Dec: -89.26, -87.77\n",
      "\n",
      "Target RA: 36.00, Target Dec: -87.76\n",
      "\tTarget point: (36.0000000000, -87.7585950413)\n",
      "\n",
      "Tracts found:\n",
      "(TractInfo(id=2, ctrCoord=[0.02100261408048886, 0.015259292328759364, -0.9996629653035124]), (PatchInfo(index=Index2D(x=4, y=9), innerBBox=(minimum=(12000, 27000), maximum=(14999, 29999)), outerBBox=(minimum=(11800, 26800), maximum=(15199, 30199)), cellInnerDimensions=(150, 150), cellBorder=50, numCellsPerPatchInner=22), PatchInfo(index=Index2D(x=5, y=9), innerBBox=(minimum=(15000, 27000), maximum=(17999, 29999)), outerBBox=(minimum=(14800, 26800), maximum=(18199, 30199)), cellInnerDimensions=(150, 150), cellBorder=50, numCellsPerPatchInner=22)))\n",
      "(TractInfo(id=12, ctrCoord=[0.04795287523125051, 0.01986273127556883, -0.998652088398823]), (PatchInfo(index=Index2D(x=1, y=0), innerBBox=(minimum=(3000, 0), maximum=(5999, 2999)), outerBBox=(minimum=(2800, -200), maximum=(6199, 3199)), cellInnerDimensions=(150, 150), cellBorder=50, numCellsPerPatchInner=22),))\n",
      "(TractInfo(id=13, ctrCoord=[0.03670154177053969, 0.036701541770539685, -0.998652088398823]), (PatchInfo(index=Index2D(x=7, y=0), innerBBox=(minimum=(21000, 0), maximum=(23999, 2999)), outerBBox=(minimum=(20800, -200), maximum=(24199, 3199)), cellInnerDimensions=(150, 150), cellBorder=50, numCellsPerPatchInner=22),))\n"
     ]
    }
   ],
   "source": [
    "# Let's pick tract 2 (avoids RA wrapping)\n",
    "tract_id = 2\n",
    "target_tract = lsst_skymap[tract_id]\n",
    "print(target_tract)\n",
    "\n",
    "# Then get its inner region\n",
    "tract_poly = target_tract.getInnerSkyRegion()\n",
    "\n",
    "# But we should translate these to RA/dec to be human readable (and mathable)\n",
    "tract_left = tract_poly.getLon().getA().asDegrees()\n",
    "tract_right = tract_poly.getLon().getB().asDegrees()\n",
    "print(f\"\\tTract {tract_id} RA: {tract_left:.2f}, {tract_right:.2f}\")\n",
    "\n",
    "tract_lower = tract_poly.getLat().getA().asDegrees()\n",
    "tract_upper = tract_poly.getLat().getB().asDegrees()\n",
    "print(f\"\\tTract {tract_id} Dec: {tract_lower:.2f}, {tract_upper:.2f}\")\n",
    "\n",
    "# Make a new point that would be just above, at the average of RAs\n",
    "target_ra = (tract_left + tract_right) / 2\n",
    "target_dec = tract_upper + 0.01  # Just above the upper bound\n",
    "print(f\"\\nTarget RA: {target_ra:.2f}, Target Dec: {target_dec:.2f}\")\n",
    "\n",
    "# And translate that target point to SpherePoint\n",
    "angle_ra = Angle(target_ra, degrees)\n",
    "angle_dec = Angle(target_dec, degrees)\n",
    "target_sphere_point = SpherePoint(angle_ra, angle_dec)\n",
    "print(f\"\\tTarget point: {target_sphere_point}\")\n",
    "\n",
    "# Then run this through findTractPatchList\n",
    "tracts_found = lsst_skymap.findTractPatchList([target_sphere_point])\n",
    "\n",
    "# And take a look at the tracts we get back\n",
    "print(f\"\\nTracts found:\")\n",
    "print(\"\\n\".join([str(tract) for tract in tracts_found]))"
   ]
  },
  {
   "cell_type": "markdown",
   "id": "6215c4c5",
   "metadata": {},
   "source": [
    "- Seems this is ultimately getting a likely tract based on search point's RA\n",
    "  - Then grabbing adjacent tracts to be safe\n",
    "- And running tract.contains to see if the point is \"in\" each of the tracts\n",
    "- And tract.contains then calls self.getBBox().contains(...)\n",
    "- And getBBox's docstring says \"Get bounding box of tract (as an geom.Box2I)\"\n",
    "  - This seems to be based on the patches\n",
    "  - So, I don't think this is strictly using the boundaries of the tract\n",
    "  - Seems like more of a \"let's be safe and not sorry\" type thing\n"
   ]
  }
 ],
 "metadata": {
  "kernelspec": {
   "display_name": "Python 3 (ipykernel)",
   "language": "python",
   "name": "python3"
  },
  "language_info": {
   "codemirror_mode": {
    "name": "ipython",
    "version": 3
   },
   "file_extension": ".py",
   "mimetype": "text/x-python",
   "name": "python",
   "nbconvert_exporter": "python",
   "pygments_lexer": "ipython3",
   "version": "3.12.9"
  }
 },
 "nbformat": 4,
 "nbformat_minor": 5
}
