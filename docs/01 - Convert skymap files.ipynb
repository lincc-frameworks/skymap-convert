{
 "cells": [
  {
   "cell_type": "markdown",
   "id": "e1b0a8da",
   "metadata": {},
   "source": [
    "# Convert skymap files"
   ]
  },
  {
   "cell_type": "markdown",
   "id": "3210138a",
   "metadata": {},
   "source": [
    "## Overview\n",
    "\n",
    "In this notebook, we will provide brief overviews of:\n",
    "- what skymaps are\n",
    "- why we need a way to convert their structure/representation\n",
    "- how they're currently stuctured in lsst.skymaps\n",
    "- a couple different strategies we use for this conversion\n",
    "\n",
    "### What is a skymap?\n",
    "\n",
    "(a brief explanation)\n",
    "\n",
    "(maybe also describe how lsst structures/stores skymaps)\n",
    "\n",
    "For more information on skymaps, see the Appendix 3 notebook.\n",
    "\n",
    "### Why do we care?\n",
    "\n",
    "- lsdb now enables users to search by tract/patch, as they would on the RSP\n",
    "- however, using the lsst skymap requries the lsst skymap package, which depends on other packages in the lsst stack\n",
    "- this means it isn't pip installable :(\n",
    "- so, we provide infrastrucutre to read in these skymap files and convert them to new formats that can be read without the lsst stack"
   ]
  },
  {
   "cell_type": "markdown",
   "id": "2c1235ab",
   "metadata": {},
   "source": [
    "## Methods of converting and storing skymaps\n",
    "\n",
    "There are a couple of methods we explore:\n",
    "\n",
    "### \"Full Vertex\"\n",
    "- this is a vertex dump\n",
    "- we calculate the vertices for each tract in the skymap file, then dump into the yaml as radec values\n",
    "- really has no deps which is nice\n",
    "- and works for more or less any kind of skymap\n",
    "- however, storage isn't ideal\n",
    "- (metrics)\n",
    "- plus, if we added patches, at the 10x10 patches per tract that lsst uses,\n",
    "- (metrics)\n",
    "- so, we use prior knowledge of the lsst's ring structure to \n",
    "\n",
    "### \"Ring Optimized\"\n",
    "- `ringSkymap` files, of which the lsst skymap is a type, divide the sky into a set of horizontal \"rings\"\n",
    "- they have consistent upper, lower dec boundaries\n",
    "- they are subdivided into tracts, which (besides the poles) are all rectangular (rounding for floating point precision; conservatively beyond arcseconds)\n",
    "- (could list some more invariants about rings and tracts)\n",
    "- (metrics)"
   ]
  },
  {
   "cell_type": "markdown",
   "id": "f4e43e8f",
   "metadata": {},
   "source": [
    "## Other information\n",
    "\n",
    "There are a few more things to know about skymaps."
   ]
  },
  {
   "cell_type": "markdown",
   "id": "c49573d6",
   "metadata": {},
   "source": [
    "### Inner vs outer polygons\n",
    "\n",
    "(describe)"
   ]
  },
  {
   "cell_type": "markdown",
   "id": "512a8798",
   "metadata": {},
   "source": [
    "### Exact tract boundaries\n",
    "\n",
    "These are `¯\\_(ツ)_/¯ `\n",
    "\n",
    "- See Appendix 2\n",
    "- todo: list info from the slack thread Neven started"
   ]
  },
  {
   "cell_type": "markdown",
   "id": "b9e692be",
   "metadata": {
    "vscode": {
     "languageId": "plaintext"
    }
   },
   "source": [
    "## Read in raw skymap"
   ]
  },
  {
   "cell_type": "code",
   "execution_count": null,
   "id": "d4740872",
   "metadata": {},
   "outputs": [],
   "source": [
    "from pathlib import Path\n",
    "from skymap_convert import load_pickle_skymap\n",
    "\n",
    "package_root = Path.home() / \"skymap-convert\"\n",
    "\n",
    "raw_skymaps_dir = package_root / \"tests\" / \"data\" / \"raw_skymaps\"\n",
    "raw_skymap_path = raw_skymaps_dir / \"skyMap_lsst_cells_v1_skymaps.pickle\""
   ]
  },
  {
   "cell_type": "code",
   "execution_count": 2,
   "id": "4a8344e9",
   "metadata": {},
   "outputs": [
    {
     "data": {
      "text/plain": [
       "<lsst.skymap.ringsSkyMap.RingsSkyMap at 0x7f1d1deec4a0>"
      ]
     },
     "execution_count": 2,
     "metadata": {},
     "output_type": "execute_result"
    }
   ],
   "source": [
    "lsst_skymap = load_pickle_skymap(raw_skymap_path)\n",
    "lsst_skymap"
   ]
  },
  {
   "cell_type": "markdown",
   "id": "0624713f",
   "metadata": {},
   "source": [
    "## Convert to Full Vertex skymap\n",
    "\n",
    "Keep in mind: for inner polygons, Ring Optimized skymaps (outlined below) are the recommended type!"
   ]
  },
  {
   "cell_type": "code",
   "execution_count": null,
   "id": "5cbca509",
   "metadata": {},
   "outputs": [],
   "source": [
    "converted_skymaps_dir = package_root / \"converted_skymaps\" / \"full_vertex\"\n",
    "\n",
    "fv_inner_poly_path = converted_skymaps_dir / \"inner_polygons.yaml\"\n",
    "fv_outer_poly_path = converted_skymaps_dir / \"outer_polygons.yaml\""
   ]
  },
  {
   "cell_type": "code",
   "execution_count": null,
   "id": "90c92319",
   "metadata": {},
   "outputs": [
    {
     "name": "stdout",
     "output_type": "stream",
     "text": [
      "✅ Wrote 18938 tract polygons to /sdf/home/o/olynn/skymap-convert/converted_skymaps/full_vertex/inner_polygons.yaml\n",
      "✅ Wrote 18938 tract polygons to /sdf/home/o/olynn/skymap-convert/converted_skymaps/full_vertex/outer_polygons.yaml\n"
     ]
    }
   ],
   "source": [
    "from skymap_convert import write_polygons_ra_dec\n",
    "\n",
    "write_polygons_ra_dec(lsst_skymap, fv_inner_poly_path, inner=True)\n",
    "write_polygons_ra_dec(lsst_skymap, fv_outer_poly_path, inner=False)"
   ]
  },
  {
   "cell_type": "code",
   "execution_count": null,
   "id": "e4175ce2",
   "metadata": {},
   "outputs": [
    {
     "name": "stdout",
     "output_type": "stream",
     "text": [
      "-rw-r--r-- 1 olynn gu 4.2M Jun 13 09:42 /sdf/home/o/olynn/skymap-convert/converted_skymaps/full_vertex/inner_polygons.yaml\n",
      "-rw-r--r-- 1 olynn gu 4.3M Jun 13 09:42 /sdf/home/o/olynn/skymap-convert/converted_skymaps/full_vertex/outer_polygons.yaml\n"
     ]
    }
   ],
   "source": [
    "!ls -lh {fv_inner_poly_path}\n",
    "!ls -lh {fv_outer_poly_path}"
   ]
  },
  {
   "cell_type": "markdown",
   "id": "230511e4",
   "metadata": {},
   "source": [
    "## Convert to Ring Optimized skymap"
   ]
  },
  {
   "cell_type": "code",
   "execution_count": 6,
   "id": "f550ef3d",
   "metadata": {},
   "outputs": [],
   "source": [
    "converted_skymaps_dir = package_root / \"converted_skymaps\" / \"ring_optimized\"\n",
    "\n",
    "ro_inner_poly_path = converted_skymaps_dir / \"inner_polygons.yaml\"\n",
    "ro_outer_poly_path = converted_skymaps_dir / \"outer_polygons.yaml\""
   ]
  },
  {
   "cell_type": "code",
   "execution_count": 7,
   "id": "514ddb26",
   "metadata": {},
   "outputs": [
    {
     "name": "stdout",
     "output_type": "stream",
     "text": [
      "✅ Ring-optimized skymap written to /sdf/home/o/olynn/skymap-convert/converted_skymaps/ring_optimized/inner_polygons.yaml\n"
     ]
    }
   ],
   "source": [
    "from skymap_convert import write_ring_optimized_skymap\n",
    "\n",
    "write_ring_optimized_skymap(\n",
    "    lsst_skymap, \n",
    "    ro_inner_poly_path, \n",
    "    inner=True,\n",
    "    patches=False,\n",
    "    skymap_name=\"lsst_v1\"\n",
    ")\n",
    "# skip the outer polygons for ring optimized skymaps, for now (todo)"
   ]
  },
  {
   "cell_type": "code",
   "execution_count": 8,
   "id": "fdc087f3",
   "metadata": {},
   "outputs": [
    {
     "name": "stdout",
     "output_type": "stream",
     "text": [
      "-rw-r--r-- 1 olynn gu 13K Jun 13 09:46 /sdf/home/o/olynn/skymap-convert/converted_skymaps/ring_optimized/inner_polygons.yaml\n"
     ]
    }
   ],
   "source": [
    "# Use bash to see how big the file is:\n",
    "!ls -lh {ro_inner_poly_path}"
   ]
  }
 ],
 "metadata": {
  "kernelspec": {
   "display_name": "Python 3 (ipykernel)",
   "language": "python",
   "name": "python3"
  },
  "language_info": {
   "codemirror_mode": {
    "name": "ipython",
    "version": 3
   },
   "file_extension": ".py",
   "mimetype": "text/x-python",
   "name": "python",
   "nbconvert_exporter": "python",
   "pygments_lexer": "ipython3",
   "version": "3.12.9"
  }
 },
 "nbformat": 4,
 "nbformat_minor": 5
}
