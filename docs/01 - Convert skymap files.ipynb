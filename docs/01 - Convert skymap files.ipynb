{
 "cells": [
  {
   "cell_type": "markdown",
   "id": "e1b0a8da",
   "metadata": {},
   "source": [
    "# Convert skymap files"
   ]
  },
  {
   "cell_type": "markdown",
   "id": "3210138a",
   "metadata": {},
   "source": [
    "## Overview\n",
    "\n",
    "In this notebook, we will provide brief overviews of:\n",
    "- what skymaps are\n",
    "- why we need a way to convert their structure/representation\n",
    "- how they're currently stuctured in lsst.skymaps\n",
    "- a couple different strategies we use for this conversion\n",
    "\n",
    "### What is a skymap?\n",
    "\n",
    "(a brief explanation)\n",
    "\n",
    "(maybe also describe how lsst structures/stores skymaps?)\n",
    "\n",
    "### Why do we care?\n",
    "\n",
    "- lsdb now enables users to search by tract/patch, as they would on the RSP\n",
    "- however, using the lsst skymap requries the lsst skymap package, which depends on other packages in the lsst stack\n",
    "- this means it isn't pip installable :(\n",
    "- so, we provide infrastrucutre to read in these skymap files and convert them to new formats that can be read without the lsst stack"
   ]
  },
  {
   "cell_type": "markdown",
   "id": "2c1235ab",
   "metadata": {},
   "source": [
    "## Methods of converting and storing skymaps\n",
    "\n",
    "There are a couple of methods we explore:\n",
    "\n",
    "### \"Full Vertex\"\n",
    "- see code/detailed description in notebook (name)\n",
    "- this is a vertex dump\n",
    "- we calculate the vertices for each tract in the skymap file, then dump into the yaml as radec values\n",
    "- really has no deps which is nice\n",
    "- and works for more or less any kind of skymap\n",
    "- however, storage isn't ideal\n",
    "- (metrics)\n",
    "- plus, if we added patches, at the 10x10 patches per tract that lsst uses,\n",
    "- (metrics)\n",
    "- so, we use prior knowledge of the lsst's ring structure to \n",
    "\n",
    "### \"Ring Optimized\"\n",
    "- see code/detailed description in notebook (name)\n",
    "- `ringSkymap` files, of which the lsst skymap is a type, divide the sky into a set of horizontal \"rings\"\n",
    "- they have consistent upper, lower dec boundaries\n",
    "- they are subdivided into tracts, which (besides the poles) are all rectangular (rounding for floating point precision; conservatively beyond arcseconds)\n",
    "- (could list some more invariants about rings and tracts)\n",
    "- (metrics)"
   ]
  },
  {
   "cell_type": "markdown",
   "id": "f4e43e8f",
   "metadata": {},
   "source": [
    "## Other information\n",
    "\n",
    "There are a few more things to know about skymaps.\n",
    "\n",
    "- inner vs outer rings\n",
    "- nobody really knows the boundaries?\n",
    "- maybe other things, idk"
   ]
  }
 ],
 "metadata": {
  "language_info": {
   "name": "python"
  }
 },
 "nbformat": 4,
 "nbformat_minor": 5
}
