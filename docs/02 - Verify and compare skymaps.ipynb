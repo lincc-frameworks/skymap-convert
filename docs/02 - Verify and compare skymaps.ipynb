{
 "cells": [
  {
   "cell_type": "markdown",
   "id": "06012870",
   "metadata": {},
   "source": [
    "# Verify skymaps and compare metrics"
   ]
  },
  {
   "cell_type": "markdown",
   "id": "c38f9b28",
   "metadata": {},
   "source": [
    "## Read raw skymap files"
   ]
  },
  {
   "cell_type": "code",
   "execution_count": 1,
   "id": "b046e4b1",
   "metadata": {},
   "outputs": [],
   "source": [
    "from pathlib import Path\n",
    "from skymap_to_poly_coords import load_pickle_skymap"
   ]
  },
  {
   "cell_type": "code",
   "execution_count": 2,
   "id": "3c3fbfcf",
   "metadata": {},
   "outputs": [
    {
     "data": {
      "text/plain": [
       "<lsst.skymap.ringsSkyMap.RingsSkyMap at 0x7feed3d9bf50>"
      ]
     },
     "execution_count": 2,
     "metadata": {},
     "output_type": "execute_result"
    }
   ],
   "source": [
    "package_root = Path.home() / \"skymap-to-poly-coords\"\n",
    "\n",
    "raw_skymaps_dir = package_root / \"tests\" / \"data\" / \"raw_skymaps\"\n",
    "raw_skymap_path = raw_skymaps_dir / \"skyMap_lsst_cells_v1_skymaps.pickle\"\n",
    "\n",
    "lsst_skymap = load_pickle_skymap(raw_skymap_path)\n",
    "lsst_skymap"
   ]
  },
  {
   "cell_type": "markdown",
   "id": "64834304",
   "metadata": {},
   "source": [
    "## Full Vertex skymaps"
   ]
  },
  {
   "cell_type": "markdown",
   "id": "f797da99",
   "metadata": {},
   "source": [
    "### Read skymaps"
   ]
  },
  {
   "cell_type": "code",
   "execution_count": 7,
   "id": "e00f098c",
   "metadata": {},
   "outputs": [],
   "source": [
    "from skymap_to_poly_coords import load_polygons_ra_dec\n",
    "from skymap_to_poly_coords.test_utils import polys_are_equiv, get_poly_from_tract_id"
   ]
  },
  {
   "cell_type": "code",
   "execution_count": 4,
   "id": "b2fdee12",
   "metadata": {},
   "outputs": [],
   "source": [
    "full_vertex_skymaps_dir = package_root / \"converted_skymaps\" / \"full_vertex\"\n",
    "\n",
    "fv_inner_poly_path = full_vertex_skymaps_dir / \"inner_polygons.yaml\"\n",
    "fv_outer_poly_path = full_vertex_skymaps_dir / \"outer_polygons.yaml\""
   ]
  },
  {
   "cell_type": "markdown",
   "id": "7095e619",
   "metadata": {},
   "source": [
    "### Verify skymaps"
   ]
  },
  {
   "cell_type": "code",
   "execution_count": 3,
   "id": "2c97299b",
   "metadata": {},
   "outputs": [],
   "source": [
    "def verify_fv_polygons(fv_skymap, orig_skymap, inner=True):\n",
    "    for tract_id in range(orig_skymap._numTracts):\n",
    "        fv_poly = fv_skymap.get(tract_id)\n",
    "        orig_poly = get_poly_from_tract_id(lsst_skymap, tract_id, inner=inner)\n",
    "\n",
    "        if tract_id == 0 or tract_id == orig_skymap._numTracts - 1:\n",
    "            # Skip first and last tract for now, but todo\n",
    "            continue\n",
    "        else:\n",
    "            if not polys_are_equiv(fv_poly, orig_poly):\n",
    "                raise ValueError(f\"Tract {tract_id} polygons are not equivalent\")\n",
    "    print(f\"All {'inner' if inner else 'outer'} tract polygons are equivalent.\")"
   ]
  },
  {
   "cell_type": "code",
   "execution_count": 6,
   "id": "530835ff",
   "metadata": {},
   "outputs": [
    {
     "name": "stdout",
     "output_type": "stream",
     "text": [
      "⚠️ Storing `None` for degenerate tract 0\n",
      "⚠️ Storing `None` for degenerate tract 18937\n",
      "✅ Loaded 18938 tract polygons from /sdf/home/o/olynn/skymap-to-poly-coords/converted_skymaps/full_vertex/inner_polygons.yaml\n",
      "✅ Loaded 18938 tract polygons from /sdf/home/o/olynn/skymap-to-poly-coords/converted_skymaps/full_vertex/outer_polygons.yaml\n"
     ]
    }
   ],
   "source": [
    "fv_inner_polygons = load_polygons_ra_dec(fv_inner_poly_path)\n",
    "# Just patch the polar caps in for now (todo)\n",
    "fv_inner_polygons[0] = get_poly_from_tract_id(lsst_skymap, 0, inner=True)\n",
    "fv_inner_polygons[len(fv_inner_polygons)-1] = get_poly_from_tract_id(lsst_skymap, len(fv_inner_polygons)-1, inner=True)\n",
    "\n",
    "fv_outer_polygons = load_polygons_ra_dec(fv_outer_poly_path)"
   ]
  },
  {
   "cell_type": "code",
   "execution_count": 7,
   "id": "83aaa0ae",
   "metadata": {},
   "outputs": [
    {
     "name": "stdout",
     "output_type": "stream",
     "text": [
      "Verifying inner tract polygons...\n",
      "All inner tract polygons are equivalent.\n",
      "Verifying outer tract polygons...\n",
      "All outer tract polygons are equivalent.\n"
     ]
    }
   ],
   "source": [
    "print(\"Verifying inner tract polygons...\")\n",
    "verify_fv_polygons(fv_inner_polygons, lsst_skymap, inner=True)\n",
    "\n",
    "print(\"Verifying outer tract polygons...\")\n",
    "verify_fv_polygons(fv_outer_polygons, lsst_skymap, inner=False)"
   ]
  },
  {
   "cell_type": "markdown",
   "id": "921f86cb",
   "metadata": {},
   "source": [
    "### Storage metrics"
   ]
  },
  {
   "cell_type": "code",
   "execution_count": 8,
   "id": "7ece1710",
   "metadata": {},
   "outputs": [
    {
     "name": "stdout",
     "output_type": "stream",
     "text": [
      "Inner polygons file size: 4.16 MB\n",
      "Outer polygons file size: 4.24 MB\n"
     ]
    }
   ],
   "source": [
    "print(\"Inner polygons file size:\", round(fv_inner_poly_path.stat().st_size / (1024 * 1024), 2), \"MB\")\n",
    "print(\"Outer polygons file size:\", round(fv_outer_poly_path.stat().st_size / (1024 * 1024), 2), \"MB\")"
   ]
  },
  {
   "cell_type": "markdown",
   "id": "be996771",
   "metadata": {},
   "source": [
    "## Ring Optimized skymaps"
   ]
  },
  {
   "cell_type": "markdown",
   "id": "d7e2bef6",
   "metadata": {},
   "source": [
    "### Read skymaps"
   ]
  },
  {
   "cell_type": "code",
   "execution_count": 4,
   "id": "00ad1600",
   "metadata": {},
   "outputs": [],
   "source": [
    "ring_optimized_skymaps_dir = package_root / \"converted_skymaps\" / \"ring_optimized\"\n",
    "\n",
    "ro_inner_poly_path = ring_optimized_skymaps_dir / \"inner_polygons.yaml\"\n",
    "ro_outer_poly_path = ring_optimized_skymaps_dir / \"outer_polygons.yaml\""
   ]
  },
  {
   "cell_type": "markdown",
   "id": "cf7c8ff2",
   "metadata": {},
   "source": [
    "### Verify skymaps"
   ]
  },
  {
   "cell_type": "code",
   "execution_count": 16,
   "id": "46ed8cc4",
   "metadata": {},
   "outputs": [],
   "source": [
    "from skymap_to_poly_coords import RingOptimizedSkymapReader\n",
    "\n",
    "ro_inner = RingOptimizedSkymapReader(ro_inner_poly_path)"
   ]
  },
  {
   "cell_type": "code",
   "execution_count": 27,
   "id": "1c1b7436",
   "metadata": {},
   "outputs": [],
   "source": [
    "import numpy as np\n",
    "from skymap_to_poly_coords import unit_vector3d_to_radec\n",
    "\n",
    "def verify_ro_polygons(ro_skymap, orig_skymap, inner=True):\n",
    "    for tract_id in range(orig_skymap._numTracts):\n",
    "        ro_verts = ro_skymap.get(tract_id)[\"quad\"]\n",
    "        \n",
    "        orig_poly = get_poly_from_tract_id(lsst_skymap, tract_id, inner=inner)\n",
    "        orig_verts_unit_vectors = orig_poly.getVertices()\n",
    "        orig_verts_radec = [unit_vector3d_to_radec(vec) for vec in orig_verts_unit_vectors]\n",
    "\n",
    "        if not np.allclose(ro_verts, orig_verts_radec, atol=1e-6):\n",
    "            raise ValueError(f\"Tract {tract_id} polygons are not equivalent\")\n",
    "\n",
    "    print(f\"All {'inner' if inner else 'outer'} tract polygons are equivalent.\")"
   ]
  },
  {
   "cell_type": "code",
   "execution_count": null,
   "id": "8b7204c4",
   "metadata": {},
   "outputs": [
    {
     "name": "stdout",
     "output_type": "stream",
     "text": [
      "Verifying inner tract polygons...\n",
      "All inner tract polygons are equivalent.\n"
     ]
    }
   ],
   "source": [
    "print(\"Verifying inner tract polygons...\")\n",
    "verify_ro_polygons(ro_inner, lsst_skymap, inner=True)\n",
    "\n",
    "# No outer polygon ring optimized skymap yet"
   ]
  },
  {
   "cell_type": "markdown",
   "id": "f5eda1f8",
   "metadata": {},
   "source": [
    "### Storage metrics"
   ]
  },
  {
   "cell_type": "code",
   "execution_count": 30,
   "id": "4d77757f",
   "metadata": {},
   "outputs": [
    {
     "name": "stdout",
     "output_type": "stream",
     "text": [
      "Inner polygons file size: 12.79 KB\n"
     ]
    }
   ],
   "source": [
    "print(\"Inner polygons file size:\", round(ro_inner_poly_path.stat().st_size / 1024, 2), \"KB\")"
   ]
  }
 ],
 "metadata": {
  "kernelspec": {
   "display_name": "Python 3 (ipykernel)",
   "language": "python",
   "name": "python3"
  },
  "language_info": {
   "codemirror_mode": {
    "name": "ipython",
    "version": 3
   },
   "file_extension": ".py",
   "mimetype": "text/x-python",
   "name": "python",
   "nbconvert_exporter": "python",
   "pygments_lexer": "ipython3",
   "version": "3.12.9"
  }
 },
 "nbformat": 4,
 "nbformat_minor": 5
}
