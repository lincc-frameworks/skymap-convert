{
 "cells": [
  {
   "cell_type": "markdown",
   "id": "7d117687",
   "metadata": {},
   "source": [
    "# Convert to Full Vertex skymap"
   ]
  },
  {
   "cell_type": "markdown",
   "id": "a27c790e",
   "metadata": {},
   "source": [
    "## Overview\n",
    "\n",
    "In this notebook we will:\n",
    "- walk through the convertion of an lsst skymap file into a \"Full Vertex\" skymap file\n",
    "- a Full Vertex file is compoed of the vertices of all the tracts in the skymap, represented in radec, and dumped int a yaml\n",
    "- (it's not the recommended stratgy--unless you have a specific reason for using this method, we recommend the following \"Ring Optimized\" notebook!)"
   ]
  },
  {
   "cell_type": "code",
   "execution_count": null,
   "id": "cf080386",
   "metadata": {},
   "outputs": [],
   "source": [
    "from pathlib import Path\n",
    "from skymap_to_poly_coords import load_pickle_skymap, write_polygons_ra_dec"
   ]
  },
  {
   "cell_type": "markdown",
   "id": "234db9c7",
   "metadata": {},
   "source": [
    "## Read in raw skymap"
   ]
  },
  {
   "cell_type": "code",
   "execution_count": 2,
   "id": "05af8034",
   "metadata": {},
   "outputs": [],
   "source": [
    "package_root = Path.home() / \"skymap-to-poly-coords\"\n",
    "\n",
    "raw_skymaps_dir = package_root / \"tests\" / \"data\" / \"raw_skymaps\"\n",
    "raw_skymap_path = raw_skymaps_dir / \"skyMap_lsst_cells_v1_skymaps.pickle\""
   ]
  },
  {
   "cell_type": "code",
   "execution_count": 3,
   "id": "19778bc6",
   "metadata": {},
   "outputs": [
    {
     "data": {
      "text/plain": [
       "<lsst.skymap.ringsSkyMap.RingsSkyMap at 0x7f4ff12326f0>"
      ]
     },
     "execution_count": 3,
     "metadata": {},
     "output_type": "execute_result"
    }
   ],
   "source": [
    "lsst_skymap = load_pickle_skymap(raw_skymap_path)\n",
    "lsst_skymap"
   ]
  },
  {
   "cell_type": "markdown",
   "id": "7e3eff36",
   "metadata": {},
   "source": [
    "## Write Full Vertex file\n",
    "\n",
    "See main \"Convert skymaps\" notebook for explanation on inner and outer polygons."
   ]
  },
  {
   "cell_type": "code",
   "execution_count": null,
   "id": "cf727867",
   "metadata": {},
   "outputs": [],
   "source": [
    "converted_skymaps_dir = package_root / \"converted_skymaps\" / \"full_vertex\"\n",
    "\n",
    "inner_poly_path = converted_skymaps_dir / \"inner_polygons.yaml\"\n",
    "outer_poly_path = converted_skymaps_dir / \"outer_polygons.yaml\""
   ]
  },
  {
   "cell_type": "code",
   "execution_count": 4,
   "id": "cd71a8cf",
   "metadata": {},
   "outputs": [
    {
     "name": "stdout",
     "output_type": "stream",
     "text": [
      "✅ Wrote 18938 tract polygons to /sdf/home/o/olynn/skymap-to-poly-coords/converted_skymaps/full_vertex/inner_polygons.yaml\n",
      "✅ Wrote 18938 tract polygons to /sdf/home/o/olynn/skymap-to-poly-coords/converted_skymaps/full_vertex/outer_polygons.yaml\n"
     ]
    }
   ],
   "source": [
    "write_polygons_ra_dec(lsst_skymap, inner_poly_path, inner=True)\n",
    "write_polygons_ra_dec(lsst_skymap, outer_poly_path, inner=False)"
   ]
  },
  {
   "cell_type": "markdown",
   "id": "80e063f5",
   "metadata": {},
   "source": [
    "## Verify polygons against original skymap"
   ]
  },
  {
   "cell_type": "code",
   "execution_count": null,
   "id": "0e4be5ba",
   "metadata": {},
   "outputs": [],
   "source": [
    "from skymap_to_poly_coords.test_utils import polys_are_equiv, get_poly_from_tract_id\n",
    "\n",
    "def verify_polygons(fv_skymap, orig_skymap, inner=True):\n",
    "    for tract_id in range(orig_skymap._numTracts):\n",
    "        fv_poly = fv_skymap.get(tract_id)\n",
    "        orig_poly = get_poly_from_tract_id(lsst_skymap, tract_id, inner=inner)\n",
    "\n",
    "        if tract_id == 0 or tract_id == orig_skymap._numTracts - 1:\n",
    "            # Skip first and last tract for now, but todo\n",
    "            continue\n",
    "        else:\n",
    "            if not polys_are_equiv(fv_poly, orig_poly):\n",
    "                raise ValueError(f\"Tract {tract_id} polygons are not equivalent\")\n",
    "    print(f\"All {'inner' if inner else 'outer'} tract polygons are equivalent.\")"
   ]
  },
  {
   "cell_type": "code",
   "execution_count": null,
   "id": "d2fc7b87",
   "metadata": {},
   "outputs": [],
   "source": [
    "print(\"Verifying inner tract polygons...\")\n",
    "verify_polygons"
   ]
  }
 ],
 "metadata": {
  "kernelspec": {
   "display_name": "Python 3 (ipykernel)",
   "language": "python",
   "name": "python3"
  }
 },
 "nbformat": 4,
 "nbformat_minor": 5
}
