{
 "cells": [
  {
   "cell_type": "markdown",
   "id": "80688d6a",
   "metadata": {},
   "source": [
    "# Patch boundary plots"
   ]
  },
  {
   "cell_type": "code",
   "execution_count": null,
   "id": "90212567",
   "metadata": {},
   "outputs": [],
   "source": [
    "import yaml\n",
    "from pathlib import Path\n",
    "\n",
    "\n",
    "package_root = Path.home() / \"skymap-convert\""
   ]
  },
  {
   "cell_type": "code",
   "execution_count": null,
   "id": "c98eefd3",
   "metadata": {},
   "outputs": [],
   "source": [
    "from skymap_convert import load_pickle_skymap\n",
    "\n",
    "raw_skymaps_dir = package_root / \"tests\" / \"data\" / \"raw_skymaps\"\n",
    "raw_skymap_path = raw_skymaps_dir / \"skyMap_lsst_cells_v1_skymaps.pickle\"\n",
    "\n",
    "lsst_skymap = load_pickle_skymap(raw_skymap_path)\n",
    "lsst_skymap"
   ]
  },
  {
   "cell_type": "markdown",
   "id": "f4e2d0b7",
   "metadata": {},
   "source": [
    "## Util functions"
   ]
  },
  {
   "cell_type": "code",
   "execution_count": null,
   "id": "4f13e290",
   "metadata": {},
   "outputs": [],
   "source": [
    "from skymap_convert.geometry import unit_vector3d_to_radec\n",
    "from lsst.sphgeom import LonLat"
   ]
  },
  {
   "cell_type": "code",
   "execution_count": null,
   "id": "e909f1be",
   "metadata": {},
   "outputs": [],
   "source": [
    "# Get tract and then patches for a specific tract, from lsst_skymap\n",
    "\n",
    "\n",
    "def get_orig_tract_patches(tract_id, patch_id):\n",
    "    \"\"\"Get original patches for a specific tract ID.\"\"\"\n",
    "    tract_data = lsst_skymap.generateTract(tract_id)\n",
    "    return tract_data.getPatchInfo(patch_id)\n",
    "\n",
    "\n",
    "def get_orig_patch_radec_verts(tract_id, patch_id):\n",
    "    return [\n",
    "        unit_vector3d_to_radec(vert)\n",
    "        for vert in get_orig_tract_patches(tract_id, patch_id).inner_sky_polygon.getVertices()\n",
    "    ]\n",
    "\n",
    "\n",
    "def get_orig_tract_radec_verts(tract_id, inner=True):\n",
    "    tract_data = lsst_skymap.generateTract(tract_id)\n",
    "    if not inner:\n",
    "        uv_verts = tract_data.outer_sky_polygon.getVertices()\n",
    "        return [unit_vector3d_to_radec(vert) for vert in uv_verts]\n",
    "    box = tract_data.inner_sky_region\n",
    "    lon_a, lon_b = box.getLon().getA().asRadians(), box.getLon().getB().asRadians()\n",
    "    lon_min = min(lon_a, lon_b)\n",
    "    lon_max = max(lon_a, lon_b)\n",
    "    lat_a, lat_b = box.getLat().getA().asRadians(), box.getLat().getB().asRadians()\n",
    "    lat_min = min(lat_a, lat_b)\n",
    "    lat_max = max(lat_a, lat_b)\n",
    "    corners = [\n",
    "        LonLat.fromRadians(lon_min, lat_min),\n",
    "        LonLat.fromRadians(lon_max, lat_min),\n",
    "        LonLat.fromRadians(lon_max, lat_max),\n",
    "        LonLat.fromRadians(lon_min, lat_max),\n",
    "    ]\n",
    "    return [(corner.getLon().asDegrees(), corner.getLat().asDegrees()) for corner in corners]"
   ]
  },
  {
   "cell_type": "code",
   "execution_count": null,
   "id": "fa065089",
   "metadata": {},
   "outputs": [],
   "source": [
    "get_orig_patch_radec_verts(3, 4)"
   ]
  },
  {
   "cell_type": "markdown",
   "id": "6e17c7b6",
   "metadata": {},
   "source": [
    "## A tract with patches"
   ]
  },
  {
   "cell_type": "code",
   "execution_count": null,
   "id": "d59d15e5",
   "metadata": {},
   "outputs": [],
   "source": [
    "import matplotlib.pyplot as plt\n",
    "import numpy as np\n",
    "from astropy.coordinates import SkyCoord\n",
    "import astropy.units as u\n",
    "\n",
    "\n",
    "def _plot_patches(ax, patches, single_color=None, alpha=0.5, marker_size=5):\n",
    "    \"\"\"Plot the patches on the given axes.\"\"\"\n",
    "    for patch in patches:\n",
    "        ra, dec = zip(*patch)\n",
    "        skycoord = SkyCoord(ra=ra * u.degree, dec=dec * u.degree, frame=\"icrs\")\n",
    "        ra_deg = skycoord.ra.wrap_at(360 * u.deg).deg\n",
    "        dec_deg = skycoord.dec.deg\n",
    "\n",
    "        # Close the polygon\n",
    "        ra_deg = np.append(ra_deg, ra_deg[0])\n",
    "        dec_deg = np.append(dec_deg, dec_deg[0])\n",
    "\n",
    "        # Plot the patches with a single color if specified\n",
    "        if single_color is not None:\n",
    "            ax.plot(\n",
    "                ra_deg,\n",
    "                dec_deg,\n",
    "                color=single_color,\n",
    "                marker=\"o\",\n",
    "                linestyle=\"-\",\n",
    "                alpha=alpha,\n",
    "                markersize=marker_size,\n",
    "            )\n",
    "        else:\n",
    "            ax.plot(ra_deg, dec_deg, marker=\"o\", linestyle=\"-\", alpha=alpha, markersize=marker_size)\n",
    "\n",
    "\n",
    "def _plot_tract(ax, tract_id, color, inner=True):\n",
    "    \"\"\"Plot the tract boundary for a given tract ID.\"\"\"\n",
    "    tract_radec_verts = get_orig_tract_radec_verts(tract_id, inner=inner)\n",
    "    ra, dec = zip(*tract_radec_verts)\n",
    "    skycoord = SkyCoord(ra=ra * u.degree, dec=dec * u.degree, frame=\"icrs\")\n",
    "    ra_deg = skycoord.ra.wrap_at(360 * u.deg).deg\n",
    "    dec_deg = skycoord.dec.deg\n",
    "\n",
    "    # Close the polygon\n",
    "    ra_deg = np.append(ra_deg, ra_deg[0])\n",
    "    dec_deg = np.append(dec_deg, dec_deg[0])\n",
    "\n",
    "    # Plot the tract boundary\n",
    "    if inner:\n",
    "        # Plot with a solid color fill\n",
    "        ax.fill(ra_deg, dec_deg, color=color, alpha=0.25, label=f\"Tract {tract_id} Inner\")\n",
    "    else:\n",
    "        ax.plot(ra_deg, dec_deg, color=color, linewidth=3, alpha=0.8, label=f\"Tract {tract_id} Outer\")\n",
    "\n",
    "\n",
    "def _get_ra_dec_range(patches):\n",
    "    \"\"\"Get the RA/Dec range from the patches.\"\"\"\n",
    "    min_ra, max_ra = float(\"inf\"), float(\"-inf\")\n",
    "    min_dec, max_dec = float(\"inf\"), float(\"-inf\")\n",
    "    for patch in patches:\n",
    "        ra, dec = zip(*patch)\n",
    "        min_ra = min(min(ra), min_ra)\n",
    "        max_ra = max(max(ra), max_ra)\n",
    "        min_dec = min(min(dec), min_dec)\n",
    "        max_dec = max(max(dec), max_dec)\n",
    "    return (min_ra, max_ra, min_dec, max_dec)\n",
    "\n",
    "\n",
    "def plot_patches_in_tract(tract_id):\n",
    "    fig, ax = plt.subplots(figsize=(10, 6))\n",
    "\n",
    "    # Plot the patches and tract boundaries\n",
    "    patches = [get_orig_patch_radec_verts(tract_id, patch_seq_index) for patch_seq_index in range(100)]\n",
    "    _plot_patches(ax, patches)\n",
    "    _plot_tract(ax, tract_id, inner=True, color=\"black\")\n",
    "    _plot_tract(ax, tract_id, inner=False, color=\"black\")\n",
    "\n",
    "    # Set zoom level based on the RA/Dec range of the patches\n",
    "    min_ra, max_ra, min_dec, max_dec = _get_ra_dec_range(patches)\n",
    "    ax.set_xlim(min_ra - 1, max_ra + 1)\n",
    "    ax.set_ylim(min_dec - 0.25, max_dec + 0.25)\n",
    "\n",
    "    # Add a legend for the tract boundaries, labels, and title\n",
    "    ax.legend(loc=\"upper right\", fontsize=\"small\")\n",
    "    ax.set_xlabel(\"RA (deg)\")\n",
    "    ax.set_ylabel(\"Dec (deg)\")\n",
    "    ax.set_title(f\"Zoomed-In View of Patches for Tract {tract_id}\")\n",
    "    ax.grid(True)\n",
    "\n",
    "    ax.legend()\n",
    "    plt.tight_layout()\n",
    "    plt.show()"
   ]
  },
  {
   "cell_type": "code",
   "execution_count": null,
   "id": "488063ca",
   "metadata": {},
   "outputs": [],
   "source": [
    "# Tract 9, which is near the south pole\n",
    "\n",
    "plot_patches_in_tract(9)"
   ]
  },
  {
   "cell_type": "code",
   "execution_count": null,
   "id": "abe7abfa",
   "metadata": {},
   "outputs": [],
   "source": [
    "# Tract 9000, which is near the equator\n",
    "\n",
    "plot_patches_in_tract(9000)"
   ]
  },
  {
   "cell_type": "markdown",
   "id": "c51e50b2",
   "metadata": {},
   "source": [
    "## Tract/patch overlap"
   ]
  },
  {
   "cell_type": "code",
   "execution_count": null,
   "id": "751a4cf2",
   "metadata": {},
   "outputs": [],
   "source": [
    "def plot_multiple_tract_patches(tract_ids):\n",
    "    fig, ax = plt.subplots(figsize=(10, 6))\n",
    "\n",
    "    # Set colors for each tract\n",
    "    patch_colors = [\"C9\", \"C8\", \"C6\", \"C7\", \"C4\"]\n",
    "    tract_colors = [\"C0\", \"C2\", \"C3\", \"C7\", \"C4\"]\n",
    "\n",
    "    # Initialize RA/Dec range variables - these will be used to set the zoom level later\n",
    "    min_ra, max_ra, min_dec, max_dec = float(\"inf\"), float(\"-inf\"), float(\"inf\"), float(\"-inf\")\n",
    "\n",
    "    # Plot the patches and tract boundaries\n",
    "    for i, tract_id in enumerate(tract_ids):\n",
    "        # Get patches for the current tract\n",
    "        patches = [get_orig_patch_radec_verts(tract_id, patch_seq_index) for patch_seq_index in range(100)]\n",
    "\n",
    "        # Plot the patches and tract boundaries\n",
    "        _plot_patches(\n",
    "            ax, patches, single_color=patch_colors[i % len(patch_colors)], alpha=0.25, marker_size=2\n",
    "        )\n",
    "        _plot_tract(ax, tract_id, inner=True, color=tract_colors[i % len(tract_colors)])\n",
    "        _plot_tract(ax, tract_id, inner=False, color=tract_colors[i % len(tract_colors)])\n",
    "\n",
    "        # Update the RA/Dec range\n",
    "        tract_min_ra, tract_max_ra, tract_min_dec, tract_max_dec = _get_ra_dec_range(patches)\n",
    "        min_ra = min(min_ra, tract_min_ra)\n",
    "        max_ra = max(max_ra, tract_max_ra)\n",
    "        min_dec = min(min_dec, tract_min_dec)\n",
    "        max_dec = max(max_dec, tract_max_dec)\n",
    "\n",
    "    # Set zoom level based on the RA/Dec range of the patches\n",
    "    ax.set_xlim(min_ra - 1, max_ra + 1)\n",
    "    ax.set_ylim(min_dec - 0.25, max_dec + 0.25)\n",
    "\n",
    "    # Add a legend for the tract boundaries, labels, and title\n",
    "    ax.set_xlabel(\"RA (deg)\")\n",
    "    ax.set_ylabel(\"Dec (deg)\")\n",
    "    ax.set_title(f'Zoomed-In View of Patches for Tracts {\", \".join(map(str, tract_ids))}')\n",
    "    ax.grid(True)\n",
    "\n",
    "    plt.tight_layout()\n",
    "    plt.show()"
   ]
  },
  {
   "cell_type": "code",
   "execution_count": null,
   "id": "92936455",
   "metadata": {},
   "outputs": [],
   "source": [
    "plot_multiple_tract_patches([7, 8, 9])"
   ]
  },
  {
   "cell_type": "code",
   "execution_count": null,
   "id": "d4b91e3e",
   "metadata": {},
   "outputs": [],
   "source": [
    "plot_multiple_tract_patches([9000, 9001, 9002])"
   ]
  },
  {
   "cell_type": "code",
   "execution_count": null,
   "id": "469af058",
   "metadata": {},
   "outputs": [],
   "source": [
    "plot_multiple_tract_patches([8, 9, 22, 23, 24])  # , 43, 44"
   ]
  }
 ],
 "metadata": {
  "kernelspec": {
   "display_name": "Python 3 (ipykernel)",
   "language": "python",
   "name": "python3"
  },
  "language_info": {
   "codemirror_mode": {
    "name": "ipython",
    "version": 3
   },
   "file_extension": ".py",
   "mimetype": "text/x-python",
   "name": "python",
   "nbconvert_exporter": "python",
   "pygments_lexer": "ipython3",
   "version": "3.12.9"
  }
 },
 "nbformat": 4,
 "nbformat_minor": 5
}
