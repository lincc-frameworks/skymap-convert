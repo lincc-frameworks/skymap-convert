{
 "cells": [
  {
   "cell_type": "markdown",
   "id": "7d117687",
   "metadata": {},
   "source": [
    "# Convert to a Ring Optimized skymap"
   ]
  },
  {
   "cell_type": "markdown",
   "id": "a27c790e",
   "metadata": {},
   "source": [
    "## Overview\n",
    "\n",
    "In this notebook we will:\n",
    "- walk through the convertion of an lsst skymap file into a \"Ring Optimized\" skymap file\n",
    "- a Ring Optimized skymap (explain)"
   ]
  },
  {
   "cell_type": "code",
   "execution_count": 1,
   "id": "cf080386",
   "metadata": {},
   "outputs": [],
   "source": [
    "from pathlib import Path\n",
    "from skymap_convert import load_pickle_skymap, write_polygons_ra_dec"
   ]
  },
  {
   "cell_type": "markdown",
   "id": "234db9c7",
   "metadata": {},
   "source": [
    "## Read in raw skymap"
   ]
  },
  {
   "cell_type": "code",
   "execution_count": null,
   "id": "05af8034",
   "metadata": {},
   "outputs": [],
   "source": [
    "package_root = Path.home() / \"skymap-convert\"\n",
    "\n",
    "raw_skymaps_dir = package_root / \"tests\" / \"data\" / \"raw_skymaps\"\n",
    "raw_skymap_path = raw_skymaps_dir / \"skyMap_lsst_cells_v1_skymaps.pickle\""
   ]
  },
  {
   "cell_type": "code",
   "execution_count": 3,
   "id": "19778bc6",
   "metadata": {},
   "outputs": [
    {
     "data": {
      "text/plain": [
       "<lsst.skymap.ringsSkyMap.RingsSkyMap at 0x7f102b697680>"
      ]
     },
     "execution_count": 3,
     "metadata": {},
     "output_type": "execute_result"
    }
   ],
   "source": [
    "lsst_skymap = load_pickle_skymap(raw_skymap_path)\n",
    "lsst_skymap"
   ]
  },
  {
   "cell_type": "markdown",
   "id": "7e3eff36",
   "metadata": {},
   "source": [
    "## Write Ring Optimized file\n",
    "\n",
    "See main \"Convert skymaps\" notebook for a description of ring skymaps, as well as inner and outer polygons.\n",
    "\n",
    "The process here is based on a set of assumptions that have been explored in Appendix 1 (Ring skymap assumptions).\n",
    "\n",
    "These are:\n",
    "1. All tracts have exactly 4 vertices\n",
    "1. Except the poles, all tracts are rectangular (to the nearest arcsecond)\n",
    "1. Within a ring, all tracts share the same upper and lower declination\n",
    "1. Within a ring, all tracts have the same width, or interval between their RA boundaries\n",
    "1. Each ring begins calculating their tracts at the same RA"
   ]
  },
  {
   "cell_type": "code",
   "execution_count": 4,
   "id": "04777890",
   "metadata": {},
   "outputs": [],
   "source": [
    "converted_skymaps_dir = package_root / \"converted_skymaps\" / \"ring_optimized\"\n",
    "\n",
    "inner_poly_path = converted_skymaps_dir / \"inner_polygons.yaml\"\n",
    "outer_poly_path = converted_skymaps_dir / \"outer_polygons.yaml\""
   ]
  },
  {
   "cell_type": "code",
   "execution_count": 5,
   "id": "59247b27",
   "metadata": {},
   "outputs": [
    {
     "name": "stdout",
     "output_type": "stream",
     "text": [
      "✅ Ring-optimized skymap written to /sdf/home/o/olynn/skymap-to-poly-coords/converted_skymaps/ring_optimized/inner_polygons.yaml\n"
     ]
    }
   ],
   "source": [
    "from skymap_convert import write_ring_optimized_skymap\n",
    "\n",
    "write_ring_optimized_skymap(\n",
    "    lsst_skymap, \n",
    "    inner_poly_path, \n",
    "    inner=True,\n",
    "    patches=False,\n",
    "    skymap_name=\"lsst_v1\"\n",
    ")"
   ]
  },
  {
   "cell_type": "code",
   "execution_count": 6,
   "id": "9453323b",
   "metadata": {},
   "outputs": [
    {
     "name": "stdout",
     "output_type": "stream",
     "text": [
      "-rw-r--r-- 1 olynn gu 13K Jun 12 23:17 /sdf/home/o/olynn/skymap-to-poly-coords/converted_skymaps/ring_optimized/inner_polygons.yaml\n"
     ]
    }
   ],
   "source": [
    "# Use bash to see how big the file is:\n",
    "!ls -lh {inner_poly_path}"
   ]
  },
  {
   "cell_type": "markdown",
   "id": "40578ed3",
   "metadata": {},
   "source": [
    "## Verify file"
   ]
  },
  {
   "cell_type": "code",
   "execution_count": 7,
   "id": "65087e93",
   "metadata": {},
   "outputs": [
    {
     "name": "stdout",
     "output_type": "stream",
     "text": [
      "RingOptimizedSkymapReader(skymap_name=lsst_v1, rings=120, poles=2, inner_polygons=True)\n"
     ]
    }
   ],
   "source": [
    "# read the file back in\n",
    "from skymap_convert import RingOptimizedSkymapReader\n",
    "\n",
    "ro_skymap = RingOptimizedSkymapReader(inner_poly_path)\n",
    "print(ro_skymap)"
   ]
  },
  {
   "cell_type": "code",
   "execution_count": 8,
   "id": "9df1ac19",
   "metadata": {},
   "outputs": [],
   "source": [
    "# from skymap_convert import IterateTractAndRing\n",
    "\n",
    "# iter_tr = IterateTractAndRing(ro_skymap.ring_nums)\n",
    "\n",
    "# for tract, ring in iter_tr:\n",
    "#     print(f\"Tract: {tract}, Ring: {ring}\")\n",
    "#     quad = ro_skymap.get_tract(tract)[\"quad\"]\n",
    "#     for point in quad:\n",
    "#         print(f\"  Point: {point}\")\n",
    "\n",
    "#     if tract >= 5:\n",
    "#         break"
   ]
  },
  {
   "cell_type": "code",
   "execution_count": null,
   "id": "1551f46a",
   "metadata": {},
   "outputs": [],
   "source": [
    "from skymap_convert import box_to_convex_polygon, unit_vector3d_to_radec\n",
    "from lsst.sphgeom import Box\n",
    "import numpy as np\n",
    "\n",
    "for tract in lsst_skymap:\n",
    "    tract_id = tract.getId()\n",
    "\n",
    "    # Get quad from Ring Optimized skymap.\n",
    "    ro_quad = ro_skymap.get_tract(tract_id)[\"quad\"]\n",
    "\n",
    "    # Get poly from original skymap.\n",
    "    poly = tract.inner_sky_region\n",
    "    if isinstance(poly, Box):\n",
    "        poly = box_to_convex_polygon(poly)\n",
    "    ra_dec_vertices = [[radec[0], radec[1]] for radec in map(unit_vector3d_to_radec, poly.getVertices())]\n",
    "\n",
    "    for i in range(len(ro_quad)):\n",
    "        ra_ro, dec_ro = ro_quad[i]\n",
    "        ra_orig, dec_orig = ra_dec_vertices[i]\n",
    "        are_close = np.allclose([ra_ro, dec_ro], [ra_orig, dec_orig], rtol=1e-5, atol=1e-5)\n",
    "        if not are_close:\n",
    "            print(f\"Tract ID: {tract_id}\")\n",
    "            print(f\"  Mismatch at vertex {i}: RO ({ra_ro}, {dec_ro}), Orig ({ra_orig}, {dec_orig})\")\n",
    "\n",
    "print(f\"Checked {len(lsst_skymap)} tracts for vertex matches.\")\n",
    "print(\"All vertices match between the Ring Optimized skymap and the original skymap.\")"
   ]
  }
 ],
 "metadata": {
  "kernelspec": {
   "display_name": "Python 3 (ipykernel)",
   "language": "python",
   "name": "python3"
  },
  "language_info": {
   "codemirror_mode": {
    "name": "ipython",
    "version": 3
   },
   "file_extension": ".py",
   "mimetype": "text/x-python",
   "name": "python",
   "nbconvert_exporter": "python",
   "pygments_lexer": "ipython3",
   "version": "3.12.9"
  }
 },
 "nbformat": 4,
 "nbformat_minor": 5
}
