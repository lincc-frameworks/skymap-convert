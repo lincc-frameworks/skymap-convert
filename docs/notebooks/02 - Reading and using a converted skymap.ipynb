{
 "cells": [
  {
   "cell_type": "markdown",
   "id": "bd31013c",
   "metadata": {},
   "source": [
    "# Reading and using a converted skymap"
   ]
  },
  {
   "cell_type": "code",
   "execution_count": null,
   "id": "bc2f1e3c",
   "metadata": {},
   "outputs": [],
   "source": [
    "import skymap_convert"
   ]
  },
  {
   "cell_type": "markdown",
   "id": "814fe807",
   "metadata": {},
   "source": [
    "Initialize a ConvertedSkymap reader."
   ]
  },
  {
   "cell_type": "code",
   "execution_count": null,
   "id": "d68fe460",
   "metadata": {},
   "outputs": [],
   "source": [
    "converted_skymap_path = \"TODO\"\n",
    "\n",
    "reader = skymap_convert.ConvertedSkymapReader(converted_skymap_path)"
   ]
  },
  {
   "cell_type": "markdown",
   "id": "2d2ad8ca",
   "metadata": {},
   "source": [
    "See the available public methods using `help`."
   ]
  },
  {
   "cell_type": "markdown",
   "id": "d95dc33d",
   "metadata": {},
   "source": [
    "reader.help()"
   ]
  },
  {
   "cell_type": "markdown",
   "id": "cbfd358e",
   "metadata": {},
   "source": [
    "Call `summarize` to take a peek at the contents of the converted skymap."
   ]
  },
  {
   "cell_type": "code",
   "execution_count": null,
   "id": "66ca2c3b",
   "metadata": {},
   "outputs": [],
   "source": [
    "reader.summarize()"
   ]
  },
  {
   "cell_type": "markdown",
   "id": "7ec4a13d",
   "metadata": {},
   "source": [
    "Use `get_tract_vertices` and `get_patch_vertices` to access the data."
   ]
  },
  {
   "cell_type": "code",
   "execution_count": null,
   "id": "632f128a",
   "metadata": {},
   "outputs": [],
   "source": [
    "reader.get_tract_vertices(42)"
   ]
  },
  {
   "cell_type": "code",
   "execution_count": null,
   "id": "69d60df7",
   "metadata": {},
   "outputs": [],
   "source": [
    "reader.get_patch_vertices(1234, 56)"
   ]
  },
  {
   "cell_type": "markdown",
   "id": "fd94e87d",
   "metadata": {},
   "source": [
    "Call `plot_patches` to plot tracts and patches. \n",
    "\n",
    "*See the plotting notebook for more detail.*"
   ]
  },
  {
   "cell_type": "code",
   "execution_count": null,
   "id": "7e4c0074",
   "metadata": {},
   "outputs": [],
   "source": [
    "reader.plot_patches(\n",
    "    [\n",
    "        (60, 0),\n",
    "        (61, 8)\n",
    "    ],\n",
    "    tract_outer_boundaries=60\n",
    ")"
   ]
  },
  {
   "cell_type": "markdown",
   "id": "4282e3f4",
   "metadata": {},
   "source": [
    "To see usage examples of the skymap reader in action, check out the [tract_patch_search](https://github.com/astronomy-commons/lsdb-rubin/blob/main/src/lsdb_rubin/tract_patch_search.py) in [lsdb-rubin](https://github.com/astronomy-commons/lsdb-rubin), a package that contains LSST-specific LSDB operations and demonstrations."
   ]
  },
  {
   "cell_type": "markdown",
   "id": "df172fa9",
   "metadata": {},
   "source": [
    "## About  \n",
    "\n",
    "**Author:** Olivia Lynn\n",
    "\n",
    "**Last updated on:** July 11, 2025"
   ]
  }
 ],
 "metadata": {
  "language_info": {
   "name": "python"
  }
 },
 "nbformat": 4,
 "nbformat_minor": 5
}
