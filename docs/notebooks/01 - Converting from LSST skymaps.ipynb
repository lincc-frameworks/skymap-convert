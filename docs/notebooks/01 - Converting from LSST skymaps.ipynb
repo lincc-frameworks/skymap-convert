{
 "cells": [
  {
   "cell_type": "code",
   "execution_count": null,
   "id": "7332dd92",
   "metadata": {},
   "outputs": [],
   "source": [
    "# Remaining items:\n",
    "# - Grab code from download notebook\n",
    "# - Update how we handle paths"
   ]
  },
  {
   "cell_type": "markdown",
   "id": "e1043c9a",
   "metadata": {},
   "source": [
    "# Converting from LSST Skymaps"
   ]
  },
  {
   "cell_type": "markdown",
   "id": "4287ab54",
   "metadata": {},
   "source": [
    "## Why do we want to convert skymaps in the first place?"
   ]
  },
  {
   "cell_type": "markdown",
   "id": "277b0e17",
   "metadata": {},
   "source": [
    "~~Short answer: spheres are evil~~\n",
    "\n",
    "Long answer: we need to convert the [lsst.skymap](https://github.com/lsst/skymap) type skymap that LSST uses if we wish to use it in environments that lack access to the LSST stack."
   ]
  },
  {
   "cell_type": "markdown",
   "id": "975467d5",
   "metadata": {},
   "source": [
    "We *could* try to shim some of the LSST-stack dependencies that lsst.skymaps has, but unfortunately, skymaps use a lot of spherical geometry that would require essentially rewriting a number of other packages from scratch."
   ]
  },
  {
   "cell_type": "raw",
   "id": "b8d33df5",
   "metadata": {},
   "source": [
    "lsst.skymap  \n",
    "├── Required Core Dependencies  \n",
    "│   ├── lsst.sphgeom ................ Spherical geometry library  \n",
    "│   ├── lsst.geom ................... Basic geometry primitives  \n",
    "│   └── lsst.afw .................... Application Framework (WCS)  \n",
    "│\n",
    "├── Required Support Dependencies  \n",
    "│   ├── lsst.pex.config ............. Configuration system  \n",
    "│   └── lsst.pex.exceptions ......... Exception handling  \n",
    "│\n",
    "└── Optional Dependencies  \n",
    "    └── lsst.daf.butler ............. Data Access Framework  \n",
    "                                      (used in packers.py only)  "
   ]
  },
  {
   "cell_type": "markdown",
   "id": "a5b6577d",
   "metadata": {},
   "source": [
    "See the Skymaps Overview notebook for a little more explanation about why skymaps need these kinds of mathy packages."
   ]
  },
  {
   "cell_type": "markdown",
   "id": "ea154e73",
   "metadata": {},
   "source": [
    "## What to do we do to convert the skymap?"
   ]
  },
  {
   "cell_type": "markdown",
   "id": "f19982e1",
   "metadata": {},
   "source": [
    "### Download the LSST skymap"
   ]
  },
  {
   "cell_type": "markdown",
   "id": "177d676c",
   "metadata": {},
   "source": [
    "This next section assumes you have the required access. If not, you don't actually really need to be reading this notebook--we've included an already-converted LSST skymap in this package at: (TODO path or method to get the path)"
   ]
  },
  {
   "cell_type": "markdown",
   "id": "42189b55",
   "metadata": {},
   "source": [
    "TODO : copy and paste and revise from \"Download...\" notebook"
   ]
  },
  {
   "cell_type": "markdown",
   "id": "14b1ce68",
   "metadata": {},
   "source": [
    "### Readin the raw skymap"
   ]
  },
  {
   "cell_type": "markdown",
   "id": "539bc240",
   "metadata": {},
   "source": [
    "TODO : change path I guess?"
   ]
  },
  {
   "cell_type": "code",
   "execution_count": 4,
   "id": "24b54bcc",
   "metadata": {},
   "outputs": [],
   "source": [
    "from pathlib import Path\n",
    "\n",
    "from skymap_convert.utils import load_pickle_skymap\n",
    "\n",
    "package_root = Path.home() / \"skymap-convert\"\n",
    "\n",
    "raw_skymaps_dir = package_root / \"tests\" / \"data\" / \"raw_skymaps\"\n",
    "raw_skymap_path = raw_skymaps_dir / \"skyMap_lsst_cells_v1_skymaps.pickle\""
   ]
  },
  {
   "cell_type": "code",
   "execution_count": 5,
   "id": "49b52c10",
   "metadata": {},
   "outputs": [
    {
     "data": {
      "text/plain": [
       "<lsst.skymap.ringsSkyMap.RingsSkyMap at 0x7f3f721bee10>"
      ]
     },
     "execution_count": 5,
     "metadata": {},
     "output_type": "execute_result"
    }
   ],
   "source": [
    "lsst_skymap = load_pickle_skymap(raw_skymap_path)\n",
    "lsst_skymap"
   ]
  },
  {
   "cell_type": "markdown",
   "id": "ea808995",
   "metadata": {},
   "source": [
    "### Using the ConvertedSkymap writer"
   ]
  },
  {
   "cell_type": "code",
   "execution_count": null,
   "id": "d38d6f0f",
   "metadata": {},
   "outputs": [],
   "source": [
    "from skymap_convert.skymap_writers import ConvertedSkymapWriter\n",
    "\n",
    "# Create a writer for the LSST skymap\n",
    "writer = ConvertedSkymapWriter()\n",
    "\n",
    "# Designate the output path for the converted skymap\n",
    "converted_skymap_path = package_root / \"converted_skymaps\" / \"lsst_skymap\"\n",
    "\n",
    "# Write the skymap to a file - warning: this may take a few minutes!\n",
    "writer.write(lsst_skymap, output_path=converted_skymap_path)"
   ]
  },
  {
   "cell_type": "markdown",
   "id": "a30062eb",
   "metadata": {},
   "source": [
    "Let's take a quick look at the files we created."
   ]
  },
  {
   "cell_type": "code",
   "execution_count": null,
   "id": "fcc436a8",
   "metadata": {},
   "outputs": [
    {
     "name": "stdout",
     "output_type": "stream",
     "text": [
      "total 29M\n",
      "-rw-r--r-- 1 olynn gu  123 Jul 10 02:05 metadata.yaml\n",
      "-rw-r--r-- 1 olynn gu  28M Jul 10 02:05 patches.npy.gz\n",
      "-rw-r--r-- 1 olynn gu 1.2M Jul 10 02:05 tracts.npy\n"
     ]
    }
   ],
   "source": [
    "!ls -lh {converted_skymap_path}"
   ]
  },
  {
   "cell_type": "markdown",
   "id": "156a7e6d",
   "metadata": {},
   "source": [
    "Note that our `patches.npy` has been gzipped--without this compression, the file would be about 1.2 MB, just a little too big to be hosted on GitHub. \n",
    "\n",
    "Don't worry; the skymap writer and reader will handle gzipping and un-gzipping under the hood."
   ]
  },
  {
   "cell_type": "markdown",
   "id": "31c9ecbd",
   "metadata": {},
   "source": [
    "## About  \n",
    "\n",
    "**Author:** Olivia Lynn\n",
    "\n",
    "**Last updated on:** July 11, 2025"
   ]
  }
 ],
 "metadata": {
  "kernelspec": {
   "display_name": "Python 3 (ipykernel)",
   "language": "python",
   "name": "python3"
  },
  "language_info": {
   "codemirror_mode": {
    "name": "ipython",
    "version": 3
   },
   "file_extension": ".py",
   "mimetype": "text/x-python",
   "name": "python",
   "nbconvert_exporter": "python",
   "pygments_lexer": "ipython3",
   "version": "3.12.9"
  }
 },
 "nbformat": 4,
 "nbformat_minor": 5
}
