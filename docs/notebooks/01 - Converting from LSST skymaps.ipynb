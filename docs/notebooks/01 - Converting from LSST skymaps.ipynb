{
 "cells": [
  {
   "cell_type": "code",
   "execution_count": null,
   "id": "7332dd92",
   "metadata": {
    "vscode": {
     "languageId": "plaintext"
    }
   },
   "outputs": [],
   "source": [
    "Remaining items:\n",
    "- UML chart\n",
    "- Grab code from download notebook\n",
    "- Write out writer usage"
   ]
  },
  {
   "cell_type": "markdown",
   "id": "e1043c9a",
   "metadata": {},
   "source": [
    "# Converting from LSST Skymaps"
   ]
  },
  {
   "cell_type": "markdown",
   "id": "4287ab54",
   "metadata": {},
   "source": [
    "## Why do we want to convert skymaps in the first place?"
   ]
  },
  {
   "cell_type": "markdown",
   "id": "277b0e17",
   "metadata": {},
   "source": [
    "~~Short answer: spheres are evil~~\n",
    "\n",
    "Long answer: we need to convert the [lsst.skymap](https://github.com/lsst/skymap) type skymap that LSST uses if we wish to use it in environments that lack access to the LSST stack."
   ]
  },
  {
   "cell_type": "markdown",
   "id": "975467d5",
   "metadata": {},
   "source": [
    "We *could* try to shim some of the LSST-stack dependencies that lsst.skymaps has, but unfortunately, skymaps use a lot of spherical geometry that would require essentially rewriting a number of other packages from scratch."
   ]
  },
  {
   "cell_type": "markdown",
   "id": "f38f4b11",
   "metadata": {},
   "source": [
    "TODO : UML chart"
   ]
  },
  {
   "cell_type": "markdown",
   "id": "a5b6577d",
   "metadata": {},
   "source": [
    "See the Skymaps Overview notebook for a little more explanation about why skymaps need these kinds of mathy packages."
   ]
  },
  {
   "cell_type": "markdown",
   "id": "ea154e73",
   "metadata": {},
   "source": [
    "## What to do we do to convert the skymap?"
   ]
  },
  {
   "cell_type": "markdown",
   "id": "f19982e1",
   "metadata": {},
   "source": [
    "### Download the LSST skymap"
   ]
  },
  {
   "cell_type": "markdown",
   "id": "177d676c",
   "metadata": {},
   "source": [
    "This next section assumes you have the required access. If not, you don't actually really need to be reading this notebook--we've included an already-converted LSST skymap in this package at: (TODO path or method to get the path)"
   ]
  },
  {
   "cell_type": "markdown",
   "id": "42189b55",
   "metadata": {},
   "source": [
    "TODO : copy and paste and revise from \"Download...\" notebook"
   ]
  },
  {
   "cell_type": "markdown",
   "id": "ea808995",
   "metadata": {},
   "source": [
    "### Using the ConvertedSkymap writer"
   ]
  },
  {
   "cell_type": "markdown",
   "id": "05f93151",
   "metadata": {},
   "source": [
    "TODO : initialize the writer"
   ]
  },
  {
   "cell_type": "markdown",
   "id": "fe9147df",
   "metadata": {},
   "source": [
    "TODO : write the skymap (warn about timing)"
   ]
  },
  {
   "cell_type": "markdown",
   "id": "739f59c6",
   "metadata": {},
   "source": [
    "TODO : basic metrics - shell commends to check that it's been written, and how big it is"
   ]
  },
  {
   "cell_type": "markdown",
   "id": "156a7e6d",
   "metadata": {},
   "source": [
    "TODO : final note about how we gzip the patches file so it fits on github"
   ]
  },
  {
   "cell_type": "markdown",
   "id": "50d129f5",
   "metadata": {},
   "source": [
    "Now that you've converted a skymap file, check out the "
   ]
  },
  {
   "cell_type": "markdown",
   "id": "31c9ecbd",
   "metadata": {},
   "source": [
    "## About  \n",
    "\n",
    "**Author:** Olivia Lynn\n",
    "\n",
    "**Last updated on:** July 11, 2025"
   ]
  }
 ],
 "metadata": {
  "language_info": {
   "name": "python"
  }
 },
 "nbformat": 4,
 "nbformat_minor": 5
}
