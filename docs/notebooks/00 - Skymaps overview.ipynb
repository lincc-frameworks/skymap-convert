{
 "cells": [
  {
   "cell_type": "markdown",
   "id": "cb15bcee",
   "metadata": {},
   "source": [
    "Remaining items:\n",
    "- docstring hunt for patch rulesnd citations\n",
    "- plot patches \"overflowing\" beyond the inner tract region\n",
    "- plot dp1 tract boundary\n",
    "- add lsdb and dask to doc deps (hmm...is it worth it? tho the plot is pretty clutch)"
   ]
  },
  {
   "cell_type": "markdown",
   "id": "ec191615",
   "metadata": {},
   "source": [
    "# Skymaps Overview"
   ]
  },
  {
   "cell_type": "markdown",
   "id": "bfd938f8",
   "metadata": {},
   "source": [
    "In this notebook, we will discuss:\n",
    "- Ring Skymaps (the lsst.skymap class to which our original LSST skymap belongs)\n",
    "- Some basic properties of ring skymaps\n",
    "- The definitions and differences of tracts (inner region), tracts (outer polygons), and patches"
   ]
  },
  {
   "cell_type": "code",
   "execution_count": null,
   "id": "c648cf1d",
   "metadata": {},
   "outputs": [],
   "source": [
    "from skymap_convert._internal.examples import demo_rings_plot, demo_rings_tracts_plot"
   ]
  },
  {
   "cell_type": "markdown",
   "id": "6b6d898d",
   "metadata": {},
   "source": [
    "## The anatomy of a ring skymap"
   ]
  },
  {
   "cell_type": "markdown",
   "id": "5e94599f",
   "metadata": {},
   "source": [
    "In a ring skymap, we divide the sky (which is unfortunately spherical) into horizontal rings.\n",
    "\n",
    "The LSST skymap has over 200 rings. For illustrative purposes, let us imagine a skymap with 5 rings:"
   ]
  },
  {
   "cell_type": "code",
   "execution_count": null,
   "id": "92ebaace",
   "metadata": {},
   "outputs": [],
   "source": [
    "demo_rings_plot()"
   ]
  },
  {
   "cell_type": "markdown",
   "id": "185c4dc0",
   "metadata": {},
   "source": [
    "Then, we divide each of those things into tracts (inner region)."
   ]
  },
  {
   "cell_type": "code",
   "execution_count": null,
   "id": "ebba6545",
   "metadata": {},
   "outputs": [],
   "source": [
    "demo_rings_tracts_plot()"
   ]
  },
  {
   "cell_type": "markdown",
   "id": "8530ef02",
   "metadata": {},
   "source": [
    "Some basic properties of tracts (inner region) are:\n",
    "- They have the same area and dimensions as the other patches. <a name=\"cite_ref-1\"></a>[<sup>[1]</sup>](#cite_note-1)\n",
    "- There are no gaps or overlaps between all the patches in a tract. <a name=\"cite_ref-2\"></a>[<sup>[2]</sup>](#cite_note-2)\n",
    "- Patches *do* need spherical geometry/knowledge of the WCS to calculate. So, these are the reason we've made our converted skymaps be a vertex dump, rather than the lighter-weight legacy RingOptimized version.\n",
    "\n",
    "<a name=\"cite_note-1\"></a>1. [^](#cite_ref-1) TODO grab the docstring that describes this, if possible  \n",
    "<a name=\"cite_note-2\"></a>2. [^](#cite_ref-2) TODO grab the docstring that describes this, if possible "
   ]
  },
  {
   "cell_type": "markdown",
   "id": "5893dde2",
   "metadata": {},
   "source": [
    "Note that patches can and do \"overflow\" beyond the boundaries of the tract (inner region)."
   ]
  },
  {
   "cell_type": "markdown",
   "id": "5d2e460d",
   "metadata": {},
   "source": [
    "TODO : if possible, plot patches and a tract inner region."
   ]
  },
  {
   "cell_type": "markdown",
   "id": "5c6db325",
   "metadata": {},
   "source": [
    " If we draw a boundary based on the outside boundary of all the patches in a tract, we get the bounds of the tract (outer polygon).  \n",
    "\n",
    " However, tract (outer polygon) seems to be pretty useless to know—but we mention it so we don't get it confused with tract (inner region)."
   ]
  },
  {
   "cell_type": "markdown",
   "id": "458e274e",
   "metadata": {},
   "source": [
    "## Applied to DP1 tract classifications"
   ]
  },
  {
   "cell_type": "markdown",
   "id": "7bbacd2b",
   "metadata": {},
   "source": [
    " Based on a quick sketch with DP1 data, the tract that an object is assigned to appears to be based on the tract (inner region)."
   ]
  },
  {
   "cell_type": "markdown",
   "id": "59a7dd30",
   "metadata": {},
   "source": [
    "*ASK NEVEN: This is ok, right, if we make sure to only show ra/dec (and no prints) of a limited number of points?*"
   ]
  },
  {
   "cell_type": "code",
   "execution_count": null,
   "id": "a8559333",
   "metadata": {},
   "outputs": [],
   "source": [
    "from skymap_convert import ConvertedSkymapReader\n",
    "from pathlib import Path\n",
    "\n",
    "package_root = Path.home() / \"code\" / \"skymap-convert\"\n",
    "\n",
    "converted_skymap_path = package_root / \"converted_skymaps\" / \"lsst_skymap\"\n",
    "converted_skymap_path\n",
    "\n",
    "reader = ConvertedSkymapReader(converted_skymap_path)"
   ]
  },
  {
   "cell_type": "code",
   "execution_count": null,
   "id": "deeaea9a",
   "metadata": {},
   "outputs": [],
   "source": [
    "import lsdb"
   ]
  },
  {
   "cell_type": "code",
   "execution_count": null,
   "id": "0be6feec",
   "metadata": {},
   "outputs": [],
   "source": [
    "from dask.distributed import Client\n",
    "\n",
    "client = Client(n_workers=4, memory_limit=\"auto\")\n",
    "client"
   ]
  },
  {
   "cell_type": "code",
   "execution_count": null,
   "id": "ae9d30ac",
   "metadata": {},
   "outputs": [],
   "source": [
    "dp1_object_collection = lsdb.open_catalog(\n",
    "    \"/sdf/data/rubin/shared/lsdb_commissioning/hats/v29_0_0/dia_object_collection\",\n",
    "    columns=[\"dec\", \"ra\", \"tract\"],\n",
    ")\n",
    "dp1_object_box = dp1_object_collection.box_search(ra=[37.75, 40.0], dec=[6.0, 7.75])"
   ]
  },
  {
   "cell_type": "code",
   "execution_count": null,
   "id": "55526504",
   "metadata": {},
   "outputs": [],
   "source": [
    "dp1_computed = dp1_object_box.compute()"
   ]
  },
  {
   "cell_type": "code",
   "execution_count": null,
   "id": "3cf18298",
   "metadata": {},
   "outputs": [],
   "source": [
    "import astropy.units as u\n",
    "import matplotlib.pyplot as plt\n",
    "import numpy as np\n",
    "from astropy.coordinates import SkyCoord\n",
    "\n",
    "\n",
    "def _plot_patches(ax, tract_id, patch_ids, single_color=None, alpha=0.5, marker_size=5):\n",
    "    \"\"\"Plot the patches on the given axes.\"\"\"\n",
    "    for patch_id in patch_ids:\n",
    "        patch_verts = reader.get_patch_vertices(tract_id, patch_id)\n",
    "        if patch_verts is None:\n",
    "            raise ValueError(f\"Patch {patch_id} not found in tract {tract_id}.\")\n",
    "        ra, dec = zip(*patch_verts, strict=True)\n",
    "        skycoord = SkyCoord(ra=ra * u.degree, dec=dec * u.degree, frame=\"icrs\")\n",
    "        ra_deg = skycoord.ra.wrap_at(360 * u.deg).deg\n",
    "        dec_deg = skycoord.dec.deg\n",
    "\n",
    "        # Close the polygon\n",
    "        ra_deg = np.append(ra_deg, ra_deg[0])\n",
    "        dec_deg = np.append(dec_deg, dec_deg[0])\n",
    "\n",
    "        # Plot the patches with a single color if specified\n",
    "        if single_color is not None:\n",
    "            ax.plot(\n",
    "                ra_deg,\n",
    "                dec_deg,\n",
    "                color=single_color,\n",
    "                marker=\"o\",\n",
    "                linestyle=\"-\",\n",
    "                alpha=alpha,\n",
    "                markersize=marker_size,\n",
    "            )\n",
    "        else:\n",
    "            ax.plot(ra_deg, dec_deg, marker=\"o\", linestyle=\"-\", alpha=alpha, markersize=marker_size)\n",
    "\n",
    "\n",
    "def _plot_tract(ax, tract_id, color, inner=True):\n",
    "    \"\"\"Plot the tract boundary for a given tract ID.\"\"\"\n",
    "    # tract_radec_verts = get_orig_tract_radec_verts(tract_id, inner=inner)\n",
    "    tract_radec_verts = reader.get_tract_vertices(tract_id)\n",
    "    ra, dec = zip(*tract_radec_verts, strict=True)\n",
    "    skycoord = SkyCoord(ra=ra * u.degree, dec=dec * u.degree, frame=\"icrs\")\n",
    "    ra_deg = skycoord.ra.wrap_at(360 * u.deg).deg\n",
    "    dec_deg = skycoord.dec.deg\n",
    "\n",
    "    # Close the polygon\n",
    "    ra_deg = np.append(ra_deg, ra_deg[0])\n",
    "    dec_deg = np.append(dec_deg, dec_deg[0])\n",
    "\n",
    "    # Plot the tract boundary\n",
    "    if inner:\n",
    "        # Plot with a solid color fill\n",
    "        ax.fill(ra_deg, dec_deg, color=color, alpha=0.25, label=f\"Tract {tract_id} Inner\")\n",
    "    else:\n",
    "        ax.plot(ra_deg, dec_deg, color=color, linewidth=3, alpha=0.8, label=f\"Tract {tract_id} Outer\")\n",
    "\n",
    "\n",
    "def _get_ra_dec_range(patches):\n",
    "    \"\"\"Get the RA/Dec range from the patches.\"\"\"\n",
    "    min_ra, max_ra = float(\"inf\"), float(\"-inf\")\n",
    "    min_dec, max_dec = float(\"inf\"), float(\"-inf\")\n",
    "    for patch in patches:\n",
    "        ra, dec = zip(*patch, strict=True)\n",
    "        min_ra = min(min(ra), min_ra)\n",
    "        max_ra = max(max(ra), max_ra)\n",
    "        min_dec = min(min(dec), min_dec)\n",
    "        max_dec = max(max(dec), max_dec)\n",
    "    return (min_ra, max_ra, min_dec, max_dec)\n",
    "\n",
    "def _plot_data(ax, data=None, target_tract=None):\n",
    "    \"\"\"Plot the data points on the given axes.\"\"\"\n",
    "    if data is not None and target_tract is not None:\n",
    "        for i in range(len(data)):\n",
    "            row = data.iloc[i]\n",
    "            ra, dec = row[\"ra\"], row[\"dec\"]\n",
    "            color = \"blue\" if row[\"tract\"] == target_tract else \"red\"\n",
    "            ax.plot(ra, dec, marker=\".\", color=color, markersize=5, alpha=0.7)\n",
    "    else:\n",
    "        print(\"No data to plot, or target tract has not been specified.\")"
   ]
  },
  {
   "cell_type": "code",
   "execution_count": null,
   "id": "82ca7ec0",
   "metadata": {},
   "outputs": [],
   "source": [
    "def plot_patches_in_tract(tract_id, data=None):\n",
    "    \"\"\"Plot the patches in a specific tract with zoomed-in view.\"\"\"\n",
    "    fig, ax = plt.subplots(figsize=(10, 6))\n",
    "\n",
    "    # Plot the patches and tract boundaries\n",
    "    patch_ids = range(100)\n",
    "    # _plot_patches(ax, patches, single_color=\"blue\")\n",
    "    _plot_tract(ax, tract_id, inner=True, color=\"black\")\n",
    "    _plot_tract(ax, tract_id, inner=False, color=\"black\")\n",
    "\n",
    "    # Plot the data, if provided\n",
    "    _plot_data(ax, data, target_tract=tract_id)\n",
    "\n",
    "    # Set zoom level based on the RA/Dec range of the patches\n",
    "    min_ra, max_ra, min_dec, max_dec = _get_ra_dec_range(patches)\n",
    "    ax.set_xlim(min_ra - 1, max_ra + 1)\n",
    "    ax.set_ylim(min_dec - 0.25, max_dec + 0.25)\n",
    "\n",
    "    # Add a legend for the tract boundaries, labels, and title\n",
    "    ax.legend(loc=\"upper right\", fontsize=\"small\")\n",
    "    ax.set_xlabel(\"RA (deg)\")\n",
    "    ax.set_ylabel(\"Dec (deg)\")\n",
    "    ax.set_title(f\"Zoomed-In View of DP1 Subset Tract Designation for Tract {tract_id}\")\n",
    "    ax.grid(True)\n",
    "\n",
    "    ax.legend()\n",
    "    plt.tight_layout()\n",
    "    plt.show()"
   ]
  },
  {
   "cell_type": "code",
   "execution_count": null,
   "id": "f5fdcf4e",
   "metadata": {},
   "outputs": [],
   "source": [
    "plot_patches_in_tract(10464, dp1_computed)"
   ]
  },
  {
   "cell_type": "markdown",
   "id": "5d47547c",
   "metadata": {},
   "source": [
    "Since tracts (inner region) are designed such that they cover the entire (~~stupidly spherical~~) sky with no gaps or overlaps, we can infer the existence of a surjective function mapping from the set of all possible radec sphere coordinates to the set of tracts in our skymap.\n",
    "\n",
    "That is to say, if we have a radec coordinate, we have exactly one tract to which it corresponds. Neat!"
   ]
  },
  {
   "cell_type": "markdown",
   "id": "d53439b5",
   "metadata": {},
   "source": [
    "## About  \n",
    "\n",
    "**Author:** Olivia Lynn\n",
    "\n",
    "**Last updated on:** July 11, 2025"
   ]
  }
 ],
 "metadata": {
  "kernelspec": {
   "display_name": "scratch",
   "language": "python",
   "name": "python3"
  },
  "language_info": {
   "codemirror_mode": {
    "name": "ipython",
    "version": 3
   },
   "file_extension": ".py",
   "mimetype": "text/x-python",
   "name": "python",
   "nbconvert_exporter": "python",
   "pygments_lexer": "ipython3",
   "version": "3.10.13"
  }
 },
 "nbformat": 4,
 "nbformat_minor": 5
}
