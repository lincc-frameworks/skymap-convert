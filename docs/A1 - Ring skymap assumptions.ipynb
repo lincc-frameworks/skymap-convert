{
 "cells": [
  {
   "cell_type": "markdown",
   "id": "e71ed1a6",
   "metadata": {},
   "source": [
    "# Appendix 1 | Ring skymap assumptions\n",
    "\n",
    "These are the assumptions upon which we base our implementation:"
   ]
  },
  {
   "cell_type": "markdown",
   "id": "3999724e",
   "metadata": {
    "vscode": {
     "languageId": "plaintext"
    }
   },
   "source": [
    "1. All tracts have exactly 4 vertices\n",
    "1. Except the poles, all tracts are rectangular (to the nearest arcsecond)\n",
    "1. Within a ring, all tracts share the same upper and lower declination\n",
    "1. Within a ring, all tracts have the same width, or interval between their RA boundaries\n",
    "1. Each ring begins calculating their tracts at the same RA"
   ]
  },
  {
   "cell_type": "markdown",
   "id": "dc51cba0",
   "metadata": {},
   "source": [
    "## Set up skymap\n",
    "\n",
    "We will compare both the inner polygon and outer polygon skymaps. For convenience, we will use the \n",
    "pre-calculated tracts from our Full Vertex skymaps.\n",
    "\n",
    "However, it will be useful to reference the LSST skymap for metadata such as ring numbers, so we'll \n",
    "load that, too."
   ]
  },
  {
   "cell_type": "code",
   "execution_count": 10,
   "id": "322414e3",
   "metadata": {},
   "outputs": [],
   "source": [
    "import yaml\n",
    "from pathlib import Path\n",
    "\n",
    "\n",
    "package_root = Path.home() / \"skymap-to-poly-coords\""
   ]
  },
  {
   "cell_type": "code",
   "execution_count": 11,
   "id": "3e59f387",
   "metadata": {},
   "outputs": [
    {
     "name": "stdout",
     "output_type": "stream",
     "text": [
      "18938 inner tracts loaded.\n"
     ]
    }
   ],
   "source": [
    "inner_fv_path = package_root / \"converted_skymaps\" / \"full_vertex\" / \"inner_polygons.yaml\"\n",
    "\n",
    "with open(inner_fv_path, \"r\") as f:\n",
    "    inner_fv_data = yaml.safe_load(f)\n",
    "\n",
    "inner_tracts = sorted(inner_fv_data[\"tracts\"].items(), key=lambda x: int(x[0]))\n",
    "print(f\"{len(inner_tracts)} inner tracts loaded.\")"
   ]
  },
  {
   "cell_type": "code",
   "execution_count": 12,
   "id": "ee4c5454",
   "metadata": {},
   "outputs": [
    {
     "name": "stdout",
     "output_type": "stream",
     "text": [
      "18938 outer tracts loaded.\n"
     ]
    }
   ],
   "source": [
    "outer_fv_path = package_root / \"converted_skymaps\" / \"full_vertex\" / \"outer_polygons.yaml\"\n",
    "\n",
    "with open(outer_fv_path, \"r\") as f:\n",
    "    outer_fv_data = yaml.safe_load(f)\n",
    "\n",
    "outer_tracts = sorted(outer_fv_data[\"tracts\"].items(), key=lambda x: int(x[0]))\n",
    "print(f\"{len(outer_tracts)} outer tracts loaded.\")"
   ]
  },
  {
   "cell_type": "code",
   "execution_count": 2,
   "id": "fd13b347",
   "metadata": {},
   "outputs": [
    {
     "data": {
      "text/plain": [
       "<lsst.skymap.ringsSkyMap.RingsSkyMap at 0x7f12f9330110>"
      ]
     },
     "execution_count": 2,
     "metadata": {},
     "output_type": "execute_result"
    }
   ],
   "source": [
    "from skymap_to_poly_coords import load_pickle_skymap\n",
    "\n",
    "raw_skymaps_dir = package_root / \"tests\" / \"data\" / \"raw_skymaps\"\n",
    "raw_skymap_path = raw_skymaps_dir / \"skyMap_lsst_cells_v1_skymaps.pickle\"\n",
    "\n",
    "lsst_skymap = load_pickle_skymap(raw_skymap_path)\n",
    "lsst_skymap"
   ]
  },
  {
   "cell_type": "markdown",
   "id": "dfbc1d19",
   "metadata": {},
   "source": [
    "## 1. All tracts have exactly 4 vertices"
   ]
  },
  {
   "cell_type": "code",
   "execution_count": 13,
   "id": "fcf3fb42",
   "metadata": {},
   "outputs": [],
   "source": [
    "def check_all_tracts_have_four_vertices(tract_items):\n",
    "    for tract_id, tract_data in tract_items:\n",
    "        polygon = tract_data.get(\"polygon\")\n",
    "        if len(polygon) != 4:\n",
    "            raise ValueError(f\"⚠️ Tract {tract_id} has {len(polygon)} vertices (expected 4).\")\n",
    "        \n",
    "    print(f\"✅ All {len(tract_items)} tracts have 4 vertices.\")"
   ]
  },
  {
   "cell_type": "code",
   "execution_count": null,
   "id": "e0336bbb",
   "metadata": {},
   "outputs": [
    {
     "name": "stdout",
     "output_type": "stream",
     "text": [
      "Checking inner tracts...\n",
      "✅ All 18938 tracts have 4 vertices.\n",
      "Checking outer tracts...\n",
      "✅ All 18938 tracts have 4 vertices.\n"
     ]
    }
   ],
   "source": [
    "print(\"Checking inner tracts...\")\n",
    "check_all_tracts_have_four_vertices(inner_tracts)\n",
    "print(\"Checking outer tracts...\")\n",
    "check_all_tracts_have_four_vertices(outer_tracts)"
   ]
  },
  {
   "cell_type": "markdown",
   "id": "9b157c04",
   "metadata": {},
   "source": [
    "## 2. Except the poles, all tracts are rectangular"
   ]
  },
  {
   "cell_type": "code",
   "execution_count": 20,
   "id": "6176e934",
   "metadata": {},
   "outputs": [],
   "source": [
    "def check_all_tracts_are_rectangles(tract_items):\n",
    "    # Skipping the first and last tracts (poles)\n",
    "    for tract_id, tract_data in tract_items[1:-1]:  \n",
    "        polygon = tract_data.get(\"polygon\")\n",
    "\n",
    "        # Ensure polygon is not None.\n",
    "        if not polygon:\n",
    "            raise ValueError(f\"⚠️ Tract {tract_id} is missing a polygon.\")\n",
    "\n",
    "        # Round to avoid floating point imprecision (still beyond arcsecond precision)\n",
    "        ras = [round(point[0], 10) for point in polygon]\n",
    "        unique_ras = set(ras)\n",
    "\n",
    "        if len(unique_ras) != 2:\n",
    "            raise ValueError(f\"⚠️ Tract {tract_id} has {len(unique_ras)} unique RA values: {unique_ras}\")\n",
    "\n",
    "    print(f\"✅ All {len(tract_items) - 2} tracts (excluding poles) have 2 unique RA values.\")"
   ]
  },
  {
   "cell_type": "code",
   "execution_count": 21,
   "id": "8e5fb58b",
   "metadata": {},
   "outputs": [
    {
     "name": "stdout",
     "output_type": "stream",
     "text": [
      "Checking all inner tracts are rectangular...\n",
      "✅ All 18936 tracts (excluding poles) have 2 unique RA values.\n",
      "Checking all outer tracts are rectangular...\n"
     ]
    },
    {
     "ename": "ValueError",
     "evalue": "⚠️ Tract 1 has 4 unique RA values: {19.7533906773, 51.8567458466, 308.1413987525, 340.2453942971}",
     "output_type": "error",
     "traceback": [
      "\u001b[0;31m---------------------------------------------------------------------------\u001b[0m",
      "\u001b[0;31mValueError\u001b[0m                                Traceback (most recent call last)",
      "Cell \u001b[0;32mIn[21], line 4\u001b[0m\n\u001b[1;32m      2\u001b[0m check_all_tracts_are_rectangles(inner_tracts)\n\u001b[1;32m      3\u001b[0m \u001b[38;5;28mprint\u001b[39m(\u001b[38;5;124m\"\u001b[39m\u001b[38;5;124mChecking all outer tracts are rectangular...\u001b[39m\u001b[38;5;124m\"\u001b[39m)\n\u001b[0;32m----> 4\u001b[0m \u001b[43mcheck_all_tracts_are_rectangles\u001b[49m\u001b[43m(\u001b[49m\u001b[43mouter_tracts\u001b[49m\u001b[43m)\u001b[49m\n",
      "Cell \u001b[0;32mIn[20], line 15\u001b[0m, in \u001b[0;36mcheck_all_tracts_are_rectangles\u001b[0;34m(tract_items)\u001b[0m\n\u001b[1;32m     12\u001b[0m     unique_ras \u001b[38;5;241m=\u001b[39m \u001b[38;5;28mset\u001b[39m(ras)\n\u001b[1;32m     14\u001b[0m     \u001b[38;5;28;01mif\u001b[39;00m \u001b[38;5;28mlen\u001b[39m(unique_ras) \u001b[38;5;241m!=\u001b[39m \u001b[38;5;241m2\u001b[39m:\n\u001b[0;32m---> 15\u001b[0m         \u001b[38;5;28;01mraise\u001b[39;00m \u001b[38;5;167;01mValueError\u001b[39;00m(\u001b[38;5;124mf\u001b[39m\u001b[38;5;124m\"\u001b[39m\u001b[38;5;124m⚠️ Tract \u001b[39m\u001b[38;5;132;01m{\u001b[39;00mtract_id\u001b[38;5;132;01m}\u001b[39;00m\u001b[38;5;124m has \u001b[39m\u001b[38;5;132;01m{\u001b[39;00m\u001b[38;5;28mlen\u001b[39m(unique_ras)\u001b[38;5;132;01m}\u001b[39;00m\u001b[38;5;124m unique RA values: \u001b[39m\u001b[38;5;132;01m{\u001b[39;00munique_ras\u001b[38;5;132;01m}\u001b[39;00m\u001b[38;5;124m\"\u001b[39m)\n\u001b[1;32m     17\u001b[0m \u001b[38;5;28mprint\u001b[39m(\u001b[38;5;124mf\u001b[39m\u001b[38;5;124m\"\u001b[39m\u001b[38;5;124m✅ All \u001b[39m\u001b[38;5;132;01m{\u001b[39;00m\u001b[38;5;28mlen\u001b[39m(tract_items)\u001b[38;5;250m \u001b[39m\u001b[38;5;241m-\u001b[39m\u001b[38;5;250m \u001b[39m\u001b[38;5;241m2\u001b[39m\u001b[38;5;132;01m}\u001b[39;00m\u001b[38;5;124m tracts (excluding poles) have 2 unique RA values.\u001b[39m\u001b[38;5;124m\"\u001b[39m)\n",
      "\u001b[0;31mValueError\u001b[0m: ⚠️ Tract 1 has 4 unique RA values: {19.7533906773, 51.8567458466, 308.1413987525, 340.2453942971}"
     ]
    }
   ],
   "source": [
    "print(\"Checking all inner tracts are rectangular...\")\n",
    "check_all_tracts_are_rectangles(inner_tracts)\n",
    "print(\"Checking all outer tracts are rectangular...\")\n",
    "check_all_tracts_are_rectangles(outer_tracts)"
   ]
  },
  {
   "cell_type": "markdown",
   "id": "f3adea0f",
   "metadata": {},
   "source": [
    "## 3. Within a ring, all tracts share the same upper and lower declination"
   ]
  },
  {
   "cell_type": "code",
   "execution_count": 54,
   "id": "f5666c1a",
   "metadata": {},
   "outputs": [],
   "source": [
    "def get_dec_bounds(polygon, tract_id, round_amt):\n",
    "    decs = [round(point[1], round_amt) for point in polygon]\n",
    "\n",
    "    # Check that there are exactly 2 unique declination values\n",
    "    unique_decs = set(decs)\n",
    "    if len(unique_decs) != 2:\n",
    "        raise ValueError(f\"⚠️ Tract {tract_id} has {len(unique_decs)} unique Dec values: {unique_decs}\")\n",
    "    \n",
    "    # Return min and max.\n",
    "    return min(decs), max(decs)"
   ]
  },
  {
   "cell_type": "code",
   "execution_count": 52,
   "id": "835699cc",
   "metadata": {},
   "outputs": [],
   "source": [
    "from skymap_to_poly_coords import IterateTractAndRing\n",
    "\n",
    "def check_shared_declination_bounds_within_ring(tract_items, round_amt=10):\n",
    "    iterate_tract_and_ring = IterateTractAndRing(lsst_skymap._ringNums, add_poles=False)\n",
    "    ring_dec_bounds = {}\n",
    "    for tract_id, ring_id in iterate_tract_and_ring:\n",
    "        # Get declination bounds for the tract.\n",
    "        polygon = tract_items[tract_id][1][\"polygon\"]\n",
    "        min_dec, max_dec = get_dec_bounds(polygon, tract_id, round_amt)\n",
    "\n",
    "        # Compare with existing bounds for the ring.\n",
    "        if ring_id in ring_dec_bounds:\n",
    "            if ring_dec_bounds[ring_id] != (min_dec, max_dec):\n",
    "                raise ValueError(f\"⚠️ Ring {ring_id} has inconsistent declination bounds: \"\n",
    "                                 f\"{ring_dec_bounds[ring_id]} vs {min_dec, max_dec}\")\n",
    "        else:\n",
    "            ring_dec_bounds[ring_id] = (min_dec, max_dec)\n",
    "\n",
    "    print(\"✅ All rings have consistent declination bounds across their tracts.\")\n"
   ]
  },
  {
   "cell_type": "code",
   "execution_count": null,
   "id": "87500fb6",
   "metadata": {},
   "outputs": [
    {
     "name": "stdout",
     "output_type": "stream",
     "text": [
      "Checking shared declination bounds within rings...\n",
      "✅ All rings have consistent declination bounds across their tracts.\n",
      "Checking shared declination bounds within outer rings (rounding=2)...\n",
      "✅ All rings have consistent declination bounds across their tracts.\n",
      "Checking shared declination bounds within outer rings (rounding=4)...\n"
     ]
    },
    {
     "ename": "ValueError",
     "evalue": "⚠️ Tract 1 has 3 unique Dec values: {-88.9406, -87.5342, -87.5341}",
     "output_type": "error",
     "traceback": [
      "\u001b[0;31m---------------------------------------------------------------------------\u001b[0m",
      "\u001b[0;31mValueError\u001b[0m                                Traceback (most recent call last)",
      "Cell \u001b[0;32mIn[55], line 6\u001b[0m\n\u001b[1;32m      4\u001b[0m check_shared_declination_bounds_within_ring(outer_tracts,  round_amt\u001b[38;5;241m=\u001b[39m\u001b[38;5;241m2\u001b[39m)\n\u001b[1;32m      5\u001b[0m \u001b[38;5;28mprint\u001b[39m(\u001b[38;5;124m\"\u001b[39m\u001b[38;5;124mChecking shared declination bounds within outer rings (rounding=4)...\u001b[39m\u001b[38;5;124m\"\u001b[39m)\n\u001b[0;32m----> 6\u001b[0m \u001b[43mcheck_shared_declination_bounds_within_ring\u001b[49m\u001b[43m(\u001b[49m\u001b[43mouter_tracts\u001b[49m\u001b[43m,\u001b[49m\u001b[43m  \u001b[49m\u001b[43mround_amt\u001b[49m\u001b[38;5;241;43m=\u001b[39;49m\u001b[38;5;241;43m4\u001b[39;49m\u001b[43m)\u001b[49m\n\u001b[1;32m      7\u001b[0m \u001b[38;5;28mprint\u001b[39m(\u001b[38;5;124m\"\u001b[39m\u001b[38;5;124mChecking shared declination bounds within outer rings (rounding=6)...\u001b[39m\u001b[38;5;124m\"\u001b[39m)\n\u001b[1;32m      8\u001b[0m check_shared_declination_bounds_within_ring(outer_tracts,  round_amt\u001b[38;5;241m=\u001b[39m\u001b[38;5;241m6\u001b[39m)\n",
      "Cell \u001b[0;32mIn[52], line 9\u001b[0m, in \u001b[0;36mcheck_shared_declination_bounds_within_ring\u001b[0;34m(tract_items, round_amt)\u001b[0m\n\u001b[1;32m      6\u001b[0m \u001b[38;5;28;01mfor\u001b[39;00m tract_id, ring_id \u001b[38;5;129;01min\u001b[39;00m iterate_tract_and_ring:\n\u001b[1;32m      7\u001b[0m     \u001b[38;5;66;03m# Get declination bounds for the tract.\u001b[39;00m\n\u001b[1;32m      8\u001b[0m     polygon \u001b[38;5;241m=\u001b[39m tract_items[tract_id][\u001b[38;5;241m1\u001b[39m][\u001b[38;5;124m\"\u001b[39m\u001b[38;5;124mpolygon\u001b[39m\u001b[38;5;124m\"\u001b[39m]\n\u001b[0;32m----> 9\u001b[0m     min_dec, max_dec \u001b[38;5;241m=\u001b[39m \u001b[43mget_dec_bounds\u001b[49m\u001b[43m(\u001b[49m\u001b[43mpolygon\u001b[49m\u001b[43m,\u001b[49m\u001b[43m \u001b[49m\u001b[43mtract_id\u001b[49m\u001b[43m,\u001b[49m\u001b[43m \u001b[49m\u001b[43mround_amt\u001b[49m\u001b[43m)\u001b[49m\n\u001b[1;32m     11\u001b[0m     \u001b[38;5;66;03m# Compare with existing bounds for the ring.\u001b[39;00m\n\u001b[1;32m     12\u001b[0m     \u001b[38;5;28;01mif\u001b[39;00m ring_id \u001b[38;5;129;01min\u001b[39;00m ring_dec_bounds:\n",
      "Cell \u001b[0;32mIn[54], line 7\u001b[0m, in \u001b[0;36mget_dec_bounds\u001b[0;34m(polygon, tract_id, round_amt)\u001b[0m\n\u001b[1;32m      5\u001b[0m unique_decs \u001b[38;5;241m=\u001b[39m \u001b[38;5;28mset\u001b[39m(decs)\n\u001b[1;32m      6\u001b[0m \u001b[38;5;28;01mif\u001b[39;00m \u001b[38;5;28mlen\u001b[39m(unique_decs) \u001b[38;5;241m!=\u001b[39m \u001b[38;5;241m2\u001b[39m:\n\u001b[0;32m----> 7\u001b[0m     \u001b[38;5;28;01mraise\u001b[39;00m \u001b[38;5;167;01mValueError\u001b[39;00m(\u001b[38;5;124mf\u001b[39m\u001b[38;5;124m\"\u001b[39m\u001b[38;5;124m⚠️ Tract \u001b[39m\u001b[38;5;132;01m{\u001b[39;00mtract_id\u001b[38;5;132;01m}\u001b[39;00m\u001b[38;5;124m has \u001b[39m\u001b[38;5;132;01m{\u001b[39;00m\u001b[38;5;28mlen\u001b[39m(unique_decs)\u001b[38;5;132;01m}\u001b[39;00m\u001b[38;5;124m unique Dec values: \u001b[39m\u001b[38;5;132;01m{\u001b[39;00munique_decs\u001b[38;5;132;01m}\u001b[39;00m\u001b[38;5;124m\"\u001b[39m)\n\u001b[1;32m      9\u001b[0m \u001b[38;5;66;03m# Return min and max.\u001b[39;00m\n\u001b[1;32m     10\u001b[0m \u001b[38;5;28;01mreturn\u001b[39;00m \u001b[38;5;28mmin\u001b[39m(decs), \u001b[38;5;28mmax\u001b[39m(decs)\n",
      "\u001b[0;31mValueError\u001b[0m: ⚠️ Tract 1 has 3 unique Dec values: {-88.9406, -87.5342, -87.5341}"
     ]
    }
   ],
   "source": [
    "print(\"Checking shared declination bounds within rings...\")\n",
    "check_shared_declination_bounds_within_ring(inner_tracts)\n",
    "print(\"Checking shared declination bounds within outer rings (rounding=2)...\")\n",
    "check_shared_declination_bounds_within_ring(outer_tracts,  round_amt=2)\n",
    "print(\"Checking shared declination bounds within outer rings (rounding=4)...\")\n",
    "check_shared_declination_bounds_within_ring(outer_tracts,  round_amt=4)"
   ]
  },
  {
   "cell_type": "markdown",
   "id": "3c69ebc5",
   "metadata": {},
   "source": [
    "## 4. Within a ring, all tracts have the same RA interval"
   ]
  },
  {
   "cell_type": "code",
   "execution_count": null,
   "id": "5582fce2",
   "metadata": {},
   "outputs": [],
   "source": [
    "# Helper functions.\n",
    "\n",
    "def unwrap_ra_sequence(ras):\n",
    "    \"\"\"Unwrap RA values to make them monotonic, accounting for 0/360 crossover.\"\"\"\n",
    "    unwrapped = [ras[0]]\n",
    "    for ra in ras[1:]:\n",
    "        prev = unwrapped[-1]\n",
    "        if ra < prev - 180:\n",
    "            ra += 360\n",
    "        elif ra > prev + 180:\n",
    "            ra -= 360\n",
    "        unwrapped.append(ra)\n",
    "    return unwrapped\n",
    "\n",
    "def get_ra_interval(tract_id, tract_data):\n",
    "    \"\"\"Get the RA interval of a polygon, handling unwrapped RAs.\"\"\"\n",
    "    # Get the polygon for the tract.\n",
    "    polygon = tract_data.get(\"polygon\")\n",
    "    if polygon is None:\n",
    "        return -1.0\n",
    "\n",
    "    # Get the RAs.\n",
    "    ras = [round(point[0], 10) for point in polygon]\n",
    "    unwrapped_ras = unwrap_ra_sequence(ras)\n",
    "    unique_ras = set(unwrapped_ras)\n",
    "\n",
    "    # Edge cases and errors.\n",
    "    if len(unique_ras) < 2:\n",
    "        return -1.0\n",
    "    elif len(unique_ras) > 2:\n",
    "        raise ValueError(f\"Polygon has {len(unique_ras)} unique RA values: {unique_ras}\")\n",
    "    \n",
    "    # Return the interval between the two unique RAs.\n",
    "    sorted_ras = sorted(unique_ras)\n",
    "    return (sorted_ras[1] - sorted_ras[0])"
   ]
  },
  {
   "cell_type": "code",
   "execution_count": 66,
   "id": "c575aec3",
   "metadata": {},
   "outputs": [],
   "source": [
    "import math\n",
    "from skymap_to_poly_coords import IterateTractAndRing\n",
    "\n",
    "def check_ra_intervals(tract_items):\n",
    "    iterate_tract_and_ring = IterateTractAndRing(lsst_skymap._ringNums, add_poles=False)\n",
    "\n",
    "    ra_intervals = {}\n",
    "    for tract_id, ring_id in iterate_tract_and_ring:\n",
    "        tract_data = tract_items[tract_id][1]\n",
    "        ra_interval = get_ra_interval(tract_id, tract_data)\n",
    "\n",
    "        if ring_id in ra_intervals:\n",
    "            if not math.isclose(ra_interval, ra_intervals[ring_id], abs_tol=1e-8):\n",
    "                raise ValueError(f\"⚠️ Ring {ring_id} has inconsistent RA intervals: \"\n",
    "                                 f\"{ra_intervals[ring_id]} vs {ra_interval}\")\n",
    "        else:\n",
    "            ra_intervals[ring_id] = ra_interval\n",
    "    print(\"✅ All rings have consistent RA intervals across their tracts.\")"
   ]
  },
  {
   "cell_type": "code",
   "execution_count": 68,
   "id": "b6449f5b",
   "metadata": {},
   "outputs": [
    {
     "name": "stdout",
     "output_type": "stream",
     "text": [
      "Checking inner tracts for rectangle shape...\n",
      "✅ All rings have consistent RA intervals across their tracts.\n",
      "Checking outer tracts for rectangle shape...\n"
     ]
    },
    {
     "ename": "ValueError",
     "evalue": "Polygon has 4 unique RA values: {379.7533906773, 411.8567458466, 308.1413987525, 340.2453942971}",
     "output_type": "error",
     "traceback": [
      "\u001b[0;31m---------------------------------------------------------------------------\u001b[0m",
      "\u001b[0;31mValueError\u001b[0m                                Traceback (most recent call last)",
      "Cell \u001b[0;32mIn[68], line 4\u001b[0m\n\u001b[1;32m      2\u001b[0m check_ra_intervals(inner_tracts)\n\u001b[1;32m      3\u001b[0m \u001b[38;5;28mprint\u001b[39m(\u001b[38;5;124m\"\u001b[39m\u001b[38;5;124mChecking outer tracts for rectangle shape...\u001b[39m\u001b[38;5;124m\"\u001b[39m)\n\u001b[0;32m----> 4\u001b[0m \u001b[43mcheck_ra_intervals\u001b[49m\u001b[43m(\u001b[49m\u001b[43mouter_tracts\u001b[49m\u001b[43m)\u001b[49m\n",
      "Cell \u001b[0;32mIn[66], line 10\u001b[0m, in \u001b[0;36mcheck_ra_intervals\u001b[0;34m(tract_items)\u001b[0m\n\u001b[1;32m      8\u001b[0m \u001b[38;5;28;01mfor\u001b[39;00m tract_id, ring_id \u001b[38;5;129;01min\u001b[39;00m iterate_tract_and_ring:\n\u001b[1;32m      9\u001b[0m     tract_data \u001b[38;5;241m=\u001b[39m tract_items[tract_id][\u001b[38;5;241m1\u001b[39m]\n\u001b[0;32m---> 10\u001b[0m     ra_interval \u001b[38;5;241m=\u001b[39m \u001b[43mget_ra_interval\u001b[49m\u001b[43m(\u001b[49m\u001b[43mtract_id\u001b[49m\u001b[43m,\u001b[49m\u001b[43m \u001b[49m\u001b[43mtract_data\u001b[49m\u001b[43m)\u001b[49m\n\u001b[1;32m     12\u001b[0m     \u001b[38;5;28;01mif\u001b[39;00m ring_id \u001b[38;5;129;01min\u001b[39;00m ra_intervals:\n\u001b[1;32m     13\u001b[0m         \u001b[38;5;28;01mif\u001b[39;00m \u001b[38;5;129;01mnot\u001b[39;00m math\u001b[38;5;241m.\u001b[39misclose(ra_interval, ra_intervals[ring_id], abs_tol\u001b[38;5;241m=\u001b[39m\u001b[38;5;241m1e-8\u001b[39m):\n",
      "Cell \u001b[0;32mIn[63], line 29\u001b[0m, in \u001b[0;36mget_ra_interval\u001b[0;34m(tract_id, tract_data)\u001b[0m\n\u001b[1;32m     27\u001b[0m     \u001b[38;5;28;01mreturn\u001b[39;00m \u001b[38;5;241m-\u001b[39m\u001b[38;5;241m1.0\u001b[39m\n\u001b[1;32m     28\u001b[0m \u001b[38;5;28;01melif\u001b[39;00m \u001b[38;5;28mlen\u001b[39m(unique_ras) \u001b[38;5;241m>\u001b[39m \u001b[38;5;241m2\u001b[39m:\n\u001b[0;32m---> 29\u001b[0m     \u001b[38;5;28;01mraise\u001b[39;00m \u001b[38;5;167;01mValueError\u001b[39;00m(\u001b[38;5;124mf\u001b[39m\u001b[38;5;124m\"\u001b[39m\u001b[38;5;124mPolygon has \u001b[39m\u001b[38;5;132;01m{\u001b[39;00m\u001b[38;5;28mlen\u001b[39m(unique_ras)\u001b[38;5;132;01m}\u001b[39;00m\u001b[38;5;124m unique RA values: \u001b[39m\u001b[38;5;132;01m{\u001b[39;00munique_ras\u001b[38;5;132;01m}\u001b[39;00m\u001b[38;5;124m\"\u001b[39m)\n\u001b[1;32m     31\u001b[0m \u001b[38;5;66;03m# Return the interval between the two unique RAs.\u001b[39;00m\n\u001b[1;32m     32\u001b[0m sorted_ras \u001b[38;5;241m=\u001b[39m \u001b[38;5;28msorted\u001b[39m(unique_ras)\n",
      "\u001b[0;31mValueError\u001b[0m: Polygon has 4 unique RA values: {379.7533906773, 411.8567458466, 308.1413987525, 340.2453942971}"
     ]
    }
   ],
   "source": [
    "print(\"Checking inner tracts for rectangle shape...\")\n",
    "check_ra_intervals(inner_tracts)\n",
    "print(\"Checking outer tracts for rectangle shape...\")\n",
    "check_ra_intervals(outer_tracts)"
   ]
  },
  {
   "cell_type": "markdown",
   "id": "07db7247",
   "metadata": {},
   "source": [
    "## 5. Each ring begins calculating their tracts at the same RA\n",
    "\n",
    "Fun nuance here is that raStart is actually for the center of the first tract in the ring, so you'll \n",
    "have to subtract half the ring's width to get to where it actually \"starts.\""
   ]
  },
  {
   "cell_type": "code",
   "execution_count": 70,
   "id": "2713e2cb",
   "metadata": {},
   "outputs": [
    {
     "data": {
      "text/plain": [
       "0.0"
      ]
     },
     "execution_count": 70,
     "metadata": {},
     "output_type": "execute_result"
    }
   ],
   "source": [
    "lsst_skymap.config.raStart  # Nice."
   ]
  },
  {
   "cell_type": "markdown",
   "id": "24e1a977",
   "metadata": {},
   "source": [
    "## And finally, two assumptions we make for the reconstruction of the skymap:"
   ]
  },
  {
   "cell_type": "markdown",
   "id": "64bf86ee",
   "metadata": {},
   "source": [
    "### A. CW or CCW"
   ]
  },
  {
   "cell_type": "code",
   "execution_count": 71,
   "id": "c1340ce9",
   "metadata": {},
   "outputs": [],
   "source": [
    "import math\n",
    "\n",
    "def unwrap_ra_sequence(ras):\n",
    "    \"\"\"Unwrap RA values to make them monotonic, accounting for 0/360 crossover.\"\"\"\n",
    "    unwrapped = [ras[0]]\n",
    "    for ra in ras[1:]:\n",
    "        prev = unwrapped[-1]\n",
    "        if ra < prev - 180:\n",
    "            ra += 360\n",
    "        elif ra > prev + 180:\n",
    "            ra -= 360\n",
    "        unwrapped.append(ra)\n",
    "    return unwrapped\n",
    "\n",
    "def polygon_orientation_ra_dec(points):\n",
    "    \"\"\"Return 'CW' or 'CCW' for a polygon defined by RA/Dec points.\n",
    "\n",
    "    Parameters\n",
    "    ----------\n",
    "    points : list of (float, float)\n",
    "        List of (RA, Dec) pairs in degrees. Polygon is assumed to be closed\n",
    "        (first and last point the same) or will be treated as such.\n",
    "\n",
    "    Returns\n",
    "    -------\n",
    "    str\n",
    "        \"CW\" for clockwise, \"CCW\" for counter-clockwise, \"Err\" if not enough points.\n",
    "    \"\"\"\n",
    "    if len(points) < 3:\n",
    "        return \"ERR\"\n",
    "\n",
    "    ras, decs = zip(*points)\n",
    "    ras_unwrapped = unwrap_ra_sequence(ras)\n",
    "    unwrapped_points = list(zip(ras_unwrapped, decs))\n",
    "\n",
    "    # Shoelace formula: sum over (x_i * y_{i+1} - x_{i+1} * y_i)\n",
    "    area = 0.0\n",
    "    n = len(unwrapped_points)\n",
    "    for i in range(n):\n",
    "        x0, y0 = unwrapped_points[i]\n",
    "        x1, y1 = unwrapped_points[(i + 1) % n]\n",
    "        area += (x0 * y1 - x1 * y0)\n",
    "\n",
    "    orientation = \"CCW\" if area > 0 else \"CW\"\n",
    "    return orientation\n"
   ]
  },
  {
   "cell_type": "code",
   "execution_count": 84,
   "id": "5ebbc599",
   "metadata": {},
   "outputs": [],
   "source": [
    "from collections import Counter\n",
    "\n",
    "def check_winding_order(tract_items):\n",
    "    ordering_counter = Counter()\n",
    "    clockwise_tracts = []\n",
    "\n",
    "    for tract_id, tract_data in tract_items:\n",
    "        polygon = tract_data.get(\"polygon\")\n",
    "\n",
    "        order = polygon_orientation_ra_dec(polygon)\n",
    "        ordering_counter[order] += 1\n",
    "\n",
    "        if order == \"CW\":  # We'll record these to verify that they're the poles.\n",
    "            clockwise_tracts.append(int(tract_id))\n",
    "\n",
    "    for k, v in ordering_counter.items():\n",
    "        print(f\"- {k}: {v} tracts\")\n",
    "    print(f\"{len(clockwise_tracts)} tracts are clockwise: {', '.join(map(str, clockwise_tracts))}\\n\")"
   ]
  },
  {
   "cell_type": "code",
   "execution_count": 85,
   "id": "cfe3d2d0",
   "metadata": {},
   "outputs": [
    {
     "name": "stdout",
     "output_type": "stream",
     "text": [
      "Checking inner tracts winding order...\n",
      "- CW: 2 tracts\n",
      "- CCW: 18936 tracts\n",
      "2 tracts are clockwise: 0, 18937\n",
      "\n",
      "Checking outer tracts winding order...\n",
      "- CW: 2 tracts\n",
      "- CCW: 18936 tracts\n",
      "2 tracts are clockwise: 0, 18937\n",
      "\n"
     ]
    }
   ],
   "source": [
    "print(\"Checking inner tracts winding order...\")\n",
    "check_winding_order(inner_tracts)\n",
    "print(\"Checking outer tracts winding order...\")\n",
    "check_winding_order(outer_tracts)"
   ]
  },
  {
   "cell_type": "markdown",
   "id": "8fd9d470",
   "metadata": {},
   "source": [
    "### B. Start from a consistent corner"
   ]
  },
  {
   "cell_type": "code",
   "execution_count": 86,
   "id": "52d37b14",
   "metadata": {},
   "outputs": [],
   "source": [
    "def classify_starting_corner(polygon):\n",
    "    \"\"\"Classify the starting corner of a polygon based on unwrapped RA/Dec.\n",
    "\n",
    "    Parameters\n",
    "    ----------\n",
    "    polygon : list of (float, float)\n",
    "        List of (RA, Dec) pairs in degrees. Assumed to be in polygon vertex order.\n",
    "\n",
    "    Returns\n",
    "    -------\n",
    "    str\n",
    "        One of: \"top-left\", \"top-right\", \"bottom-left\", \"bottom-right\"\n",
    "    \"\"\"\n",
    "    if len(polygon) < 3:\n",
    "        raise ValueError(\"Need at least 3 vertices to classify corners\")\n",
    "\n",
    "    # Unwrap RAs to make comparisons safe\n",
    "    ras, decs = zip(*polygon)\n",
    "    unwrapped_ras = unwrap_ra_sequence(ras)\n",
    "    start_ra, start_dec = unwrapped_ras[0], decs[0]\n",
    "\n",
    "    min_ra, max_ra = min(unwrapped_ras), max(unwrapped_ras)\n",
    "    min_dec, max_dec = min(decs), max(decs)\n",
    "\n",
    "    horiz = \"left\" if abs(start_ra - min_ra) < 1e-6 else \"right\"\n",
    "    vert = \"top\" if abs(start_dec - max_dec) < 1e-6 else \"bottom\"\n",
    "\n",
    "    return f\"{vert}-{horiz}\""
   ]
  },
  {
   "cell_type": "code",
   "execution_count": 102,
   "id": "a2608bc2",
   "metadata": {},
   "outputs": [],
   "source": [
    "from collections import Counter\n",
    "\n",
    "total_tracts = sum(lsst_skymap._ringNums) + 2\n",
    "\n",
    "def check_starting_corner(tract_items):\n",
    "    \"\"\"Check the starting corner classification for all tracts.\n",
    "    Counts how many tracts fall into each starting corner category.\n",
    "    \"\"\"\n",
    "    starting_corner_counter = Counter()\n",
    "\n",
    "    for tract_id, tract_data in tract_items:\n",
    "        polygon = tract_data.get(\"polygon\")\n",
    "\n",
    "        corner = classify_starting_corner(polygon)\n",
    "        starting_corner_counter[corner] += 1\n",
    "\n",
    "    print(\"Starting corner classification:\")\n",
    "    for corner, count in starting_corner_counter.items():\n",
    "        print(f\"  {corner}: {count} tracts\")"
   ]
  },
  {
   "cell_type": "code",
   "execution_count": 103,
   "id": "eae0100c",
   "metadata": {},
   "outputs": [
    {
     "name": "stdout",
     "output_type": "stream",
     "text": [
      "Checking inner tracts starting corners...\n",
      "Starting corner classification:\n",
      "  bottom-left: 18938 tracts\n",
      "Checking outer tracts starting corners...\n",
      "Starting corner classification:\n",
      "  bottom-right: 9469 tracts\n",
      "  bottom-left: 9469 tracts\n"
     ]
    }
   ],
   "source": [
    "print(\"Checking inner tracts starting corners...\")\n",
    "check_starting_corner(inner_tracts)\n",
    "print(\"Checking outer tracts starting corners...\")\n",
    "check_starting_corner(outer_tracts)"
   ]
  }
 ],
 "metadata": {
  "kernelspec": {
   "display_name": "Python 3 (ipykernel)",
   "language": "python",
   "name": "python3"
  },
  "language_info": {
   "codemirror_mode": {
    "name": "ipython",
    "version": 3
   },
   "file_extension": ".py",
   "mimetype": "text/x-python",
   "name": "python",
   "nbconvert_exporter": "python",
   "pygments_lexer": "ipython3",
   "version": "3.12.9"
  }
 },
 "nbformat": 4,
 "nbformat_minor": 5
}
