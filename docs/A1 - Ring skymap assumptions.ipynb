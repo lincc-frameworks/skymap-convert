{
 "cells": [
  {
   "cell_type": "markdown",
   "id": "e71ed1a6",
   "metadata": {},
   "source": [
    "# Appendix 1 | Ring skymap assumptions\n",
    "\n",
    "These are the assumptions upon which we base our implementation:"
   ]
  },
  {
   "cell_type": "markdown",
   "id": "3999724e",
   "metadata": {
    "vscode": {
     "languageId": "plaintext"
    }
   },
   "source": [
    "1. All tracts have exactly 4 vertices\n",
    "1. Except the poles, all tracts are rectangular (to the nearest arcsecond)\n",
    "1. Within a ring, all tracts share the same upper and lower declination\n",
    "1. Within a ring, all tracts have the same width, or interval between their RA boundaries\n",
    "1. Each ring begins calculating their tracts at the same RA"
   ]
  },
  {
   "cell_type": "markdown",
   "id": "dc51cba0",
   "metadata": {},
   "source": [
    "## Set up skymap\n",
    "\n",
    "We will compare both the inner polygon and outer polygon skymaps. For convenience, we will use the \n",
    "pre-calculated tracts from our Full Vertex skymaps.\n",
    "\n",
    "However, it will be useful to reference the LSST skymap for metadata such as ring numbers, so we'll \n",
    "load that, too."
   ]
  },
  {
   "cell_type": "code",
   "execution_count": null,
   "id": "322414e3",
   "metadata": {},
   "outputs": [],
   "source": [
    "import yaml\n",
    "from pathlib import Path\n",
    "\n",
    "\n",
    "package_root = Path.home() / \"skymap-to-poly-coords\""
   ]
  },
  {
   "cell_type": "code",
   "execution_count": null,
   "id": "3e59f387",
   "metadata": {},
   "outputs": [],
   "source": [
    "inner_fv_path = package_root / \"converted_skymaps\" / \"full_vertex\" / \"inner_polygons.yaml\"\n",
    "\n",
    "with open(inner_fv_path, \"r\") as f:\n",
    "    inner_fv_data = yaml.safe_load(f)\n",
    "\n",
    "inner_tracts = sorted(inner_fv_data[\"tracts\"].items(), key=lambda x: int(x[0]))\n",
    "print(f\"{len(inner_tracts)} inner tracts loaded.\")"
   ]
  },
  {
   "cell_type": "code",
   "execution_count": null,
   "id": "ee4c5454",
   "metadata": {},
   "outputs": [],
   "source": [
    "outer_fv_path = package_root / \"converted_skymaps\" / \"full_vertex\" / \"outer_polygons.yaml\"\n",
    "\n",
    "with open(outer_fv_path, \"r\") as f:\n",
    "    outer_fv_data = yaml.safe_load(f)\n",
    "\n",
    "outer_tracts = sorted(outer_fv_data[\"tracts\"].items(), key=lambda x: int(x[0]))\n",
    "print(f\"{len(outer_tracts)} outer tracts loaded.\")"
   ]
  },
  {
   "cell_type": "code",
   "execution_count": null,
   "id": "fd13b347",
   "metadata": {},
   "outputs": [],
   "source": [
    "from skymap_convert import load_pickle_skymap\n",
    "\n",
    "raw_skymaps_dir = package_root / \"tests\" / \"data\" / \"raw_skymaps\"\n",
    "raw_skymap_path = raw_skymaps_dir / \"skyMap_lsst_cells_v1_skymaps.pickle\"\n",
    "\n",
    "lsst_skymap = load_pickle_skymap(raw_skymap_path)\n",
    "lsst_skymap"
   ]
  },
  {
   "cell_type": "markdown",
   "id": "dfbc1d19",
   "metadata": {},
   "source": [
    "## 1. All tracts have exactly 4 vertices"
   ]
  },
  {
   "cell_type": "code",
   "execution_count": null,
   "id": "fcf3fb42",
   "metadata": {},
   "outputs": [],
   "source": [
    "def check_all_tracts_have_four_vertices(tract_items):\n",
    "    for tract_id, tract_data in tract_items:\n",
    "        polygon = tract_data.get(\"polygon\")\n",
    "        if len(polygon) != 4:\n",
    "            raise ValueError(f\"⚠️ Tract {tract_id} has {len(polygon)} vertices (expected 4).\")\n",
    "\n",
    "    print(f\"✅ All {len(tract_items)} tracts have 4 vertices.\")"
   ]
  },
  {
   "cell_type": "code",
   "execution_count": null,
   "id": "e0336bbb",
   "metadata": {},
   "outputs": [],
   "source": [
    "print(\"Checking inner tracts...\")\n",
    "check_all_tracts_have_four_vertices(inner_tracts)\n",
    "print(\"Checking outer tracts...\")\n",
    "check_all_tracts_have_four_vertices(outer_tracts)"
   ]
  },
  {
   "cell_type": "markdown",
   "id": "9b157c04",
   "metadata": {},
   "source": [
    "## 2. Except the poles, all tracts are rectangular"
   ]
  },
  {
   "cell_type": "code",
   "execution_count": null,
   "id": "6176e934",
   "metadata": {},
   "outputs": [],
   "source": [
    "def check_all_tracts_are_rectangles(tract_items):\n",
    "    # Skipping the first and last tracts (poles)\n",
    "    for tract_id, tract_data in tract_items[1:-1]:\n",
    "        polygon = tract_data.get(\"polygon\")\n",
    "\n",
    "        # Ensure polygon is not None.\n",
    "        if not polygon:\n",
    "            raise ValueError(f\"⚠️ Tract {tract_id} is missing a polygon.\")\n",
    "\n",
    "        # Round to avoid floating point imprecision (still beyond arcsecond precision)\n",
    "        ras = [round(point[0], 10) for point in polygon]\n",
    "        unique_ras = set(ras)\n",
    "\n",
    "        if len(unique_ras) != 2:\n",
    "            raise ValueError(f\"⚠️ Tract {tract_id} has {len(unique_ras)} unique RA values: {unique_ras}\")\n",
    "\n",
    "    print(f\"✅ All {len(tract_items) - 2} tracts (excluding poles) have 2 unique RA values.\")"
   ]
  },
  {
   "cell_type": "code",
   "execution_count": null,
   "id": "8e5fb58b",
   "metadata": {},
   "outputs": [],
   "source": [
    "print(\"Checking all inner tracts are rectangular...\")\n",
    "check_all_tracts_are_rectangles(inner_tracts)\n",
    "print(\"Checking all outer tracts are rectangular...\")\n",
    "check_all_tracts_are_rectangles(outer_tracts)"
   ]
  },
  {
   "cell_type": "markdown",
   "id": "f3adea0f",
   "metadata": {},
   "source": [
    "## 3. Within a ring, all tracts share the same upper and lower declination"
   ]
  },
  {
   "cell_type": "code",
   "execution_count": null,
   "id": "f5666c1a",
   "metadata": {},
   "outputs": [],
   "source": [
    "def get_dec_bounds(polygon, tract_id, round_amt):\n",
    "    decs = [round(point[1], round_amt) for point in polygon]\n",
    "\n",
    "    # Check that there are exactly 2 unique declination values\n",
    "    unique_decs = set(decs)\n",
    "    if len(unique_decs) != 2:\n",
    "        raise ValueError(f\"⚠️ Tract {tract_id} has {len(unique_decs)} unique Dec values: {unique_decs}\")\n",
    "\n",
    "    # Return min and max.\n",
    "    return min(decs), max(decs)"
   ]
  },
  {
   "cell_type": "code",
   "execution_count": null,
   "id": "835699cc",
   "metadata": {},
   "outputs": [],
   "source": [
    "from skymap_convert import IterateTractAndRing\n",
    "\n",
    "\n",
    "def check_shared_declination_bounds_within_ring(tract_items, round_amt=10):\n",
    "    iterate_tract_and_ring = IterateTractAndRing(lsst_skymap._ringNums, add_poles=False)\n",
    "    ring_dec_bounds = {}\n",
    "    for tract_id, ring_id in iterate_tract_and_ring:\n",
    "        # Get declination bounds for the tract.\n",
    "        polygon = tract_items[tract_id][1][\"polygon\"]\n",
    "        min_dec, max_dec = get_dec_bounds(polygon, tract_id, round_amt)\n",
    "\n",
    "        # Compare with existing bounds for the ring.\n",
    "        if ring_id in ring_dec_bounds:\n",
    "            if ring_dec_bounds[ring_id] != (min_dec, max_dec):\n",
    "                raise ValueError(\n",
    "                    f\"⚠️ Ring {ring_id} has inconsistent declination bounds: \"\n",
    "                    f\"{ring_dec_bounds[ring_id]} vs {min_dec, max_dec}\"\n",
    "                )\n",
    "        else:\n",
    "            ring_dec_bounds[ring_id] = (min_dec, max_dec)\n",
    "\n",
    "    print(\"✅ All rings have consistent declination bounds across their tracts.\")"
   ]
  },
  {
   "cell_type": "code",
   "execution_count": null,
   "id": "87500fb6",
   "metadata": {},
   "outputs": [],
   "source": [
    "print(\"Checking shared declination bounds within rings...\")\n",
    "check_shared_declination_bounds_within_ring(inner_tracts)\n",
    "print(\"Checking shared declination bounds within outer rings (rounding=2)...\")\n",
    "check_shared_declination_bounds_within_ring(outer_tracts, round_amt=2)\n",
    "print(\"Checking shared declination bounds within outer rings (rounding=4)...\")\n",
    "check_shared_declination_bounds_within_ring(outer_tracts, round_amt=4)"
   ]
  },
  {
   "cell_type": "markdown",
   "id": "3c69ebc5",
   "metadata": {},
   "source": [
    "## 4. Within a ring, all tracts have the same RA interval"
   ]
  },
  {
   "cell_type": "code",
   "execution_count": null,
   "id": "5582fce2",
   "metadata": {},
   "outputs": [],
   "source": [
    "# Helper functions.\n",
    "\n",
    "\n",
    "def unwrap_ra_sequence(ras):\n",
    "    \"\"\"Unwrap RA values to make them monotonic, accounting for 0/360 crossover.\"\"\"\n",
    "    unwrapped = [ras[0]]\n",
    "    for ra in ras[1:]:\n",
    "        prev = unwrapped[-1]\n",
    "        if ra < prev - 180:\n",
    "            ra += 360\n",
    "        elif ra > prev + 180:\n",
    "            ra -= 360\n",
    "        unwrapped.append(ra)\n",
    "    return unwrapped\n",
    "\n",
    "\n",
    "def get_ra_interval(tract_id, tract_data):\n",
    "    \"\"\"Get the RA interval of a polygon, handling unwrapped RAs.\"\"\"\n",
    "    # Get the polygon for the tract.\n",
    "    polygon = tract_data.get(\"polygon\")\n",
    "    if polygon is None:\n",
    "        return -1.0\n",
    "\n",
    "    # Get the RAs.\n",
    "    ras = [round(point[0], 10) for point in polygon]\n",
    "    unwrapped_ras = unwrap_ra_sequence(ras)\n",
    "    unique_ras = set(unwrapped_ras)\n",
    "\n",
    "    # Edge cases and errors.\n",
    "    if len(unique_ras) < 2:\n",
    "        return -1.0\n",
    "    elif len(unique_ras) > 2:\n",
    "        raise ValueError(f\"Polygon has {len(unique_ras)} unique RA values: {unique_ras}\")\n",
    "\n",
    "    # Return the interval between the two unique RAs.\n",
    "    sorted_ras = sorted(unique_ras)\n",
    "    return sorted_ras[1] - sorted_ras[0]"
   ]
  },
  {
   "cell_type": "code",
   "execution_count": null,
   "id": "c575aec3",
   "metadata": {},
   "outputs": [],
   "source": [
    "import math\n",
    "from skymap_convert import IterateTractAndRing\n",
    "\n",
    "\n",
    "def check_ra_intervals(tract_items):\n",
    "    iterate_tract_and_ring = IterateTractAndRing(lsst_skymap._ringNums, add_poles=False)\n",
    "\n",
    "    ra_intervals = {}\n",
    "    for tract_id, ring_id in iterate_tract_and_ring:\n",
    "        tract_data = tract_items[tract_id][1]\n",
    "        ra_interval = get_ra_interval(tract_id, tract_data)\n",
    "\n",
    "        if ring_id in ra_intervals:\n",
    "            if not math.isclose(ra_interval, ra_intervals[ring_id], abs_tol=1e-8):\n",
    "                raise ValueError(\n",
    "                    f\"⚠️ Ring {ring_id} has inconsistent RA intervals: \"\n",
    "                    f\"{ra_intervals[ring_id]} vs {ra_interval}\"\n",
    "                )\n",
    "        else:\n",
    "            ra_intervals[ring_id] = ra_interval\n",
    "    print(\"✅ All rings have consistent RA intervals across their tracts.\")"
   ]
  },
  {
   "cell_type": "code",
   "execution_count": null,
   "id": "b6449f5b",
   "metadata": {},
   "outputs": [],
   "source": [
    "print(\"Checking inner tracts for rectangle shape...\")\n",
    "check_ra_intervals(inner_tracts)\n",
    "print(\"Checking outer tracts for rectangle shape...\")\n",
    "check_ra_intervals(outer_tracts)"
   ]
  },
  {
   "cell_type": "markdown",
   "id": "07db7247",
   "metadata": {},
   "source": [
    "## 5. Each ring begins calculating their tracts at the same RA\n",
    "\n",
    "Fun nuance here is that raStart is actually for the center of the first tract in the ring, so you'll \n",
    "have to subtract half the ring's width to get to where it actually \"starts.\""
   ]
  },
  {
   "cell_type": "code",
   "execution_count": null,
   "id": "2713e2cb",
   "metadata": {},
   "outputs": [],
   "source": [
    "lsst_skymap.config.raStart  # Nice."
   ]
  },
  {
   "cell_type": "markdown",
   "id": "24e1a977",
   "metadata": {},
   "source": [
    "## And finally, two assumptions we make for the reconstruction of the skymap:"
   ]
  },
  {
   "cell_type": "markdown",
   "id": "64bf86ee",
   "metadata": {},
   "source": [
    "### A. CW or CCW"
   ]
  },
  {
   "cell_type": "code",
   "execution_count": null,
   "id": "c1340ce9",
   "metadata": {},
   "outputs": [],
   "source": [
    "import math\n",
    "\n",
    "\n",
    "def unwrap_ra_sequence(ras):\n",
    "    \"\"\"Unwrap RA values to make them monotonic, accounting for 0/360 crossover.\"\"\"\n",
    "    unwrapped = [ras[0]]\n",
    "    for ra in ras[1:]:\n",
    "        prev = unwrapped[-1]\n",
    "        if ra < prev - 180:\n",
    "            ra += 360\n",
    "        elif ra > prev + 180:\n",
    "            ra -= 360\n",
    "        unwrapped.append(ra)\n",
    "    return unwrapped\n",
    "\n",
    "\n",
    "def polygon_orientation_ra_dec(points):\n",
    "    \"\"\"Return 'CW' or 'CCW' for a polygon defined by RA/Dec points.\n",
    "\n",
    "    Parameters\n",
    "    ----------\n",
    "    points : list of (float, float)\n",
    "        List of (RA, Dec) pairs in degrees. Polygon is assumed to be closed\n",
    "        (first and last point the same) or will be treated as such.\n",
    "\n",
    "    Returns\n",
    "    -------\n",
    "    str\n",
    "        \"CW\" for clockwise, \"CCW\" for counter-clockwise, \"Err\" if not enough points.\n",
    "    \"\"\"\n",
    "    if len(points) < 3:\n",
    "        return \"ERR\"\n",
    "\n",
    "    ras, decs = zip(*points)\n",
    "    ras_unwrapped = unwrap_ra_sequence(ras)\n",
    "    unwrapped_points = list(zip(ras_unwrapped, decs))\n",
    "\n",
    "    # Shoelace formula: sum over (x_i * y_{i+1} - x_{i+1} * y_i)\n",
    "    area = 0.0\n",
    "    n = len(unwrapped_points)\n",
    "    for i in range(n):\n",
    "        x0, y0 = unwrapped_points[i]\n",
    "        x1, y1 = unwrapped_points[(i + 1) % n]\n",
    "        area += x0 * y1 - x1 * y0\n",
    "\n",
    "    orientation = \"CCW\" if area > 0 else \"CW\"\n",
    "    return orientation"
   ]
  },
  {
   "cell_type": "code",
   "execution_count": null,
   "id": "5ebbc599",
   "metadata": {},
   "outputs": [],
   "source": [
    "from collections import Counter\n",
    "\n",
    "\n",
    "def check_winding_order(tract_items):\n",
    "    ordering_counter = Counter()\n",
    "    clockwise_tracts = []\n",
    "\n",
    "    for tract_id, tract_data in tract_items:\n",
    "        polygon = tract_data.get(\"polygon\")\n",
    "\n",
    "        order = polygon_orientation_ra_dec(polygon)\n",
    "        ordering_counter[order] += 1\n",
    "\n",
    "        if order == \"CW\":  # We'll record these to verify that they're the poles.\n",
    "            clockwise_tracts.append(int(tract_id))\n",
    "\n",
    "    for k, v in ordering_counter.items():\n",
    "        print(f\"- {k}: {v} tracts\")\n",
    "    print(f\"{len(clockwise_tracts)} tracts are clockwise: {', '.join(map(str, clockwise_tracts))}\\n\")"
   ]
  },
  {
   "cell_type": "code",
   "execution_count": null,
   "id": "cfe3d2d0",
   "metadata": {},
   "outputs": [],
   "source": [
    "print(\"Checking inner tracts winding order...\")\n",
    "check_winding_order(inner_tracts)\n",
    "print(\"Checking outer tracts winding order...\")\n",
    "check_winding_order(outer_tracts)"
   ]
  },
  {
   "cell_type": "markdown",
   "id": "8fd9d470",
   "metadata": {},
   "source": [
    "### B. Start from a consistent corner"
   ]
  },
  {
   "cell_type": "code",
   "execution_count": null,
   "id": "52d37b14",
   "metadata": {},
   "outputs": [],
   "source": [
    "def classify_starting_corner(polygon):\n",
    "    \"\"\"Classify the starting corner of a polygon based on unwrapped RA/Dec.\n",
    "\n",
    "    Parameters\n",
    "    ----------\n",
    "    polygon : list of (float, float)\n",
    "        List of (RA, Dec) pairs in degrees. Assumed to be in polygon vertex order.\n",
    "\n",
    "    Returns\n",
    "    -------\n",
    "    str\n",
    "        One of: \"top-left\", \"top-right\", \"bottom-left\", \"bottom-right\"\n",
    "    \"\"\"\n",
    "    if len(polygon) < 3:\n",
    "        raise ValueError(\"Need at least 3 vertices to classify corners\")\n",
    "\n",
    "    # Unwrap RAs to make comparisons safe\n",
    "    ras, decs = zip(*polygon)\n",
    "    unwrapped_ras = unwrap_ra_sequence(ras)\n",
    "    start_ra, start_dec = unwrapped_ras[0], decs[0]\n",
    "\n",
    "    min_ra, max_ra = min(unwrapped_ras), max(unwrapped_ras)\n",
    "    min_dec, max_dec = min(decs), max(decs)\n",
    "\n",
    "    horiz = \"left\" if abs(start_ra - min_ra) < 1e-6 else \"right\"\n",
    "    vert = \"top\" if abs(start_dec - max_dec) < 1e-6 else \"bottom\"\n",
    "\n",
    "    return f\"{vert}-{horiz}\""
   ]
  },
  {
   "cell_type": "code",
   "execution_count": null,
   "id": "a2608bc2",
   "metadata": {},
   "outputs": [],
   "source": [
    "from collections import Counter\n",
    "\n",
    "total_tracts = sum(lsst_skymap._ringNums) + 2\n",
    "\n",
    "\n",
    "def check_starting_corner(tract_items):\n",
    "    \"\"\"Check the starting corner classification for all tracts.\n",
    "    Counts how many tracts fall into each starting corner category.\n",
    "    \"\"\"\n",
    "    starting_corner_counter = Counter()\n",
    "\n",
    "    for tract_id, tract_data in tract_items:\n",
    "        polygon = tract_data.get(\"polygon\")\n",
    "\n",
    "        corner = classify_starting_corner(polygon)\n",
    "        starting_corner_counter[corner] += 1\n",
    "\n",
    "    print(\"Starting corner classification:\")\n",
    "    for corner, count in starting_corner_counter.items():\n",
    "        print(f\"  {corner}: {count} tracts\")"
   ]
  },
  {
   "cell_type": "code",
   "execution_count": null,
   "id": "eae0100c",
   "metadata": {},
   "outputs": [],
   "source": [
    "print(\"Checking inner tracts starting corners...\")\n",
    "check_starting_corner(inner_tracts)\n",
    "print(\"Checking outer tracts starting corners...\")\n",
    "check_starting_corner(outer_tracts)"
   ]
  }
 ],
 "metadata": {
  "kernelspec": {
   "display_name": "Python 3 (ipykernel)",
   "language": "python",
   "name": "python3"
  }
 },
 "nbformat": 4,
 "nbformat_minor": 5
}
