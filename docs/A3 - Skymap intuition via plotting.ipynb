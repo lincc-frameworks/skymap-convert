{
 "cells": [
  {
   "cell_type": "markdown",
   "id": "b5276f96",
   "metadata": {},
   "source": [
    "# Skymap intuition via plotting"
   ]
  },
  {
   "cell_type": "markdown",
   "id": "94f6bf3d",
   "metadata": {},
   "source": [
    "Note: this contains very early code that I used to build my own intuition for skymaps. As such, the code is fairly unpolished and does not make use of the converted skymaps, which would be a cool thing to do next in this notebook."
   ]
  },
  {
   "cell_type": "markdown",
   "id": "13519b67",
   "metadata": {},
   "source": [
    "## Rings sky map pixelization\n",
    "*From the RingsSkyMap docstring in lsst.skymap:*\n",
    "\n",
    "We divide the sphere into N rings of Declination, plus the two polar\n",
    "caps, which sets the size of the individual tracts.  The rings are\n",
    "divided in RA into an integral number of tracts of this size; this\n",
    "division is made at the Declination closest to zero so as to ensure\n",
    "full overlap.\n",
    "\n",
    "Rings are numbered in the rings from south to north. The south pole cap is\n",
    "``tract=0``, then the tract at ``raStart`` in the southernmost ring is\n",
    "``tract=1``. Numbering continues (in the positive RA direction) around that\n",
    "ring and then continues in the same fashion with the next ring north, and\n",
    "so on until all reaching the north pole cap, which is\n",
    "``tract=len(skymap) - 1``.\n",
    "\n",
    "However, ``version=0`` had a bug in the numbering of the tracts: the first\n",
    "and last tracts in the first (southernmost) ring were identical, and the\n",
    "first tract in the last (northernmost) ring was missing. When using\n",
    "``version=0``, these tracts remain missing in order to preserve the\n",
    "numbering scheme."
   ]
  },
  {
   "cell_type": "markdown",
   "id": "f5610191",
   "metadata": {},
   "source": [
    "## Plots"
   ]
  },
  {
   "cell_type": "code",
   "execution_count": null,
   "id": "3a38139a",
   "metadata": {},
   "outputs": [],
   "source": [
    "from pathlib import Path\n",
    "\n",
    "from skymap_convert import load_pickle_skymap\n",
    "\n",
    "package_root = Path.home() / \"skymap-convert\"\n",
    "\n",
    "raw_skymaps_dir = package_root / \"tests\" / \"data\" / \"raw_skymaps\"\n",
    "raw_skymap_path = raw_skymaps_dir / \"skyMap_lsst_cells_v1_skymaps.pickle\""
   ]
  },
  {
   "cell_type": "code",
   "execution_count": null,
   "id": "df74b72d",
   "metadata": {},
   "outputs": [],
   "source": [
    "lsst_skymap = load_pickle_skymap(raw_skymap_path)\n",
    "lsst_skymap"
   ]
  },
  {
   "cell_type": "markdown",
   "id": "8fafa278",
   "metadata": {},
   "source": [
    "### Molleweide ring and tract"
   ]
  },
  {
   "cell_type": "markdown",
   "id": "f5f42dce",
   "metadata": {},
   "source": [
    "todo : clean the following code a bit"
   ]
  },
  {
   "cell_type": "code",
   "execution_count": null,
   "id": "91d15325",
   "metadata": {},
   "outputs": [],
   "source": [
    "def _get_ring_bounds(skymap, verbose=False):\n",
    "    \"\"\"Get the ring bounds for a skymap.\"\"\"\n",
    "    ring_bounds = []\n",
    "    print(f\"Getting bounds for {len(skymap._ringNums)} rings.\")\n",
    "    for i in range(skymap.config.numRings + 1):\n",
    "        start_dec = skymap._ringSize * (i + 0.5) - 0.5 * math.pi\n",
    "        # stop_dec = start_dec + skymap._ringSize\n",
    "        ring_bounds.append(start_dec)\n",
    "\n",
    "    if verbose:\n",
    "        for i, b in enumerate(ring_bounds):\n",
    "            if i % 10 == 0:\n",
    "                print(f\"Boundary {i}: {b:.2f} radians, {b * 180 / math.pi:.2f} degrees\")\n",
    "\n",
    "    return ring_bounds"
   ]
  },
  {
   "cell_type": "code",
   "execution_count": null,
   "id": "9c4a5d41",
   "metadata": {},
   "outputs": [],
   "source": [
    "import math\n",
    "\n",
    "import matplotlib.pyplot as plt\n",
    "import numpy as np\n",
    "\n",
    "\n",
    "def plot_skymap(skymap):\n",
    "    \"\"\"\n",
    "    Plot the skymap using Mollweide projection.\n",
    "    \"\"\"\n",
    "    fig = plt.figure(figsize=(12, 6))\n",
    "    ax = fig.add_subplot(111, projection=\"mollweide\")\n",
    "    ax.grid(True)\n",
    "\n",
    "    # Pick a ring.\n",
    "    ring_index = 74\n",
    "    ring_bounds = _get_ring_bounds(skymap, verbose=False)\n",
    "\n",
    "    # Plot the ring boundaries.\n",
    "    if ring_index >= 0 and ring_index < len(ring_bounds) - 1:\n",
    "        boundary_upper = ring_bounds[ring_index]\n",
    "        boundary_lower = ring_bounds[ring_index + 1]\n",
    "        print(f\"Ring {ring_index} bounds: {boundary_lower:.3f} to {boundary_upper:.3f} radians\")\n",
    "        ax.fill_betweenx(\n",
    "            [boundary_lower, boundary_upper],\n",
    "            -np.pi,\n",
    "            np.pi,\n",
    "            color=\"green\",\n",
    "            alpha=0.5,\n",
    "            label=f\"Ring {ring_index}\",\n",
    "        )\n",
    "\n",
    "    # Pick a tract.\n",
    "    tract_index = 54\n",
    "\n",
    "    # Plot the tract boundaries.\n",
    "    if tract_index >= 0 and tract_index < skymap._ringNums[ring_index]:\n",
    "        print(f\"Ring {ring_index} has {skymap._ringNums[ring_index]} tracts.\")\n",
    "        num_tracts = skymap._ringNums[ring_index]\n",
    "        if tract_index >= num_tracts / 2:\n",
    "            tract_index = tract_index - num_tracts  # Wrap around to negative RAs.\n",
    "        ra_start = skymap.config.raStart + tract_index * (360 / num_tracts)\n",
    "        ra_end = ra_start + (360 / num_tracts)\n",
    "        print(f\"Plotting tract {tract_index} in ring {ring_index}:\")\n",
    "        ax.fill_betweenx(\n",
    "            [boundary_lower, boundary_upper],\n",
    "            np.radians(ra_start),\n",
    "            np.radians(ra_end),\n",
    "            color=\"blue\",\n",
    "            alpha=0.5,\n",
    "            linewidth=1,\n",
    "            label=f\"Tract {tract_index}\",\n",
    "        )\n",
    "        # TODO - Look into edge cases for the wrapping of RA values. Picked this arbitrarily.\n",
    "\n",
    "    # Draw the plot.\n",
    "    ax.set_xlabel(\"Right Ascension (degrees)\")\n",
    "    ax.set_ylabel(\"Declination (degrees)\")\n",
    "    ax.set_title(\"Mollweide Projection of Skymap\")\n",
    "    ax.legend()\n",
    "    plt.show()"
   ]
  },
  {
   "cell_type": "code",
   "execution_count": null,
   "id": "1d2ac5db",
   "metadata": {},
   "outputs": [],
   "source": [
    "plot_skymap(lsst_skymap)"
   ]
  },
  {
   "cell_type": "markdown",
   "id": "975a5a5f",
   "metadata": {},
   "source": [
    "### Zoom to tract"
   ]
  },
  {
   "cell_type": "code",
   "execution_count": null,
   "id": "3dc0def2",
   "metadata": {},
   "outputs": [],
   "source": [
    "def plot_tract(skymap, ring_index, tract_index):\n",
    "    \"\"\"Plot a specific tract in a skymap.\"\"\"\n",
    "\n",
    "    ring_bounds = _get_ring_bounds(skymap, verbose=False)\n",
    "\n",
    "    # Plot\n",
    "    fig, ax = plt.subplots(figsize=(8, 6))\n",
    "    ax.grid(True)\n",
    "\n",
    "    # Plot the ring boundaries.\n",
    "    if 0 <= ring_index < len(ring_bounds) - 1:\n",
    "        boundary_lower = ring_bounds[ring_index]\n",
    "        boundary_upper = ring_bounds[ring_index + 1]\n",
    "        print(\n",
    "            f\"Ring {ring_index} bounds: \"\n",
    "            f\"{np.degrees(boundary_lower):.2f}° to {np.degrees(boundary_upper):.2f}° declination\"\n",
    "        )\n",
    "\n",
    "        ax.fill_betweenx(\n",
    "            y=[np.degrees(boundary_lower), np.degrees(boundary_upper)],\n",
    "            x1=-180,\n",
    "            x2=180,\n",
    "            color=\"green\",\n",
    "            alpha=0.5,\n",
    "            label=f\"Ring {ring_index}\",\n",
    "        )\n",
    "\n",
    "        num_tracts = skymap._ringNums[ring_index]\n",
    "        print(f\"Ring {ring_index} has {num_tracts} tracts.\")\n",
    "\n",
    "        # Handle RA wraparound\n",
    "        tract_index_wrapped = tract_index\n",
    "        if tract_index_wrapped >= num_tracts / 2:\n",
    "            tract_index_wrapped = tract_index_wrapped - num_tracts\n",
    "\n",
    "        ra_start = skymap.config.raStart + tract_index_wrapped * (360 / num_tracts)\n",
    "        ra_end = ra_start + (360 / num_tracts)\n",
    "\n",
    "        print(f\"Plotting tract {tract_index} in ring {ring_index}:\")\n",
    "        print(f\"\\tRA {ra_start:.2f}° to {ra_end:.2f}°\")\n",
    "        print(f\"\\tDec {np.degrees(boundary_lower):.2f}° to {np.degrees(boundary_upper):.2f}°\")\n",
    "\n",
    "        ax.fill_betweenx(\n",
    "            y=[np.degrees(boundary_lower), np.degrees(boundary_upper)],\n",
    "            x1=ra_start,\n",
    "            x2=ra_end,\n",
    "            color=\"blue\",\n",
    "            alpha=0.5,\n",
    "            linewidth=1,\n",
    "            label=f\"Tract {tract_index}\",\n",
    "        )\n",
    "\n",
    "        # Set zoomed-in limits\n",
    "        margin = 2  # degrees\n",
    "        ax.set_xlim(ra_start - margin, ra_end + margin)\n",
    "        ax.set_ylim(np.degrees(boundary_lower) - margin, np.degrees(boundary_upper) + margin)\n",
    "\n",
    "    # Draw the plot.\n",
    "    ax.set_xlabel(\"Right Ascension (degrees)\")\n",
    "    ax.set_ylabel(\"Declination (degrees)\")\n",
    "    ax.set_title(\"Zoomed-In View of Selected Tract\")\n",
    "    ax.legend()\n",
    "    plt.show()"
   ]
  },
  {
   "cell_type": "code",
   "execution_count": null,
   "id": "9b681588",
   "metadata": {},
   "outputs": [],
   "source": [
    "plot_tract(lsst_skymap, ring_index=74, tract_index=54)"
   ]
  }
 ],
 "metadata": {
  "kernelspec": {
   "display_name": "Python 3 (ipykernel)",
   "language": "python",
   "name": "python3"
  },
  "language_info": {
   "codemirror_mode": {
    "name": "ipython",
    "version": 3
   },
   "file_extension": ".py",
   "mimetype": "text/x-python",
   "name": "python",
   "nbconvert_exporter": "python",
   "pygments_lexer": "ipython3",
   "version": "3.12.9"
  }
 },
 "nbformat": 4,
 "nbformat_minor": 5
}
