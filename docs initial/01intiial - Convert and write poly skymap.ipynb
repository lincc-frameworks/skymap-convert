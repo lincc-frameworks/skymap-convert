{
 "cells": [
  {
   "cell_type": "markdown",
   "id": "06012870",
   "metadata": {},
   "source": [
    "# Storing skymaps"
   ]
  },
  {
   "cell_type": "markdown",
   "id": "c38f9b28",
   "metadata": {},
   "source": [
    "## Read raw skymap files"
   ]
  },
  {
   "cell_type": "code",
   "execution_count": 65,
   "id": "b046e4b1",
   "metadata": {},
   "outputs": [],
   "source": [
    "import pickle\n",
    "from pathlib import Path\n",
    "import math\n",
    "import numpy as np\n",
    "from lsst.sphgeom import Box, ConvexPolygon, LonLat, UnitVector3d\n",
    "import yaml\n",
    "from skymap_to_poly_coords import load_pickle_skymap\n"
   ]
  },
  {
   "cell_type": "code",
   "execution_count": 66,
   "id": "3c3fbfcf",
   "metadata": {},
   "outputs": [],
   "source": [
    "package_root = Path.home() / \"skymap-to-poly-coords\"\n",
    "\n",
    "raw_skymaps_dir = package_root / \"tests\" / \"data\" / \"raw_skymaps\"\n",
    "skymap_path = raw_skymaps_dir / \"skyMap_lsst_cells_v1_skymaps.pickle\"\n",
    "\n",
    "skymap_out_dir = package_root / \"skymaps_out\"\n",
    "inner_poly_path = skymap_out_dir / \"inner_polygons.yaml\"\n",
    "outer_poly_path = skymap_out_dir / \"outer_polygons.yaml\"\n",
    "\n",
    "inner_poly_ring_optimized_path = skymap_out_dir / \"inner_polygons_ring_optimized.yaml\"\n",
    "outer_poly_ring_optimized_path = skymap_out_dir / \"outer_polygons_ring_optimized.yaml\""
   ]
  },
  {
   "cell_type": "code",
   "execution_count": 67,
   "id": "05d997ac",
   "metadata": {},
   "outputs": [
    {
     "data": {
      "text/plain": [
       "<lsst.skymap.ringsSkyMap.RingsSkyMap at 0x7fe739e77800>"
      ]
     },
     "execution_count": 67,
     "metadata": {},
     "output_type": "execute_result"
    }
   ],
   "source": [
    "lsst_skymap = load_pickle_skymap(skymap_path)\n",
    "lsst_skymap"
   ]
  },
  {
   "cell_type": "markdown",
   "id": "3ce11262",
   "metadata": {},
   "source": [
    "## A note on rings sky map pixelization \n",
    "*From the RingsSkyMap docstring in lsst.skymap:*\n",
    "\n",
    "We divide the sphere into N rings of Declination, plus the two polar\n",
    "caps, which sets the size of the individual tracts.  The rings are\n",
    "divided in RA into an integral number of tracts of this size; this\n",
    "division is made at the Declination closest to zero so as to ensure\n",
    "full overlap.\n",
    "\n",
    "Rings are numbered in the rings from south to north. The south pole cap is\n",
    "``tract=0``, then the tract at ``raStart`` in the southernmost ring is\n",
    "``tract=1``. Numbering continues (in the positive RA direction) around that\n",
    "ring and then continues in the same fashion with the next ring north, and\n",
    "so on until all reaching the north pole cap, which is\n",
    "``tract=len(skymap) - 1``.\n",
    "\n",
    "However, ``version=0`` had a bug in the numbering of the tracts: the first\n",
    "and last tracts in the first (southernmost) ring were identical, and the\n",
    "first tract in the last (northernmost) ring was missing. When using\n",
    "``version=0``, these tracts remain missing in order to preserve the\n",
    "numbering scheme."
   ]
  },
  {
   "cell_type": "markdown",
   "id": "1484abc1",
   "metadata": {},
   "source": [
    "## Storage options\n"
   ]
  },
  {
   "cell_type": "markdown",
   "id": "22b853ab",
   "metadata": {},
   "source": [
    "We would like to support both inner and outer polygons for the tracts.  \n",
    "\n",
    "Tracts are arranged in \"rings\", which span horizontal regions of the sky.\n",
    "\n",
    "→ Inner polys:\n",
    "- represent the exact boundaries of a given tract\n",
    "- do not overlap\n",
    "\n",
    "→ Outer polys:\n",
    "- may (will?) overlap with adjacent tracts' outer polys\n",
    "- are akin to pixels + margins in HATS catalogs"
   ]
  },
  {
   "cell_type": "markdown",
   "id": "bd4bddbd",
   "metadata": {},
   "source": [
    "## Option 1: Two YAML files (inner polys and outer polys) that store each tracts' corners\n",
    "\n",
    "Basically, a brute force approach where we calculate each tracts' vertices in radec and dump them into a yaml."
   ]
  },
  {
   "cell_type": "markdown",
   "id": "4115a76a",
   "metadata": {},
   "source": [
    "#### Inner polys/outer polys:\n",
    "- Store per-tract: `ra_min`, `ra_max`, `dec_min`, `dec_max`\n",
    "- Requires 4 floats per tract, so for ~19k tracts:\n",
    "  4 × 8 B × 19,000 ≈ ~600 KB (before YAML overhead; ~1–1.5 MB total)\n",
    "- However, could compress to a `.npz` of around ~0.5–0.8 MB\n",
    "- **Just kidding. Estimates were a bit off; a single file is about 4 MiB**\n",
    "\n",
    "| Pros     | Cons |\n",
    "| -------- | ------- |\n",
    "| Easy to understand and verify  | Disk usage   |\n",
    "| Doesn’t require any LSST WCS machinery to read the yaml file | Less precise because of floating points? Is this a problem?   |\n",
    "|  | Storing patches is gonna go crazy on this. Better to iterate to a more performant version for that.  |\n",
    "\n",
    "\n",
    "<!-- #### Pros\n",
    "- Easy to understand and verify\n",
    "- Doesn’t require any LSST WCS machinery to read the yaml file\n",
    "\n",
    "#### Cons\n",
    "- Disk usage\n",
    "- Less precise because of floating points? Is this a problem?\n",
    "- Storing patches is gonna go crazy on this. Better to iterate to a more performant version for that.\n",
    "  - Otherwise, we'll have to break these files up into a series of yamls to accomodate patches. -->"
   ]
  },
  {
   "cell_type": "markdown",
   "id": "4f9c2aa5",
   "metadata": {},
   "source": [
    "### Write inner_poly and outer_poly files"
   ]
  },
  {
   "cell_type": "code",
   "execution_count": 68,
   "id": "e233941c",
   "metadata": {},
   "outputs": [],
   "source": [
    "from skymap_to_poly_coords import write_polygons_ra_dec\n",
    "\n",
    "\n",
    "write_polygons_ra_dec(lsst_skymap, inner_poly_path, inner=True)\n",
    "#write_polygons_ra_dec(lsst_skymap, outer_poly_path, inner=False)"
   ]
  },
  {
   "cell_type": "markdown",
   "id": "eca14065",
   "metadata": {},
   "source": [
    "## Option 2: Reconstruct everything using projection + geometry"
   ]
  },
  {
   "cell_type": "markdown",
   "id": "3f58b787",
   "metadata": {},
   "source": [
    "Can we do this without using LSST geom and mucking around with WCS packages and some really heavy projection/reprojection code?\n",
    "\n",
    "I don't think re-implementing LSST's skymap package is in scope for this task, but open to suggestions if someone has an idea."
   ]
  },
  {
   "cell_type": "markdown",
   "id": "b0859316",
   "metadata": {},
   "source": [
    "## Option 3: Hybrid; store per-ring Dec data, and per-tract RA data\n",
    "### Similar principle with patches--each row of patches will act as its own \"patch ring\" with shared Dec"
   ]
  },
  {
   "cell_type": "markdown",
   "id": "b9da4b95",
   "metadata": {},
   "source": [
    "Can we make this assumption, or does it break down with projection distortions near the poles, rounding errors, or other confounding factors?\n",
    "\n",
    "### Let's confirm two things:\n",
    "1. Are the dec_min and dec_max values exactly the same for all tracts in a given ring?\n",
    "2. Can each tract polygon be reconstructed from just the ring’s declination bounds and the tract’s RA vertex list?"
   ]
  },
  {
   "cell_type": "markdown",
   "id": "e7f5bbc4",
   "metadata": {},
   "source": [
    "### Assumption 1: dec_min and dec_max are exactly the same for all tracts in a ring (✓)\n",
    "(within floating point imprecision)"
   ]
  },
  {
   "cell_type": "code",
   "execution_count": 69,
   "id": "92b1c72a",
   "metadata": {},
   "outputs": [
    {
     "name": "stdout",
     "output_type": "stream",
     "text": [
      "→ Found 122 rings with 18938 tracts.\n"
     ]
    }
   ],
   "source": [
    "import yaml\n",
    "from pathlib import Path\n",
    "\n",
    "yaml_path = inner_poly_path  # todo check outers also\n",
    "\n",
    "# Load YAML\n",
    "with open(yaml_path, \"r\") as f:\n",
    "    data = yaml.safe_load(f)\n",
    "\n",
    "# Parse and sort tracts\n",
    "tract_items = sorted(data[\"tracts\"].items(), key=lambda x: int(x[0]))\n",
    "\n",
    "rings = []\n",
    "current_ring = []\n",
    "last_dec_bounds = None\n",
    "\n",
    "for tract_id_str, entry in tract_items:\n",
    "    tract_id = int(tract_id_str)\n",
    "    polygon = entry.get(\"polygon\")\n",
    "\n",
    "    if polygon is None:\n",
    "        print(f\"Skipping degenerate tract {tract_id} with no polygon data.\")\n",
    "        continue\n",
    "\n",
    "    decs = [point[1] for point in polygon]\n",
    "\n",
    "    # Collect rounded decs to eliminate fp imprecision\n",
    "    unique_decs = {round(d, 12) for d in decs}\n",
    "    if len(unique_decs) > 2:\n",
    "        raise ValueError(f\"⚠️ Tract {tract_id} has {len(unique_decs)} unique Decs: {sorted(unique_decs)}\")\n",
    "\n",
    "    # Generate bounds for declination\n",
    "    dec_min = round(min(decs), 12)\n",
    "    dec_max = round(max(decs), 12)\n",
    "    dec_bounds = (dec_min, dec_max)\n",
    "\n",
    "    if last_dec_bounds is None:\n",
    "        # First ring\n",
    "        last_dec_bounds = dec_bounds\n",
    "\n",
    "    if dec_bounds != last_dec_bounds:\n",
    "        # New ring starts\n",
    "        rings.append((last_dec_bounds, current_ring))\n",
    "        current_ring = [tract_id]\n",
    "        last_dec_bounds = dec_bounds\n",
    "    else:\n",
    "        current_ring.append(tract_id)\n",
    "\n",
    "# Append the last ring\n",
    "if current_ring:\n",
    "    rings.append((last_dec_bounds, current_ring))\n",
    "\n",
    "# Report\n",
    "verbose = False\n",
    "if verbose:\n",
    "    for i, (bounds, tracts) in enumerate(rings):\n",
    "        print(f\"→ Ring {i}: dec_min/max = {bounds}, tracts = {tracts[0]} to {tracts[-1]}, total = {len(tracts)}\")\n",
    "else:\n",
    "    print(f\"→ Found {len(rings)} rings with {sum(len(r[1]) for r in rings)} tracts.\")"
   ]
  },
  {
   "cell_type": "markdown",
   "id": "41c77f2e",
   "metadata": {},
   "source": [
    "### Assumption 2: Each tract polygon can be reconstructed from just the ring’s declination bounds and the tract’s RA vertex list"
   ]
  },
  {
   "cell_type": "markdown",
   "id": "36b9d6e7",
   "metadata": {},
   "source": [
    "This assumption relies on a couple other questions:\n",
    "1. How many unique RA values are there per-tract? Always just 2, or sometimes 3 or 4?\n",
    "2. Is there a patern to what order the polygon vertices are listed? Is it, say, always the \n",
    "  upper-left and clockwise around?"
   ]
  },
  {
   "cell_type": "markdown",
   "id": "e2d0e098",
   "metadata": {},
   "source": [
    "#### 2.1 How many unique RA values are in a tract?"
   ]
  },
  {
   "cell_type": "code",
   "execution_count": 70,
   "id": "cb373ca1",
   "metadata": {},
   "outputs": [
    {
     "name": "stdout",
     "output_type": "stream",
     "text": [
      "RA value counts per tract:\n",
      "  1 unique RA values: 2 tracts\n",
      "  2 unique RA values: 18936 tracts\n"
     ]
    }
   ],
   "source": [
    "from collections import Counter\n",
    "\n",
    "ra_counts = Counter()\n",
    "\n",
    "for tract_id_str, entry in data[\"tracts\"].items():\n",
    "    polygon = entry.get(\"polygon\")\n",
    "    if polygon is None:\n",
    "        continue\n",
    "\n",
    "    ras = [round(point[0], 10) for point in polygon]\n",
    "    unique_ras = set(ras)\n",
    "    ra_counts[len(unique_ras)] += 1\n",
    "\n",
    "    if len(unique_ras) == 3:\n",
    "        print(f\"⚠️ Tract {tract_id_str} has 3 unique RA values: {unique_ras}\")\n",
    "\n",
    "print(\"RA value counts per tract:\")\n",
    "for count, num_tracts in sorted(ra_counts.items()):\n",
    "    print(f\"  {count} unique RA values: {num_tracts} tracts\")\n"
   ]
  },
  {
   "cell_type": "markdown",
   "id": "e537bff0",
   "metadata": {},
   "source": [
    "#### 2.2 Do most tracts follow the same curve orientation? If so, is it clockwise or counter-clockwise?"
   ]
  },
  {
   "cell_type": "code",
   "execution_count": 71,
   "id": "b11aef5c",
   "metadata": {},
   "outputs": [],
   "source": [
    "import math\n",
    "\n",
    "def unwrap_ra_sequence(ras):\n",
    "    \"\"\"Unwrap RA values to make them monotonic, accounting for 0/360 crossover.\"\"\"\n",
    "    unwrapped = [ras[0]]\n",
    "    for ra in ras[1:]:\n",
    "        prev = unwrapped[-1]\n",
    "        if ra < prev - 180:\n",
    "            ra += 360\n",
    "        elif ra > prev + 180:\n",
    "            ra -= 360\n",
    "        unwrapped.append(ra)\n",
    "    return unwrapped\n",
    "\n",
    "def polygon_orientation_ra_dec(points):\n",
    "    \"\"\"Return 'CW' or 'CCW' for a polygon defined by RA/Dec points.\n",
    "\n",
    "    Parameters\n",
    "    ----------\n",
    "    points : list of (float, float)\n",
    "        List of (RA, Dec) pairs in degrees. Polygon is assumed to be closed\n",
    "        (first and last point the same) or will be treated as such.\n",
    "\n",
    "    Returns\n",
    "    -------\n",
    "    str\n",
    "        \"CW\" for clockwise, \"CCW\" for counter-clockwise, \"Err\" if not enough points.\n",
    "    \"\"\"\n",
    "    if len(points) < 3:\n",
    "        return \"ERR\"\n",
    "\n",
    "    ras, decs = zip(*points)\n",
    "    ras_unwrapped = unwrap_ra_sequence(ras)\n",
    "    unwrapped_points = list(zip(ras_unwrapped, decs))\n",
    "\n",
    "    # Shoelace formula: sum over (x_i * y_{i+1} - x_{i+1} * y_i)\n",
    "    area = 0.0\n",
    "    n = len(unwrapped_points)\n",
    "    for i in range(n):\n",
    "        x0, y0 = unwrapped_points[i]\n",
    "        x1, y1 = unwrapped_points[(i + 1) % n]\n",
    "        area += (x0 * y1 - x1 * y0)\n",
    "\n",
    "    orientation = \"CCW\" if area > 0 else \"CW\"\n",
    "    return orientation\n"
   ]
  },
  {
   "cell_type": "code",
   "execution_count": 72,
   "id": "5f3eec95",
   "metadata": {},
   "outputs": [
    {
     "name": "stdout",
     "output_type": "stream",
     "text": [
      "Polygon vertex ordering:\n",
      "  CW: 2 tracts\n",
      "  CCW: 18936 tracts\n",
      "\n",
      "2 tracts are clockwise: 0, 18937\n"
     ]
    }
   ],
   "source": [
    "from collections import Counter\n",
    "\n",
    "ordering_counter = Counter()\n",
    "clockwise_tracts = []\n",
    "\n",
    "for tract_id_str, entry in data[\"tracts\"].items():\n",
    "    polygon = entry.get(\"polygon\")\n",
    "    if polygon is None or len(polygon) != 4:\n",
    "        continue\n",
    "\n",
    "    order = polygon_orientation_ra_dec(polygon)\n",
    "    ordering_counter[order] += 1\n",
    "\n",
    "    if order == \"CW\":\n",
    "        clockwise_tracts.append(int(tract_id_str))\n",
    "\n",
    "print(\"Polygon vertex ordering:\")\n",
    "for k, v in ordering_counter.items():\n",
    "    print(f\"  {k}: {v} tracts\")\n",
    "\n",
    "print()\n",
    "print(f\"{len(clockwise_tracts)} tracts are clockwise: {', '.join(map(str, clockwise_tracts))}\")\n"
   ]
  },
  {
   "cell_type": "markdown",
   "id": "72fb5f98",
   "metadata": {},
   "source": [
    "#### 2.3 Do most tracts list their vertices starting from a certain corner? Which corner is that?"
   ]
  },
  {
   "cell_type": "code",
   "execution_count": 73,
   "id": "1a3050c4",
   "metadata": {},
   "outputs": [],
   "source": [
    "def classify_starting_corner(polygon):\n",
    "    \"\"\"Classify the starting corner of a polygon based on unwrapped RA/Dec.\n",
    "\n",
    "    Parameters\n",
    "    ----------\n",
    "    polygon : list of (float, float)\n",
    "        List of (RA, Dec) pairs in degrees. Assumed to be in polygon vertex order.\n",
    "\n",
    "    Returns\n",
    "    -------\n",
    "    str\n",
    "        One of: \"top-left\", \"top-right\", \"bottom-left\", \"bottom-right\"\n",
    "    \"\"\"\n",
    "    if len(polygon) < 3:\n",
    "        raise ValueError(\"Need at least 3 vertices to classify corners\")\n",
    "\n",
    "    # Unwrap RAs to make comparisons safe\n",
    "    ras, decs = zip(*polygon)\n",
    "    unwrapped_ras = unwrap_ra_sequence(ras)\n",
    "    start_ra, start_dec = unwrapped_ras[0], decs[0]\n",
    "\n",
    "    min_ra, max_ra = min(unwrapped_ras), max(unwrapped_ras)\n",
    "    min_dec, max_dec = min(decs), max(decs)\n",
    "\n",
    "    horiz = \"left\" if abs(start_ra - min_ra) < 1e-6 else \"right\"\n",
    "    vert = \"top\" if abs(start_dec - max_dec) < 1e-6 else \"bottom\"\n",
    "\n",
    "    return f\"{vert}-{horiz}\"\n"
   ]
  },
  {
   "cell_type": "code",
   "execution_count": 74,
   "id": "2546ed00",
   "metadata": {},
   "outputs": [
    {
     "name": "stdout",
     "output_type": "stream",
     "text": [
      "Starting corner classification:\n",
      "  bottom-left: 18938 tracts\n"
     ]
    }
   ],
   "source": [
    "starting_corner_counter = Counter()\n",
    "\n",
    "for tract_id_str, entry in data[\"tracts\"].items():\n",
    "    polygon = entry.get(\"polygon\")\n",
    "    if polygon is None or len(polygon) != 4:\n",
    "        continue\n",
    "\n",
    "    corner = classify_starting_corner(polygon)\n",
    "    starting_corner_counter[corner] += 1\n",
    "\n",
    "print(\"Starting corner classification:\")\n",
    "for corner, count in starting_corner_counter.items():\n",
    "    print(f\"  {corner}: {count} tracts\")"
   ]
  },
  {
   "cell_type": "markdown",
   "id": "fdd78c9a",
   "metadata": {},
   "source": [
    "#### Things we now know about our input skymap:\n",
    "- All tracts start listing their vertices at the **bottom left** corner\n",
    "- Almost all tracts list their vertices in **counter-clockwise** order--except the poles, who nominally use clockwise order, but...\n",
    "- Almost all tracts have only 2 unique RA values; however:\n",
    "  - 32 tracts have 3 unique RA values\n",
    "  - 2 tracts have only 1 unique RA value (these are likely the poles)"
   ]
  },
  {
   "cell_type": "markdown",
   "id": "f27b82b9",
   "metadata": {},
   "source": [
    "So, we will follow the same convention for how we list our RA values in our ring-optimized poly coord files:\n",
    "- Always start with the RA of the **bottom left** corner\n",
    "- In most cases: list the 2 unique RA values (following the bottom-left rule, this will be the left-most RA, then the right-most)\n",
    "- When we have 3 unique RA values, simply list all 4 RA values that are present, in **counter-clockwise** order\n",
    "- *The poles will be weird. Still not sure the best way to encode them.*"
   ]
  },
  {
   "cell_type": "markdown",
   "id": "8c7d7ac7",
   "metadata": {},
   "source": [
    "### Check assumption: are all RAs at equal intervals within a ring?"
   ]
  },
  {
   "cell_type": "code",
   "execution_count": 75,
   "id": "f968db37",
   "metadata": {},
   "outputs": [],
   "source": [
    "import math\n",
    "from collections import defaultdict\n",
    "\n",
    "lsst_ring_nums = lsst_skymap._ringNums\n",
    "\n",
    "def get_ring_num(tract_id, ring_nums):\n",
    "    # Given an int tract_id and 1D array of ring numbers, such that ring_nums[3] = 4 means there \n",
    "    # are 4 tracts in ring 3, return the ring number for the tract.\n",
    "    # Note that tract_id 0 is the pole, and has ring -1. Ring 0 starts at tract_id 1.\n",
    "\n",
    "    # Invalid tract_id check.\n",
    "    if tract_id < 0 or tract_id > sum(ring_nums) + 1:\n",
    "        raise ValueError(f\"Invalid tract_id {tract_id} for ring_nums with length {len(ring_nums)} \"\n",
    "                         f\"and sum {sum(ring_nums)}\")\n",
    "\n",
    "    # Add the poles (but note, we'll have to subtract 1 later to get the correct ring number).\n",
    "    ring_nums = [1] + ring_nums  # Add the south pole as ring -1 with 1 tract.\n",
    "    ring_nums.append(1)  # Add the north pole as last ring.\n",
    "\n",
    "    # Find the ring number by subtracting the number of tracts in each ring.\n",
    "    ring_num = 0\n",
    "    for num in ring_nums:\n",
    "        if tract_id < num:\n",
    "            return ring_num - 1  # Subtract 1 to account for the added south pole.\n",
    "        tract_id -= num\n",
    "        ring_num += 1\n",
    "\n",
    "    return -1  # Should not happen if tract_id is valid\n",
    "\n",
    "\n",
    "def get_ra_interval(tract_id, ring_num, entry):\n",
    "    \"\"\"Get the RA interval of a polygon, handling unwrapped RAs.\"\"\"\n",
    "\n",
    "    # Get the polygon for the tract. - does this handle poles? i think so.\n",
    "    polygon = entry.get(\"polygon\")\n",
    "    if polygon is None:\n",
    "        return -1.0\n",
    "\n",
    "    # Figure out the ring number for this tract.\n",
    "    ring_num = get_ring_num(tract_id, lsst_ring_nums)\n",
    "\n",
    "    # Get the RAs.\n",
    "    ras = [round(point[0], 10) for point in polygon]\n",
    "    unwrapped_ras = unwrap_ra_sequence(ras)\n",
    "    unique_ras = set(unwrapped_ras)\n",
    "\n",
    "    # Edge cases and errors.\n",
    "    if len(unique_ras) < 2:\n",
    "        return -1.0\n",
    "    elif len(unique_ras) > 2:\n",
    "        raise ValueError(f\"Polygon has {len(unique_ras)} unique RA values: {unique_ras}\")\n",
    "    \n",
    "    # Return the interval between the two unique RAs.\n",
    "    sorted_ras = sorted(unique_ras)\n",
    "    return (sorted_ras[1] - sorted_ras[0])\n"
   ]
  },
  {
   "cell_type": "code",
   "execution_count": 76,
   "id": "46b6e759",
   "metadata": {},
   "outputs": [
    {
     "name": "stdout",
     "output_type": "stream",
     "text": [
      "Ring 0: RA interval = 36.000000 degrees\n",
      "Ring 10: RA interval = 5.000000 degrees\n",
      "Ring 20: RA interval = 2.790698 degrees\n",
      "Ring 30: RA interval = 2.033898 degrees\n",
      "Ring 40: RA interval = 1.682243 degrees\n",
      "Ring 50: RA interval = 1.525424 degrees\n",
      "Ring 60: RA interval = 1.481481 degrees\n",
      "Ring 70: RA interval = 1.538462 degrees\n",
      "Ring 80: RA interval = 1.706161 degrees\n",
      "Ring 90: RA interval = 2.080925 degrees\n",
      "Ring 100: RA interval = 2.926829 degrees\n",
      "Ring 110: RA interval = 5.454545 degrees\n",
      "Ring 120: RA interval = -1.000000 degrees\n",
      "Total rings: 122; unique intervals: 58\n"
     ]
    }
   ],
   "source": [
    "intervals = {}\n",
    "for tract_id_str, entry in data[\"tracts\"].items():\n",
    "    # Calculate the ring number and RA interval for each tract.\n",
    "    ring_num = get_ring_num(int(tract_id_str), lsst_ring_nums)\n",
    "    new_interval = get_ra_interval(int(tract_id_str), ring_num, entry)\n",
    "\n",
    "    # Record the interval for this ring number.\n",
    "    if intervals.get(ring_num) is None:\n",
    "        intervals[ring_num] = new_interval\n",
    "    else:\n",
    "        # Check if the new interval matches the existing one for this ring.\n",
    "        if not math.isclose(new_interval, intervals[ring_num], abs_tol=1e-8):\n",
    "            raise ValueError(f\"Interval for tract {tract_id_str} in ring {ring_num} \"\n",
    "                             f\"differs from previous: {new_interval} vs {intervals[ring_num]}\")\n",
    "\n",
    "# Print the intervals for each ring\n",
    "for ring_num, interval in sorted(intervals.items()):\n",
    "    if ring_num % 10 == 0:\n",
    "        print(f\"Ring {ring_num}: RA interval = {interval:.6f} degrees\")\n",
    "print(f\"Total rings: {len(intervals)}; unique intervals: {len(set(intervals.values()))}\")"
   ]
  },
  {
   "cell_type": "markdown",
   "id": "9bec80c6",
   "metadata": {},
   "source": [
    "### Check: Is RA start the same for all rings?\n",
    "If these two things are true, we can optimize the ra storage :)"
   ]
  },
  {
   "cell_type": "code",
   "execution_count": 77,
   "id": "3717a77a",
   "metadata": {},
   "outputs": [
    {
     "data": {
      "text/plain": [
       "0.0"
      ]
     },
     "execution_count": 77,
     "metadata": {},
     "output_type": "execute_result"
    }
   ],
   "source": [
    "lsst_skymap.config.raStart"
   ]
  },
  {
   "cell_type": "markdown",
   "id": "d2010a0b",
   "metadata": {},
   "source": [
    "Seems to imply this is skymap-wide. Nice! We can procede with RA-optimization, too."
   ]
  },
  {
   "cell_type": "markdown",
   "id": "6fa51939",
   "metadata": {},
   "source": [
    "## Rewrite code from Option 1 to be ring-aware"
   ]
  },
  {
   "cell_type": "code",
   "execution_count": 78,
   "id": "af99fc9f",
   "metadata": {},
   "outputs": [],
   "source": [
    "# def write_ring_optimized_polygons_ra_dec(skymap, output_path, inner=True):\n",
    "#     \"\"\"Write tract polygons in RA/Dec format to a YAML file, grouped by ring and optimized\n",
    "#     by storing declination bounds per ring and RA values per tract. Polar caps are stored separately.\n",
    "\n",
    "#     Parameters\n",
    "#     ----------\n",
    "#     skymap : lsst.skymap.SkyMap\n",
    "#         The LSST SkyMap object.\n",
    "#     output_path : str or Path\n",
    "#         Destination path for the output YAML file.\n",
    "#     inner : bool, optional\n",
    "#         If True, write inner polygons. If False, write outer polygons. Default is True.\n",
    "#     \"\"\"\n",
    "#     import lsst.geom as geom\n",
    "#     from lsst.sphgeom import Box\n",
    "#     from skymap_to_poly_coords.geometry import unit_vector3d_to_radec, box_to_convex_polygon\n",
    "#     import yaml\n",
    "\n",
    "#     out = {\"poles\": [], \"rings\": []}\n",
    "#     total_tracts = len(skymap)\n",
    "#     ring_counts = skymap._ringNums\n",
    "#     ring_start_index = 0\n",
    "\n",
    "#     for tract_id in [0, total_tracts - 1]:\n",
    "#         tract = skymap[tract_id]\n",
    "#         poly = tract.inner_sky_region if inner else tract.outer_sky_polygon\n",
    "#         if isinstance(poly, Box):\n",
    "#             poly = box_to_convex_polygon(poly)\n",
    "\n",
    "#         radec_poly = [unit_vector3d_to_radec(vec) for vec in poly.getVertices()]\n",
    "#         ra_list = [round(pt[0] % 360.0, 12) for pt in radec_poly]\n",
    "\n",
    "#         # Start from bottom-left corner RA\n",
    "#         bottom_left_ra = round(radec_poly[0][0] % 360.0, 12)\n",
    "#         tract_entry = {\"id\": tract_id, \"ra\": [bottom_left_ra], \"type\": \"pole\"}\n",
    "\n",
    "#         out[\"poles\"].append(tract_entry)\n",
    "\n",
    "#     for ring_id, n_tracts in enumerate(ring_counts):\n",
    "#         ring_entry = {\"dec_bounds\": None, \"tracts\": []}\n",
    "\n",
    "#         for i in range(ring_start_index, ring_start_index + n_tracts):\n",
    "#             tract = skymap[i]\n",
    "#             tract_id = tract.getId()\n",
    "\n",
    "#             poly = tract.inner_sky_region if inner else tract.outer_sky_polygon\n",
    "#             if isinstance(poly, Box):\n",
    "#                 poly = box_to_convex_polygon(poly)\n",
    "\n",
    "#             radec_poly = [unit_vector3d_to_radec(vec) for vec in poly.getVertices()]\n",
    "#             ra_list = [pt[0] for pt in radec_poly]\n",
    "#             dec_list = [pt[1] for pt in radec_poly]\n",
    "\n",
    "#             unique_decs = sorted({round(d, 12) for d in dec_list})\n",
    "#             if len(unique_decs) > 2:\n",
    "#                 raise ValueError(f\"⚠️ Tract {tract_id} has >2 unique Decs: {unique_decs}\")\n",
    "\n",
    "#             if ring_entry[\"dec_bounds\"] is None:\n",
    "#                 ring_entry[\"dec_bounds\"] = [min(unique_decs), max(unique_decs)]\n",
    "\n",
    "#             rounded_ras = [round(ra % 360.0, 12) for ra in ra_list]\n",
    "#             unique_ras = sorted(set(rounded_ras))\n",
    "\n",
    "#             bottom_left_ra = round(radec_poly[0][0] % 360.0, 12)\n",
    "\n",
    "#             if len(unique_ras) == 1:\n",
    "#                 tract_entry = {\"id\": tract_id, \"ra\": [bottom_left_ra], \"type\": \"pole\"}\n",
    "#             elif len(unique_ras) == 2:\n",
    "#                 tract_entry = {\"id\": tract_id, \"ra\": unique_ras}\n",
    "#             elif len(unique_ras) in (3, 4):\n",
    "#                 # todo : in the future, could be nice to re-verify that these are already in CCW order\n",
    "#                 start_idx = rounded_ras.index(bottom_left_ra)\n",
    "#                 ccw_ras = [rounded_ras[(start_idx + j) % 4] for j in range(4)]\n",
    "#                 tract_entry = {\"id\": tract_id, \"ra\": ccw_ras}\n",
    "#             else:\n",
    "#                 raise ValueError(f\"Tract {tract_id} has unexpected number of unique RAs: {unique_ras}\")\n",
    "\n",
    "#             ring_entry[\"tracts\"].append(tract_entry)\n",
    "\n",
    "#         out[\"rings\"].append(ring_entry)\n",
    "#         ring_start_index += n_tracts\n",
    "\n",
    "#     with open(output_path, \"w\") as f:\n",
    "#         yaml.dump(out, f, sort_keys=False)\n",
    "\n",
    "#     print(f\"✅ Ring-optimized polygons written to {output_path}\")\n"
   ]
  },
  {
   "cell_type": "code",
   "execution_count": 156,
   "id": "52753095",
   "metadata": {},
   "outputs": [],
   "source": [
    "def check_dec_bounds(expected_lower, expected_upper, tract_id, inner, skymap):\n",
    "    tract_info = skymap[tract_id]\n",
    "    tract_poly = tract_info.inner_sky_region if inner else tract_info.outer_sky_polygon\n",
    "\n",
    "    # Inner polygon.\n",
    "    if isinstance(tract_poly, Box): \n",
    "        tract_lower = tract_poly.getLat().getA().asDegrees()\n",
    "        tract_upper = tract_poly.getLat().getB().asDegrees()\n",
    "        # Flip if needed.\n",
    "        if tract_lower > tract_upper:\n",
    "            tract_lower, tract_upper = tract_upper, tract_lower\n",
    "\n",
    "    # Outer polygon.\n",
    "    else: \n",
    "        print(f\"  Tract {tract_id} is a ConvexPolygon - this section is not implemented yet.\")\n",
    "\n",
    "    # Compare with expected bounds.\n",
    "    if not (math.isclose(tract_lower, expected_lower, abs_tol=1e-6) and\n",
    "            math.isclose(tract_upper, expected_upper, abs_tol=1e-6)):\n",
    "        raise ValueError(f\"    Tract {tract_id} bounds ({tract_lower:2f}, {tract_upper:2f}); \"\n",
    "                         f\"Ring bounds ({expected_lower:2f}, {expected_upper:2f})\")"
   ]
  },
  {
   "cell_type": "code",
   "execution_count": 157,
   "id": "1a74fbcb",
   "metadata": {},
   "outputs": [],
   "source": [
    "def check_ra_interval(expected_interval, tract_id, inner, skymap):\n",
    "    # todo rename lower, upper to left, right\n",
    "    tract_info = skymap[tract_id]\n",
    "    tract_poly = tract_info.inner_sky_region if inner else tract_info.outer_sky_polygon\n",
    "\n",
    "    # Inner polygon.\n",
    "    if isinstance(tract_poly, Box): \n",
    "        tract_left = tract_poly.getLon().getA().asDegrees()\n",
    "        tract_right = tract_poly.getLon().getB().asDegrees()\n",
    "        # Handle RA wrap-around.\n",
    "        if abs(tract_left - tract_right) > 180:\n",
    "            if tract_left > tract_right:\n",
    "                # Wrap around case, e.g., lower = 350, upper = 10\n",
    "                tract_right += 360\n",
    "            else:\n",
    "                # Normal case, e.g., lower = 10, upper = 350\n",
    "                tract_left += 360\n",
    "\n",
    "        # Calculate RA interval.\n",
    "        tract_interval = abs(tract_right - tract_left)\n",
    "\n",
    "    # Outer polygon.\n",
    "    else: \n",
    "        print(f\"  Tract {tract_id} is a ConvexPolygon - this section is not implemented yet.\")\n",
    "\n",
    "    # Compare with expected interval.\n",
    "    if not math.isclose(tract_interval, expected_interval, abs_tol=1e-6):\n",
    "        raise ValueError(f\"    Tract {tract_id} interval {tract_interval:2f}; \"\n",
    "                         f\"Expected interval {expected_interval:2f}\")"
   ]
  },
  {
   "cell_type": "code",
   "execution_count": 128,
   "id": "bf424f3d",
   "metadata": {},
   "outputs": [],
   "source": [
    "def radians_to_degrees(radians):\n",
    "    \"\"\"Convert radians to degrees.\"\"\"\n",
    "    return radians * (180.0 / math.pi)"
   ]
  },
  {
   "cell_type": "code",
   "execution_count": 168,
   "id": "d1dc3c1c",
   "metadata": {},
   "outputs": [],
   "source": [
    "def write_ring_optimized_polygons_ra_dec(skymap, output_path, inner=True, skymap_name=None):\n",
    "    # Psuedo-code for writing ring-optimized polygons in RA/Dec format to a YAML file.\n",
    "    from skymap_to_poly_coords.geometry import unit_vector3d_to_radec, box_to_convex_polygon\n",
    "\n",
    "    ring_nums = skymap._ringNums\n",
    "    ring_size = math.pi / (len(ring_nums) + 1)\n",
    "    \n",
    "    # Initialize the output structure.\n",
    "    out = {\"metadata\": {}, \"poles\": [], \"rings\": []}\n",
    "\n",
    "    # Add the metadata.\n",
    "    out[\"metadata\"][\"skymap_name\"] = skymap_name\n",
    "    out[\"metadata\"][\"inner_polygons\"] = inner\n",
    "    out[\"metadata\"][\"ra_start\"] = skymap.config.raStart\n",
    "\n",
    "    # Handle the poles first.\n",
    "\n",
    "\n",
    "    # Add the rings.\n",
    "    tract_counter = 1  # Start with 1 since 0 is the south pole.\n",
    "    for ring, num_tracts in enumerate(ring_nums):\n",
    "        print(f\"Processing ring {ring} with {num_tracts} tracts...\")\n",
    "\n",
    "        # Get the declination bounds for the ring.\n",
    "        dec = ring_size * (ring + 1) - 0.5 * math.pi\n",
    "        start_dec = radians_to_degrees(dec - 0.5 * ring_size)\n",
    "        stop_dec = radians_to_degrees(dec + 0.5 * ring_size)\n",
    "\n",
    "        # Optional: check the calculated declination with the tracts in the ring.\n",
    "        for tract_id in range(tract_counter, tract_counter + num_tracts):\n",
    "            check_dec_bounds(start_dec, stop_dec, tract_id, inner, skymap)\n",
    "            \n",
    "        # Get the RA interval for the ring. \n",
    "        ra_interval = 360.0 / num_tracts  # degrees\n",
    "\n",
    "        # Optional: check the RA interval.\n",
    "        for tract_id in range(tract_counter, tract_counter + num_tracts):\n",
    "            check_ra_interval(ra_interval, tract_id, inner, skymap)\n",
    "\n",
    "        # Initialize the ring entry.\n",
    "        ring_entry = {\n",
    "            \"ring\": ring,\n",
    "            \"num_tracts\": num_tracts,\n",
    "            \"dec_bounds\": [round(start_dec, 10), round(stop_dec, 10)],\n",
    "            \"ra_interval\": round(ra_interval, 10),\n",
    "        }\n",
    "\n",
    "        # Iterate the tract counter.\n",
    "        tract_counter += num_tracts\n",
    "\n",
    "        # Temporary: just break after 10 rings for testing.\n",
    "        if ring >= 10:\n",
    "            break\n",
    "\n",
    "    # Record the output.\n",
    "    # with open(output_path, \"w\") as f:\n",
    "    #     yaml.dump(out, f, sort_keys=False)\n",
    "    print(out)"
   ]
  },
  {
   "cell_type": "code",
   "execution_count": 170,
   "id": "fce608ba",
   "metadata": {},
   "outputs": [
    {
     "name": "stdout",
     "output_type": "stream",
     "text": [
      "Processing ring 0 with 10 tracts...\n",
      "Processing ring 1 with 16 tracts...\n",
      "Processing ring 2 with 22 tracts...\n",
      "Processing ring 3 with 29 tracts...\n",
      "Processing ring 4 with 35 tracts...\n",
      "Processing ring 5 with 41 tracts...\n",
      "Processing ring 6 with 47 tracts...\n",
      "Processing ring 7 with 53 tracts...\n",
      "Processing ring 8 with 60 tracts...\n",
      "Processing ring 9 with 66 tracts...\n",
      "Processing ring 10 with 72 tracts...\n",
      "{'metadata': {'skymap_name': 'lsst_v1', 'inner_polygons': True, 'ra_start': 0.0}, 'poles': [], 'rings': []}\n"
     ]
    }
   ],
   "source": [
    "write_ring_optimized_polygons_ra_dec(\n",
    "    lsst_skymap, \n",
    "    inner_poly_ring_optimized_path, \n",
    "    inner=True, \n",
    "    skymap_name=\"lsst_v1\"\n",
    ")"
   ]
  },
  {
   "cell_type": "markdown",
   "id": "3e90b4d2",
   "metadata": {},
   "source": [
    "### Read back in"
   ]
  },
  {
   "cell_type": "code",
   "execution_count": null,
   "id": "4969d9d5",
   "metadata": {},
   "outputs": [],
   "source": [
    "import yaml\n",
    "from pathlib import Path\n",
    "\n",
    "class RingOptimizedPolygonReader:\n",
    "    \"\"\"Reader for ring-optimized RA/Dec polygon files.\"\"\"\n",
    "\n",
    "    def __init__(self, yaml_path):\n",
    "        \"\"\"\n",
    "        Initialize the reader and build ring structure metadata.\n",
    "\n",
    "        Parameters\n",
    "        ----------\n",
    "        yaml_path : str or Path\n",
    "            Path to the YAML file storing the ring-optimized polygons.\n",
    "        \"\"\"\n",
    "        self.yaml_path = Path(yaml_path)\n",
    "        self._ring_sizes = []  # Number of tracts in each ring\n",
    "        self._pole_tracts = []  # Typically [0, N]\n",
    "        self._load_metadata()\n",
    "\n",
    "    def _load_metadata(self):\n",
    "        \"\"\"Load basic metadata like ring sizes and pole IDs.\"\"\"\n",
    "        with open(self.yaml_path, \"r\") as f:\n",
    "            self._data = yaml.safe_load(f)\n",
    "\n",
    "        # Store ring sizes\n",
    "        self._ring_sizes = [len(ring[\"tracts\"]) for ring in self._data.get(\"rings\", [])]\n",
    "\n",
    "        # Store pole tracts\n",
    "        self._pole_tracts = [t[\"id\"] for t in self._data.get(\"poles\", [])]\n",
    "\n",
    "    def _get_ring_and_local_idx(self, tract_id):\n",
    "        \"\"\"Given a tract ID, return (ring_idx, local_idx) or None if it's a pole.\"\"\"\n",
    "        if tract_id in self._pole_tracts:\n",
    "            return None, None\n",
    "\n",
    "        offset = 0\n",
    "        for ring_idx, size in enumerate(self._ring_sizes):\n",
    "            if offset <= tract_id < offset + size:\n",
    "                local_idx = tract_id - offset\n",
    "                return ring_idx, local_idx\n",
    "            offset += size\n",
    "\n",
    "        raise ValueError(f\"Tract ID {tract_id} not found in ring structure.\")\n",
    "\n",
    "    def get_polygon_vertices(self, tract_id):\n",
    "        \"\"\"\n",
    "        Lazily load the polygon vertices for a given tract.\n",
    "\n",
    "        Parameters\n",
    "        ----------\n",
    "        tract_id : int\n",
    "            The tract ID to load.\n",
    "\n",
    "        Returns\n",
    "        -------\n",
    "        list of [float, float]\n",
    "            List of (RA, Dec) vertices in degrees.\n",
    "        \"\"\"\n",
    "        with open(self.yaml_path, \"r\") as f:\n",
    "            data = yaml.safe_load(f)\n",
    "\n",
    "        if tract_id in self._pole_tracts:\n",
    "            for pole in data[\"poles\"]:\n",
    "                if pole[\"id\"] == tract_id:\n",
    "                    dec = pole[\"dec\"]\n",
    "                    ra_list = pole[\"ra\"]\n",
    "                    return [[ra, dec] for ra in ra_list]\n",
    "            raise ValueError(f\"Pole tract {tract_id} not found.\")\n",
    "\n",
    "        ring_idx, local_idx = self._get_ring_and_local_idx(tract_id)\n",
    "        ring = data[\"rings\"][ring_idx]\n",
    "        tract = ring[\"tracts\"][local_idx]\n",
    "\n",
    "        dec_min, dec_max = ring[\"dec_bounds\"]\n",
    "        ra_list = tract[\"ra\"]\n",
    "\n",
    "        # Infer vertex layout — always CCW, starting from bottom left\n",
    "        if len(ra_list) == 1:\n",
    "            return [[ra_list[0], dec_min],\n",
    "                    [ra_list[0], dec_max]]\n",
    "        elif len(ra_list) == 2:\n",
    "            return [[ra_list[0], dec_min],\n",
    "                    [ra_list[1], dec_min],\n",
    "                    [ra_list[1], dec_max],\n",
    "                    [ra_list[0], dec_max]]\n",
    "        elif len(ra_list) == 4:\n",
    "            return [[ra_list[0], dec_min],\n",
    "                    [ra_list[1], dec_min],\n",
    "                    [ra_list[2], dec_max],\n",
    "                    [ra_list[3], dec_max]]\n",
    "        else:\n",
    "            raise ValueError(f\"Unexpected number of RAs for tract {tract_id}: {ra_list}\")\n",
    "\n"
   ]
  },
  {
   "cell_type": "code",
   "execution_count": null,
   "id": "139e4abb",
   "metadata": {},
   "outputs": [],
   "source": [
    "poly_reader = RingOptimizedPolygonReader(inner_poly_ring_optimized_path)"
   ]
  },
  {
   "cell_type": "code",
   "execution_count": null,
   "id": "72ddf75c",
   "metadata": {},
   "outputs": [],
   "source": [
    "poly_reader.get_polygon_vertices(42)"
   ]
  },
  {
   "cell_type": "code",
   "execution_count": null,
   "id": "12dd9bcc",
   "metadata": {},
   "outputs": [],
   "source": [
    "# todo : handle poly_reader.get_polygon_vertices(0)"
   ]
  }
 ],
 "metadata": {
  "kernelspec": {
   "display_name": "Python 3 (ipykernel)",
   "language": "python",
   "name": "python3"
  }
 },
 "nbformat": 4,
 "nbformat_minor": 5
}
