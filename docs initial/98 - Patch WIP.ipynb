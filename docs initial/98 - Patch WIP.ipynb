{
 "cells": [
  {
   "cell_type": "markdown",
   "id": "06012870",
   "metadata": {},
   "source": [
    "# Storing skymaps"
   ]
  },
  {
   "cell_type": "markdown",
   "id": "c38f9b28",
   "metadata": {},
   "source": [
    "## Read raw skymap files"
   ]
  },
  {
   "cell_type": "code",
   "execution_count": 1,
   "id": "b046e4b1",
   "metadata": {},
   "outputs": [],
   "source": [
    "import pickle\n",
    "from pathlib import Path\n",
    "import math\n",
    "import numpy as np\n",
    "from lsst.sphgeom import Box, ConvexPolygon, LonLat, UnitVector3d\n",
    "import yaml"
   ]
  },
  {
   "cell_type": "code",
   "execution_count": 2,
   "id": "3c3fbfcf",
   "metadata": {},
   "outputs": [
    {
     "data": {
      "text/plain": [
       "<lsst.skymap.ringsSkyMap.RingsSkyMap at 0x7f6bec609e80>"
      ]
     },
     "execution_count": 2,
     "metadata": {},
     "output_type": "execute_result"
    }
   ],
   "source": [
    "home_dir = \"/sdf/home/o/olynn/\"\n",
    "raw_skymaps_dir = Path(home_dir, \"skymap-to-poly-coords\", \"tests\", \"data\", \"raw-skymaps\")\n",
    "\n",
    "skymap_path = raw_skymaps_dir / \"skyMap_lsst_cells_v1_skymaps.pickle\"\n",
    "with open(skymap_path, \"rb\") as f:\n",
    "    lsst_skymap = pickle.load(f)\n",
    "lsst_skymap"
   ]
  },
  {
   "cell_type": "markdown",
   "id": "8bc7b680",
   "metadata": {},
   "source": [
    "## Utility function for later"
   ]
  },
  {
   "cell_type": "code",
   "execution_count": 3,
   "id": "989c4688",
   "metadata": {},
   "outputs": [],
   "source": [
    "def box_to_convex_polygon(box: Box) -> ConvexPolygon:\n",
    "    if box.isEmpty():\n",
    "        raise ValueError(\"Cannot convert an empty Box to a ConvexPolygon.\")\n",
    "\n",
    "    # Get the corners of the box\n",
    "    lon_a, lon_b = box.getLon().getA().asRadians(), box.getLon().getB().asRadians()\n",
    "    lon_min = min(lon_a, lon_b)\n",
    "    lon_max = max(lon_a, lon_b)\n",
    "    lat_a, lat_b = box.getLat().getA().asRadians(), box.getLat().getB().asRadians()\n",
    "    lat_min = min(lat_a, lat_b)\n",
    "    lat_max = max(lat_a, lat_b)\n",
    "    # todo : this may be an improper assumption, considering RA wrap around!!\n",
    "\n",
    "    bottom_left = LonLat.fromRadians(lon_min, lat_min)\n",
    "    bottom_right = LonLat.fromRadians(lon_max, lat_min)\n",
    "    top_right = LonLat.fromRadians(lon_max, lat_max)\n",
    "    top_left = LonLat.fromRadians(lon_min, lat_max)\n",
    "\n",
    "    # Convert corners to UnitVector3d\n",
    "    vertices = [\n",
    "        UnitVector3d(bottom_left),\n",
    "        UnitVector3d(bottom_right),\n",
    "        UnitVector3d(top_right),\n",
    "        UnitVector3d(top_left),\n",
    "    ]\n",
    "\n",
    "    # Create and return the ConvexPolygon\n",
    "    return ConvexPolygon(vertices)\n"
   ]
  },
  {
   "cell_type": "markdown",
   "id": "3ce11262",
   "metadata": {},
   "source": [
    "## A note on rings sky map pixelization \n",
    "*(in html comment in this cell)*\n",
    "<!---## Rings sky map pixelization\n",
    "*From the RingsSkyMap docstring in lsst.skymap:*\n",
    "\n",
    "We divide the sphere into N rings of Declination, plus the two polar\n",
    "caps, which sets the size of the individual tracts.  The rings are\n",
    "divided in RA into an integral number of tracts of this size; this\n",
    "division is made at the Declination closest to zero so as to ensure\n",
    "full overlap.\n",
    "\n",
    "Rings are numbered in the rings from south to north. The south pole cap is\n",
    "``tract=0``, then the tract at ``raStart`` in the southernmost ring is\n",
    "``tract=1``. Numbering continues (in the positive RA direction) around that\n",
    "ring and then continues in the same fashion with the next ring north, and\n",
    "so on until all reaching the north pole cap, which is\n",
    "``tract=len(skymap) - 1``.\n",
    "\n",
    "However, ``version=0`` had a bug in the numbering of the tracts: the first\n",
    "and last tracts in the first (southernmost) ring were identical, and the\n",
    "first tract in the last (northernmost) ring was missing. When using\n",
    "``version=0``, these tracts remain missing in order to preserve the\n",
    "numbering scheme.--->"
   ]
  },
  {
   "cell_type": "markdown",
   "id": "1484abc1",
   "metadata": {},
   "source": [
    "## Storage options\n"
   ]
  },
  {
   "cell_type": "markdown",
   "id": "22b853ab",
   "metadata": {},
   "source": [
    "We would like to support both inner and outer polygons for the tracts.  \n",
    "\n",
    "Tracts are arranged in \"rings\", which span horizontal regions of the sky.\n",
    "\n",
    "🔹 Inner polys:\n",
    "- represent the exact boundaries of a given tract\n",
    "- do not overlap\n",
    "\n",
    "🔹 Outer polys:\n",
    "- may (will?) overlap with adjacent tracts' outer polys\n",
    "- are akin to margins in HATS catalogs"
   ]
  },
  {
   "cell_type": "markdown",
   "id": "bd4bddbd",
   "metadata": {},
   "source": [
    "## Option 1: Two YAML files (inner polys and outer polys) that store each tracts' corners"
   ]
  },
  {
   "cell_type": "markdown",
   "id": "4115a76a",
   "metadata": {},
   "source": [
    "#### Inner polys:\n",
    "- Store per-tract: `ra_min`, `ra_max`, `dec_min`, `dec_max`\n",
    "- Comes directly from `getRaDecRange(tract_index)`\n",
    "- Requires 4 floats per tract, so for ~19k tracts:\n",
    "  4 × 8 B × 19,000 ≈ ~600 KB (before YAML overhead; ~1–1.5 MB total)\n",
    "- However, could compress to a `.npz` of around ~0.5–0.8 MB\n",
    "\n",
    "#### Outer polys:\n",
    "- todo\n",
    "\n",
    "#### ✅ Pros\n",
    "- Easy to understand and verify\n",
    "- Doesn’t require any LSST WCS machinery\n",
    "- Reading is fast + LSST-free\n",
    "\n",
    "#### ❌ Cons\n",
    "- Slightly more disk usage than an ultra-compressed model\n",
    "- Less precise because of floating points?"
   ]
  },
  {
   "cell_type": "markdown",
   "id": "4f9c2aa5",
   "metadata": {},
   "source": [
    "### Write inner_poly and outer_poly files"
   ]
  },
  {
   "cell_type": "code",
   "execution_count": 9,
   "id": "a6ea5cfd",
   "metadata": {},
   "outputs": [],
   "source": [
    "# ##\n",
    "# import lsst.geom as geom\n",
    "\n",
    "# for tract_info in lsst_skymap:\n",
    "#     print(\"\\ntract_info\" )\n",
    "#     print(tract_info)\n",
    "#     patch_vertices = [\n",
    "#         [tract_info.getWcs().pixelToSky(geom.Point2D(corner)) for corner in patch.getOuterBBox().getCorners()]\n",
    "#             for patch in tract_info\n",
    "#         ]\n",
    "#     for item in patch_vertices:\n",
    "#         print(\"patch vertices:\")\n",
    "#         for vertex in item:\n",
    "#             print(f\"  {vertex}\")\n",
    "#     break\n"
   ]
  },
  {
   "cell_type": "code",
   "execution_count": 5,
   "id": "fdc287cf",
   "metadata": {},
   "outputs": [],
   "source": [
    "# import yaml\n",
    "# from lsst.sphgeom import UnitVector3d\n",
    "\n",
    "# def write_polygons(skymap, output_path, inner=True):\n",
    "#     \"\"\"Write exact inner polygons for each tract using 3D unit vectors.\n",
    "\n",
    "#     Parameters\n",
    "#     ----------\n",
    "#     skymap : RingsSkyMap\n",
    "#         The LSST SkyMap object.\n",
    "#     output_path : str\n",
    "#         Path to output YAML file.\n",
    "#     inner : bool\n",
    "#         If True, write inner polygons; if False, write outer polygons.\n",
    "#         Default is True.\n",
    "#     \"\"\"\n",
    "#     out = {\"tracts\": {}}\n",
    "\n",
    "#     for tract in skymap:\n",
    "#         tract_id = tract.getId()\n",
    "#         if inner:\n",
    "#             poly = tract.inner_sky_region\n",
    "#             if isinstance(poly, Box):\n",
    "#                 poly = box_to_convex_polygon(poly)\n",
    "#         else:\n",
    "#             poly = tract.outer_sky_polygon\n",
    "\n",
    "#         out[\"tracts\"][tract_id] = [\n",
    "#             [v[0], v[1], v[2]] for v in poly.getVertices()\n",
    "#         ]\n",
    "\n",
    "#     with open(output_path, \"w\") as f:\n",
    "#         yaml.dump(out, f, sort_keys=False)\n",
    "\n",
    "#     polygon_type = \"Inner\" if inner else \"Outer\"\n",
    "#     print(f\"✅ {polygon_type} polygons written to {output_path}\")\n"
   ]
  },
  {
   "cell_type": "code",
   "execution_count": 12,
   "id": "78c065a2",
   "metadata": {},
   "outputs": [],
   "source": [
    "import yaml\n",
    "import lsst.geom as geom\n",
    "from lsst.sphgeom import LonLat, Box\n",
    "\n",
    "def write_polygons_ra_dec(skymap, output_path, inner=True, write_patches=False):\n",
    "    \"\"\"Write exact inner or outer polygons for each tract using RA/Dec coordinates.\n",
    "\n",
    "    Optionally includes patch boundaries as well.\n",
    "\n",
    "    Parameters\n",
    "    ----------\n",
    "    skymap : RingsSkyMap\n",
    "        The LSST SkyMap object.\n",
    "    output_path : str\n",
    "        Path to output YAML file.\n",
    "    inner : bool\n",
    "        If True, write inner polygons; if False, write outer polygons.\n",
    "    write_patches : bool, optional\n",
    "        If True, also include patch polygon vertices. Default is False.\n",
    "    \"\"\"\n",
    "    out = {\"tracts\": {}}\n",
    "\n",
    "    for tract in skymap:\n",
    "        tract_id = tract.getId()\n",
    "        if inner:\n",
    "            poly = tract.inner_sky_region\n",
    "            if isinstance(poly, Box):\n",
    "                poly = box_to_convex_polygon(poly)\n",
    "        else:\n",
    "            poly = tract.outer_sky_polygon\n",
    "\n",
    "        # Tract polygon in RA/Dec\n",
    "        ra_dec_vertices = []\n",
    "        for vec in poly.getVertices():\n",
    "            lonlat = LonLat(vec)\n",
    "            ra = lonlat.getLon().asDegrees() % 360.0\n",
    "            dec = lonlat.getLat().asDegrees()\n",
    "            ra_dec_vertices.append([ra, dec])\n",
    "\n",
    "        out[\"tracts\"][tract_id] = {\"polygon\": ra_dec_vertices}\n",
    "\n",
    "        # Optional: include patch polygons\n",
    "        if write_patches:\n",
    "            patch_polys = []\n",
    "            for patch in tract:\n",
    "                corners = patch.getOuterBBox().getCorners()\n",
    "                wcs = tract.getWcs()\n",
    "                patch_ra_dec = []\n",
    "                for corner in corners:\n",
    "                    sky_pt = wcs.pixelToSky(geom.Point2D(corner))\n",
    "                    ra = sky_pt.getLongitude().asDegrees() % 360.0\n",
    "                    dec = sky_pt.getLatitude().asDegrees()\n",
    "                    patch_ra_dec.append([ra, dec])\n",
    "                patch_polys.append(patch_ra_dec)\n",
    "\n",
    "            out[\"tracts\"][tract_id][\"patches\"] = patch_polys\n",
    "\n",
    "    with open(output_path, \"w\") as f:\n",
    "        yaml.dump(out, f, sort_keys=False)\n",
    "\n",
    "    print(f\"✅ {'Inner' if inner else 'Outer'} polygons written to {output_path} (RA/Dec format)\")\n",
    "    if write_patches:\n",
    "        print(\"🧩 Patch polygons included.\")\n"
   ]
  },
  {
   "cell_type": "code",
   "execution_count": 13,
   "id": "e233941c",
   "metadata": {},
   "outputs": [
    {
     "name": "stdout",
     "output_type": "stream",
     "text": [
      "✅ Inner polygons written to /sdf/home/o/olynn/skymap-to-poly-coords/skymaps_out/inner_polys_with_patches.yaml (RA/Dec format)\n",
      "🧩 Patch polygons included.\n",
      "✅ Outer polygons written to /sdf/home/o/olynn/skymap-to-poly-coords/skymaps_out/outer_polys_with_patches.yaml (RA/Dec format)\n",
      "🧩 Patch polygons included.\n"
     ]
    }
   ],
   "source": [
    "skymap_out_dir = \"/sdf/home/o/olynn/skymap-to-poly-coords/skymaps_out/\"\n",
    "\n",
    "inner_poly_path = Path(skymap_out_dir) / \"inner_polys_with_patches.yaml\"\n",
    "write_polygons_ra_dec(lsst_skymap, inner_poly_path, inner=True, write_patches=True)\n",
    "\n",
    "outer_poly_path = Path(skymap_out_dir) / \"outer_polys.yaml\"\n",
    "write_polygons_ra_dec(lsst_skymap, outer_poly_path, inner=False, write_patches=False)"
   ]
  },
  {
   "cell_type": "markdown",
   "id": "386c61bb",
   "metadata": {},
   "source": [
    "## Option 1B: Recording RA/dec rather than UnitVectors\n",
    "\n",
    "Can we get radec to play well with the lsst.geom interfaces? There's some support for LonLat...\n",
    "\n",
    "todo : description and code"
   ]
  },
  {
   "cell_type": "markdown",
   "id": "4e3616ac",
   "metadata": {},
   "source": [
    "## Option 2: A hybrid approach, because in theory, we can assume a shared min/max declination across each ring?"
   ]
  },
  {
   "cell_type": "markdown",
   "id": "65ba74a2",
   "metadata": {},
   "source": [
    "todo : description and code"
   ]
  },
  {
   "cell_type": "markdown",
   "id": "eca14065",
   "metadata": {},
   "source": [
    "## Option 3: Reconstruct everything using projection + geometry"
   ]
  },
  {
   "cell_type": "markdown",
   "id": "3f58b787",
   "metadata": {},
   "source": [
    "What you'd need to store:  \n",
    "\n",
    "- Global:\n",
    "  - `projection: \"TAN\"`\n",
    "  - `pixel_scale_deg`: (or arcsec/pixel)\n",
    "  - `tract_width`, `tract_height`: in pixels\n",
    "  - `overlap_deg`: or overlap in pixels (need this for inner bounds)\n",
    "\n",
    "- Per-tract:\n",
    "  - `tract_id`\n",
    "  - `center_ra`, `center_dec`\n",
    "  - `rotation` (optional, usually 0)\n",
    "  - `flipX` (optional, for WCS handedness)\n",
    "\n",
    "Then, you reconstruct inner and outer polys by:\n",
    "- Creating a fake `SkyWcs` from these params\n",
    "- Converting pixel corners of `[0,0]` → `[width,height]` to sky coordinates\n",
    "- Optionally applying overlap trimming in pixel space\n",
    "\n",
    "✅ Pros\n",
    "- Super compact: ~2 floats + a few constants per tract\n",
    "- Elegant reuse of LSST projection machinery\n",
    "- One unified format\n",
    "\n",
    "❌ Cons\n",
    "- Requires LSST-style WCS math to reconstruct accurately\n",
    "- Introduces fragility: assumptions about projection type and tract uniformity\n",
    "- Slightly harder to read/debug"
   ]
  },
  {
   "cell_type": "markdown",
   "id": "b0859316",
   "metadata": {},
   "source": []
  }
 ],
 "metadata": {
  "kernelspec": {
   "display_name": "Python 3 (ipykernel)",
   "language": "python",
   "name": "python3"
  },
  "language_info": {
   "codemirror_mode": {
    "name": "ipython",
    "version": 3
   },
   "file_extension": ".py",
   "mimetype": "text/x-python",
   "name": "python",
   "nbconvert_exporter": "python",
   "pygments_lexer": "ipython3",
   "version": "3.12.9"
  }
 },
 "nbformat": 4,
 "nbformat_minor": 5
}
